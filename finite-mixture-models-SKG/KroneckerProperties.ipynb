{
 "cells": [
  {
   "cell_type": "code",
   "execution_count": 1,
   "metadata": {},
   "outputs": [
    {
     "name": "stdout",
     "output_type": "stream",
     "text": [
      "[[0.4631622  0.28945264 0.9762312 ]\n",
      " [0.52267224 0.9738782  0.762737  ]\n",
      " [0.86560017 0.93033075 0.21360742]]\n",
      "(243, 243)\n",
      "(5, 243, 243)\n"
     ]
    }
   ],
   "source": [
    "import os\n",
    "import sys\n",
    "module_path = os.path.abspath(os.path.join('.'))\n",
    "if module_path not in sys.path:\n",
    "    sys.path.append(module_path)\n",
    "    \n",
    "import numpy as np\n",
    "import tensorflow as tf\n",
    "import matplotlib.pyplot as plt\n",
    "\n",
    "\n",
    "from ipynb.fs.full.SampleFromSKGM import kronecker_product"
   ]
  },
  {
   "cell_type": "code",
   "execution_count": 2,
   "metadata": {},
   "outputs": [
    {
     "name": "stdout",
     "output_type": "stream",
     "text": [
      "[[1. 0. 0. 2. 0. 0. 3. 0. 0.]\n",
      " [1. 0. 0. 2. 0. 0. 3. 0. 0.]\n",
      " [1. 1. 0. 2. 2. 0. 3. 3. 0.]\n",
      " [4. 0. 0. 5. 0. 0. 6. 0. 0.]\n",
      " [4. 0. 0. 5. 0. 0. 6. 0. 0.]\n",
      " [4. 4. 0. 5. 5. 0. 6. 6. 0.]\n",
      " [7. 0. 0. 8. 0. 0. 9. 0. 0.]\n",
      " [7. 0. 0. 8. 0. 0. 9. 0. 0.]\n",
      " [7. 7. 0. 8. 8. 0. 9. 9. 0.]]\n"
     ]
    }
   ],
   "source": [
    "a   = np.array([[1,0,0],[1,0,0],[1,1,0]], dtype=float)\n",
    "b   = np.array([[1,2,3],[4,5,6],[7,8,9]], dtype=float)\n",
    "c   = kronecker_product(a,b)\n",
    "\n",
    "sess   = tf.Session()\n",
    "print(sess.run(c))"
   ]
  },
  {
   "cell_type": "code",
   "execution_count": 3,
   "metadata": {
    "scrolled": false
   },
   "outputs": [],
   "source": [
    "d   = kronecker_product(c,a) # a.b.a\n",
    "e   = kronecker_product(a,a)\n",
    "e   = kronecker_product(e,b) # a.a.b\n",
    "\n",
    "f   = kronecker_product(a,a)\n",
    "g   = kronecker_product(b,b)\n",
    "h   = kronecker_product(f,g) # (a.a).(b.b)\n",
    "\n",
    "hh   = kronecker_product(a,a)\n",
    "hh   = kronecker_product(hh,b)\n",
    "hh   = kronecker_product(hh,b) # ((a.a).b).b\n",
    "\n",
    "\n",
    "\n",
    "[d_out, e_out, h_out, hh_out]   = sess.run([d, e, h, hh])\n",
    "\n",
    "# print(d_out)"
   ]
  },
  {
   "cell_type": "code",
   "execution_count": 4,
   "metadata": {},
   "outputs": [
    {
     "data": {
      "text/plain": [
       "Text(0.5, 1.0, '((a . a) . b) . b')"
      ]
     },
     "execution_count": 4,
     "metadata": {},
     "output_type": "execute_result"
    },
    {
     "data": {
      "image/png": "[encoded data removed]",
      "text/plain": [
       "<Figure size 432x288 with 2 Axes>"
      ]
     },
     "metadata": {
      "needs_background": "light"
     },
     "output_type": "display_data"
    },
    {
     "data": {
      "image/png": "[encoded data removed]",
      "text/plain": [
       "<Figure size 432x288 with 2 Axes>"
      ]
     },
     "metadata": {
      "needs_background": "light"
     },
     "output_type": "display_data"
    },
    {
     "data": {
      "image/png": "[encoded data removed]",
      "text/plain": [
       "<Figure size 432x288 with 2 Axes>"
      ]
     },
     "metadata": {
      "needs_background": "light"
     },
     "output_type": "display_data"
    }
   ],
   "source": [
    "plt.figure()\n",
    "plt.suptitle('base matrices')\n",
    "plt.subplot(1,2,1)\n",
    "plt.imshow(a)\n",
    "plt.title('a')\n",
    "plt.subplot(1,2,2)\n",
    "plt.imshow(b)\n",
    "plt.title('b')\n",
    "\n",
    "plt.figure()\n",
    "plt.suptitle('Comparing for commutative property:')\n",
    "plt.subplot(1,2,1)\n",
    "plt.imshow(d_out)\n",
    "plt.title('a . b . a')\n",
    "plt.subplot(1,2,2)\n",
    "plt.imshow(e_out)\n",
    "plt.title('a . a . b')\n",
    "\n",
    "\n",
    "plt.figure()\n",
    "plt.suptitle('Comparing for associative property:')\n",
    "plt.subplot(1,2,1)\n",
    "plt.imshow(h_out)\n",
    "plt.title('(a . a).(b . b)')\n",
    "plt.subplot(1,2,2)\n",
    "plt.imshow(hh_out)\n",
    "plt.title('((a . a) . b) . b')"
   ]
  }
 ],
 "metadata": {
  "kernelspec": {
   "display_name": "Python 3",
   "language": "python",
   "name": "python3"
  },
  "language_info": {
   "codemirror_mode": {
    "name": "ipython",
    "version": 3
   },
   "file_extension": ".py",
   "mimetype": "text/x-python",
   "name": "python",
   "nbconvert_exporter": "python",
   "pygments_lexer": "ipython3",
   "version": "3.6.7"
  }
 },
 "nbformat": 4,
 "nbformat_minor": 2
}
