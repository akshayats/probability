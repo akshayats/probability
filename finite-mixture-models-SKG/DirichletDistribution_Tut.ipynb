{
 "cells": [
  {
   "cell_type": "markdown",
   "metadata": {},
   "source": [
    "Here we will test the Dirichlet Process as examples from the tutorial of TFP.\n"
   ]
  },
  {
   "cell_type": "code",
   "execution_count": 11,
   "metadata": {},
   "outputs": [],
   "source": [
    "import numpy as np\n",
    "import tensorflow as tf\n",
    "import tensorflow_probability as tfp\n",
    "tfd = tfp.distributions"
   ]
  },
  {
   "cell_type": "markdown",
   "metadata": {},
   "source": [
    "Copy pasting the examples from the webpage:\n",
    "https://www.tensorflow.org/probability/api_docs/python/tfp/distributions/DirichletMultinomial\n",
    "\n",
    "Multinomial Dirichlet distribution is a distribution over...\n",
    "histograms / counts of multiclass indicator vectors.\n",
    "\n",
    "That is: \n",
    "* Consider a K>2 number of classes\n",
    "* Consider a multinomial distribution over these K classes --> [p_0, p_1, ..., p_K-1]\n",
    "* Consider indicator vectors of length K to be samples from the multinomial distribution \n",
    "* Each vector has a 1 in the position corresponding to the k'th class of [0 to K-1]\n",
    "* Consider drawing N of these vectors from such a distribution\n",
    "* Count the classes of these N vectors. It gives a K length **count** vector: [n_0, n_1, ..., n_K-1]\n",
    "* For a particular N, a multinomial-dirichlet distribution gives the probability for every such possible count vector\n",
    "\n",
    "*Note: If the count of any particular class is zero in the count vector, the probability computation seems to fail in the math (Bishop)!!*"
   ]
  },
  {
   "cell_type": "markdown",
   "metadata": {},
   "source": [
    "####  Invoke the distribution with some typical settings"
   ]
  },
  {
   "cell_type": "code",
   "execution_count": 59,
   "metadata": {},
   "outputs": [],
   "source": [
    "alpha = [1., 2., 3.] # Concentration\n",
    "n = 60. # Total count\n",
    "dist = tfd.DirichletMultinomial(n, alpha)"
   ]
  },
  {
   "cell_type": "markdown",
   "metadata": {},
   "source": [
    "#### Compute some examples"
   ]
  },
  {
   "cell_type": "code",
   "execution_count": 80,
   "metadata": {},
   "outputs": [],
   "source": [
    "# eg.1 counts same shape as alpha.\n",
    "# counts = [0., 0., 2.]\n",
    "# dist.prob(counts)  # Shape []\n",
    "\n",
    "# eg.2 alpha will be broadcast to [[1., 2., 3.], [1., 2., 3.]] to match counts.\n",
    "# counts = [[1., 59., 0.], [10., 20., 30.]]\n",
    "counts = tf.placeholder(tf.float32, shape=(2,3))\n",
    "P = dist.prob(counts)  # Shape [2]\n",
    "\n",
    "# Draw a sample from the distribution\n",
    "smpl = dist.sample()\n",
    "P_smpl = dist.prob(smpl)\n",
    "\n",
    "# alpha will be broadcast to shape [5, 7, 3] to match counts.\n",
    "# counts = [[...]]  # Shape [5, 7, 3]\n",
    "# dist.prob(counts)  # Shape [5, 7]\n"
   ]
  },
  {
   "cell_type": "markdown",
   "metadata": {},
   "source": [
    "####  Run the session and print some values"
   ]
  },
  {
   "cell_type": "code",
   "execution_count": 100,
   "metadata": {},
   "outputs": [
    {
     "name": "stdout",
     "output_type": "stream",
     "text": [
      "Probability of \n",
      "[[1.0, 59.0, 0.0], [10.0, 20.0, 30.0]] is:\n",
      "[7.2636626e-06 1.2610100e-03]\n",
      "\n",
      "\n",
      "A Sample from the distribution: [ 5. 45. 10.]\n",
      "Probability of above sample: 0.00036755765904672444\n"
     ]
    }
   ],
   "source": [
    "counts_ = [[1., 59., 0.], [10., 20., 30.]]\n",
    "sess = tf.Session()\n",
    "[sP,ssmpl, sP_smpl] = sess.run([P,smpl, P_smpl], feed_dict={counts:counts_})\n",
    "print('Probability of \\n{} is:\\n{}'.format(counts_, sP))\n",
    "print('\\n\\nA Sample from the distribution: {}'.format(ssmpl))\n",
    "print('Probability of above sample: {}'.format(sP_smpl))"
   ]
  }
 ],
 "metadata": {
  "kernelspec": {
   "display_name": "Python 3",
   "language": "python",
   "name": "python3"
  },
  "language_info": {
   "codemirror_mode": {
    "name": "ipython",
    "version": 3
   },
   "file_extension": ".py",
   "mimetype": "text/x-python",
   "name": "python",
   "nbconvert_exporter": "python",
   "pygments_lexer": "ipython3",
   "version": "3.6.7"
  }
 },
 "nbformat": 4,
 "nbformat_minor": 2
}
