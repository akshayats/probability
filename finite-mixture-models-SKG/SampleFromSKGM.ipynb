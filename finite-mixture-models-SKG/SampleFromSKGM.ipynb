{
 "cells": [
  {
   "cell_type": "markdown",
   "metadata": {},
   "source": [
    "# Stochastic Kronecker Graphical Models - A Finite Mixture Model\n"
   ]
  },
  {
   "cell_type": "markdown",
   "metadata": {},
   "source": [
    "We propose the mixture model below for stochastic kronecker graph solutions\n",
    "\n",
    "\n",
    "\n",
    "<img src=\"mix_model_1.png\" style=\"width: 30%\" align=\"left\">"
   ]
  },
  {
   "cell_type": "markdown",
   "metadata": {},
   "source": [
    "In the following, we will implement our mixture model and generate examples from it."
   ]
  },
  {
   "cell_type": "code",
   "execution_count": 1,
   "metadata": {},
   "outputs": [],
   "source": [
    "# All imports\n",
    "import matplotlib.pyplot as plt\n",
    "import numpy as np\n",
    "\n",
    "import tensorflow as tf\n",
    "import tensorflow_probability as tfp\n",
    "tfd = tfp.distributions"
   ]
  },
  {
   "cell_type": "markdown",
   "metadata": {},
   "source": [
    "## Methods being used:"
   ]
  },
  {
   "cell_type": "code",
   "execution_count": 2,
   "metadata": {},
   "outputs": [],
   "source": [
    "def kronecker_product(mat1, mat2):\n",
    "    m1 = tf.shape(mat1)[0]\n",
    "    n1 = tf.size(mat1) // m1\n",
    "    m2 = tf.shape(mat2)[0]\n",
    "    n2 = tf.size(mat2) // m2\n",
    "    mat2_rsh =tf.reshape(mat1, [1, m1, 1, n1])\n",
    "    mat1_rsh =tf.reshape(mat2, [m2, 1, n2, 1])\n",
    "    return tf.reshape(mat1_rsh*mat2_rsh, [m1 * m2, n1 * n2])"
   ]
  },
  {
   "cell_type": "code",
   "execution_count": 3,
   "metadata": {},
   "outputs": [],
   "source": [
    "def addNoise2Mat(mat, mean=0, std=0.01, NRMLZ=True):\n",
    "    # Set the seed so the results are reproducible.\n",
    "    np.random.seed(123)\n",
    "    # Make distribution, sample and add\n",
    "    p_eta = tfd.Normal(loc=mean, scale=std, name='AdditiveEdgeNoise')\n",
    "    eta_c = p_eta.sample(tf.shape(mat))\n",
    "    mat_noise = mat + eta_c\n",
    "    # Make sure values do not run off\n",
    "    # Clip values out of [0,1]\n",
    "    if NRMLZ:\n",
    "        mat_noise_nrml   = tf.maximum(tf.minimum(mat_noise,1),0)\n",
    "        return mat_noise_nrml\n",
    "    else:\n",
    "        return mat_noise"
   ]
  },
  {
   "cell_type": "markdown",
   "metadata": {},
   "source": [
    "### Parameters:"
   ]
  },
  {
   "cell_type": "code",
   "execution_count": 4,
   "metadata": {},
   "outputs": [],
   "source": [
    "theta_shape   = np.array([3,3])\n",
    "alpha_        = [1.0]\n",
    "beta_         = [1.0]\n",
    "K             = 5\n",
    "NoiseScale    = 0.1\n",
    "\n",
    "# Run Parameters\n",
    "NumSamples    = 5"
   ]
  },
  {
   "cell_type": "markdown",
   "metadata": {},
   "source": [
    "### Mixture Model implementation:"
   ]
  },
  {
   "cell_type": "markdown",
   "metadata": {},
   "source": [
    "Our mixture model still uses the layered network structure proposed in the work of Stochastic Kronecker Graphs. It relaxes the assumption that the $\\theta$ at every kronecker layer is the same. Which means the following:\n",
    "\n",
    "* $G$ is the adjacency matrix of a large network whose size is $\\scriptsize N^K \\times N^K$\n",
    "* $G \\sim \\Phi$ which is a set of independent binomial distributions on the occurrence of edges\n",
    "* We assume a set of $\\theta_k$ make up the $\\Phi$ through successive kronecker products\n",
    "    \n",
    "    $\\Phi   = \\theta^{(1)}\\otimes \\theta^{(2)} \\otimes \\dots \\theta^{(k)} \\dots \\otimes \\theta^{(K)}$\n",
    "* If we assume the sizes of each of these $\\theta^{(k)}$ are fixed to $N\\times N$, then $\\Phi_{N^K\\times N^k}$\n",
    "* Further according to our mixture model we allow each $\\theta^{(k)}$ to be of a particular \"basis\" or \"class\". That is  $\\theta^{(k)} \\in [\\theta_1, \\theta_2, \\dots, \\theta_m, \\dots, \\theta_M]_{M\\rightarrow\\infty}$ because we want to model that $\\theta^{(k)}$ is drawn from a continuous distribution as shown in our mixture model.\n"
   ]
  },
  {
   "cell_type": "markdown",
   "metadata": {},
   "source": [
    "In the following sections we implement the above mixture model in pieces."
   ]
  },
  {
   "cell_type": "markdown",
   "metadata": {},
   "source": [
    "We propose two log-normal distributions which generate $\\alpha_k$ and $\\beta_k$ values for every $k \\in K$"
   ]
  },
  {
   "cell_type": "code",
   "execution_count": 15,
   "metadata": {},
   "outputs": [],
   "source": [
    "# Sample from separate log-normal distributions to get K number of values for alpha and beta\n",
    "# Setup parameters\n",
    "sig_a = tf.placeholder_with_default([1.0], [1]) # skew parameter TUNE\n",
    "sig_b = tf.placeholder_with_default([1.0], [1]) # skew parameter TUNE\n",
    "mean_a  = tf.placeholder_with_default([0.0], [1]) # mean parameter TUNE\n",
    "mean_b  = tf.placeholder_with_default([0.0], [1]) # mean parameter TUNE\n",
    "# Make log-normal distributions\n",
    "alpha_batch_shape   = tf.placeholder(tf.int32)\n",
    "beta_batch_shape    = alpha_batch_shape\n",
    "gamma_a   = tfd.LogNormal(loc=mean_a, scale=sig_a)\n",
    "gamma_b   = tfd.LogNormal(loc=mean_b, scale=sig_b)\n",
    "# Sample from the distributions\n",
    "# alpha_batch   = tf.squeeze(gamma_a.sample(alpha_batch_shape), axis=2)\n",
    "# beta_batch    = tf.squeeze(gamma_b.sample(beta_batch_shape), axis=2)\n",
    "alpha_batch   = gamma_a.sample(alpha_batch_shape)\n",
    "beta_batch    = gamma_b.sample(beta_batch_shape)"
   ]
  },
  {
   "cell_type": "code",
   "execution_count": 6,
   "metadata": {},
   "outputs": [],
   "source": [
    "# Build K number of Beta distributions from alpha and beta values"
   ]
  },
  {
   "cell_type": "code",
   "execution_count": 7,
   "metadata": {},
   "outputs": [],
   "source": [
    "# Each Beta distribution generates theta_ij values for a single theta"
   ]
  },
  {
   "cell_type": "code",
   "execution_count": 8,
   "metadata": {},
   "outputs": [],
   "source": [
    "# Sample from mu_k for theta_ij values\n",
    "alpha  = tf.placeholder_with_default([1.0], [1])\n",
    "beta   = tf.placeholder_with_default([1.0], [1])\n",
    "mu_batch_shape   = tf.placeholder(tf.int32)\n",
    "p_mu   = tfd.Beta(alpha, beta, name='Mu_distb')\n",
    "mu_batch  = tf.squeeze(p_mu.sample(mu_batch_shape),axis=2)\n",
    "theta_c   = mu_batch"
   ]
  },
  {
   "cell_type": "markdown",
   "metadata": {},
   "source": [
    "Use the mu samples as thresholds for theta Bernoulli distributions of edges."
   ]
  },
  {
   "cell_type": "code",
   "execution_count": 9,
   "metadata": {},
   "outputs": [],
   "source": [
    "# Use the mu samples as thresholds for \n",
    "# theta Bernoulli distributions of edges\n",
    "theta_c_distb = tfd.Bernoulli(probs=mu_batch, name='theta_c') # Actually never used"
   ]
  },
  {
   "cell_type": "markdown",
   "metadata": {},
   "source": [
    "Kronecker multiply to obtain the $P_{kc}$"
   ]
  },
  {
   "cell_type": "code",
   "execution_count": 10,
   "metadata": {},
   "outputs": [],
   "source": [
    "Pk_c   = addNoise2Mat(theta_c)\n",
    "for i in range(1,K):\n",
    "    # Add noise to the theta\n",
    "    itheta_c   =  addNoise2Mat(theta_c, std=NoiseScale)\n",
    "    # Do kronecker product\n",
    "    Pk_c   = kronecker_product(Pk_c, itheta_c)"
   ]
  },
  {
   "cell_type": "markdown",
   "metadata": {},
   "source": [
    "Sample from the $P_{kc}$"
   ]
  },
  {
   "cell_type": "code",
   "execution_count": 11,
   "metadata": {},
   "outputs": [],
   "source": [
    "Pk_c_distb   = tfd.Bernoulli(probs=Pk_c, name='Pk_c')\n",
    "G_c          = Pk_c_distb.sample(NumSamples)\n"
   ]
  },
  {
   "cell_type": "markdown",
   "metadata": {},
   "source": [
    "### Run and Plot:"
   ]
  },
  {
   "cell_type": "code",
   "execution_count": 23,
   "metadata": {
    "scrolled": false
   },
   "outputs": [],
   "source": [
    "sess = tf.Session()\n",
    "[G, Pk_c_s, theta_c,\n",
    "alphas, betas] = sess.run([G_c, Pk_c, mu_batch, alpha_batch, beta_batch], \n",
    "                                feed_dict={alpha_batch_shape:K,\n",
    "                                           mu_batch_shape:theta_shape,\n",
    "                                           alpha:alpha_,\n",
    "                                           beta:beta_\n",
    "                                          })"
   ]
  },
  {
   "cell_type": "code",
   "execution_count": 24,
   "metadata": {},
   "outputs": [
    {
     "name": "stdout",
     "output_type": "stream",
     "text": [
      "[[0.45801908 0.6611912  0.4068462 ]\n",
      " [0.42057243 0.7712149  0.3919477 ]\n",
      " [0.9296573  0.8917694  0.94099075]]\n",
      "(243, 243)\n",
      "(5, 243, 243)\n",
      "[[2.857814  ]\n",
      " [4.4424815 ]\n",
      " [2.4192693 ]\n",
      " [9.170482  ]\n",
      " [0.44736078]]\n",
      "[[0.2581925 ]\n",
      " [1.0581003 ]\n",
      " [0.84890056]\n",
      " [0.7690706 ]\n",
      " [0.83538413]]\n"
     ]
    }
   ],
   "source": [
    "print(theta_c)\n",
    "print(Pk_c_s.shape)\n",
    "print(G.shape)\n",
    "print(alphas)\n",
    "print(betas)"
   ]
  },
  {
   "cell_type": "code",
   "execution_count": null,
   "metadata": {},
   "outputs": [],
   "source": [
    "import matplotlib.pyplot as plt\n",
    "plt.figure()\n",
    "plt.subplot(1,2,1)\n",
    "plt.imshow(theta_c)\n",
    "plt.title('theta_c')\n",
    "\n",
    "plt.subplot(1,2,2)\n",
    "plt.imshow(Pk_c_s)\n",
    "plt.title('P_k_c')"
   ]
  },
  {
   "cell_type": "code",
   "execution_count": null,
   "metadata": {},
   "outputs": [],
   "source": [
    "plt.figure()\n",
    "plt.title('All samples')\n",
    "r = np.floor(np.sqrt(NumSamples))\n",
    "c = np.ceil(float(NumSamples)/r)\n",
    "for i in range(0,NumSamples):\n",
    "    plt.subplot(r,c,i+1)\n",
    "    plt.spy(G[i,:], markersize=0.1)"
   ]
  },
  {
   "cell_type": "code",
   "execution_count": null,
   "metadata": {},
   "outputs": [],
   "source": []
  }
 ],
 "metadata": {
  "kernelspec": {
   "display_name": "Python 3",
   "language": "python",
   "name": "python3"
  },
  "language_info": {
   "codemirror_mode": {
    "name": "ipython",
    "version": 3
   },
   "file_extension": ".py",
   "mimetype": "text/x-python",
   "name": "python",
   "nbconvert_exporter": "python",
   "pygments_lexer": "ipython3",
   "version": "3.6.7"
  }
 },
 "nbformat": 4,
 "nbformat_minor": 2
}
