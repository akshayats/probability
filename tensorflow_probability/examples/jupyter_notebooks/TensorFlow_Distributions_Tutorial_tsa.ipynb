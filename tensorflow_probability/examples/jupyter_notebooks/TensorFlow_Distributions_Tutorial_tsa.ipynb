{
 "cells": [
  {
   "cell_type": "markdown",
   "metadata": {
    "colab_type": "text",
    "id": "Fqp93JixVuiN"
   },
   "source": [
    "##### Copyright 2018 The TensorFlow Authors.\n",
    "\n",
    "Licensed under the Apache License, Version 2.0 (the \"License\");"
   ]
  },
  {
   "cell_type": "code",
   "execution_count": 1,
   "metadata": {
    "colab": {},
    "colab_type": "code",
    "id": "MeKZo1dnV1cE"
   },
   "outputs": [],
   "source": [
    "#@title Licensed under the Apache License, Version 2.0 (the \"License\"); { display-mode: \"form\" }\n",
    "# you may not use this file except in compliance with the License.\n",
    "# You may obtain a copy of the License at\n",
    "#\n",
    "# https://www.apache.org/licenses/LICENSE-2.0\n",
    "#\n",
    "# Unless required by applicable law or agreed to in writing, software\n",
    "# distributed under the License is distributed on an \"AS IS\" BASIS,\n",
    "# WITHOUT WARRANTIES OR CONDITIONS OF ANY KIND, either express or implied.\n",
    "# See the License for the specific language governing permissions and\n",
    "# limitations under the License."
   ]
  },
  {
   "cell_type": "markdown",
   "metadata": {
    "colab_type": "text",
    "id": "DcriL2xPrG3_"
   },
   "source": [
    "# TensorFlow Distributions: A Gentle Introduction\n",
    "\n",
    "<table class=\"tfo-notebook-buttons\" align=\"left\">\n",
    "  <td>\n",
    "    <a target=\"_blank\" href=\"https://colab.research.google.com/github/tensorflow/probability/blob/master/tensorflow_probability/examples/jupyter_notebooks/TensorFlow_Distributions_Tutorial.ipynb\"><img src=\"https://www.tensorflow.org/images/colab_logo_32px.png\" />Run in Google Colab</a>\n",
    "  </td>\n",
    "  <td>\n",
    "    <a target=\"_blank\" href=\"https://github.com/tensorflow/probability/blob/master/tensorflow_probability/examples/jupyter_notebooks/TensorFlow_Distributions_Tutorial.ipynb\"><img src=\"https://www.tensorflow.org/images/GitHub-Mark-32px.png\" />View source on GitHub</a>\n",
    "  </td>\n",
    "</table>"
   ]
  },
  {
   "cell_type": "markdown",
   "metadata": {
    "colab_type": "text",
    "id": "10i0wSQfJClb"
   },
   "source": [
    "In this notebook, we'll explore TensorFlow Distributions (TFD for short). The goal of this notebook is to get you gently up the learning curve, including understanding TFD's handling of tensor shapes. This notebook tries to present examples before rather than abstract concepts. We'll present canonical easy ways to do things first, and save the most general abstract view until the end. If you're the type who prefers a more abstract and reference-style tutorial, check out [Understanding TensorFlow Distributions Shapes](https://github.com/tensorflow/probability/blob/master/tensorflow_probability/examples/jupyter_notebooks/Understanding_TensorFlow_Distributions_Shapes.ipynb). If you have any questions about the material here, don't hesitate to contact (or join) [the TensorFlow Probability mailing list](https://groups.google.com/a/tensorflow.org/forum/#!forum/tfprobability). We're happy to help."
   ]
  },
  {
   "cell_type": "markdown",
   "metadata": {
    "colab_type": "text",
    "id": "kII2QSIEJn0X"
   },
   "source": [
    "Before we start, we need to import the appropriate libraries. Our overall library is `tensorflow_probability`. By convention, we generally refer to the distributions library as `tfd`.\n",
    "\n",
    "[Tensorflow Eager](https://www.tensorflow.org/guide/eager) is an imperative execution environment for TensorFlow. In TensorFlow eager, every TF operation is immediately evaluated and produces a result. This is in contrast to TensorFlow's standard \"graph\" mode, in which TF operations add nodes to a graph which is later executed. This entire notebook is written using TF Eager, although none of the concepts presented here rely on that, and TFP can be used in graph mode."
   ]
  },
  {
   "cell_type": "code",
   "execution_count": 2,
   "metadata": {
    "colab": {},
    "colab_type": "code",
    "id": "wRbk6w-C9oaR"
   },
   "outputs": [],
   "source": [
    "#!pip install -q tensorflow-probability"
   ]
  },
  {
   "cell_type": "code",
   "execution_count": 3,
   "metadata": {
    "colab": {},
    "colab_type": "code",
    "id": "J6t0EUihrG4B"
   },
   "outputs": [],
   "source": [
    "from __future__ import print_function\n",
    "import collections\n",
    "\n",
    "import tensorflow as tf\n",
    "import tensorflow_probability as tfp\n",
    "tfd = tfp.distributions\n",
    "\n",
    "tfe = tf.contrib.eager\n",
    "try:\n",
    "  tfe.enable_eager_execution()\n",
    "except ValueError:\n",
    "  pass\n",
    "\n",
    "import matplotlib.pyplot as plt\n",
    "import numpy as np\n"
   ]
  },
  {
   "cell_type": "markdown",
   "metadata": {
    "colab_type": "text",
    "id": "QD5lzFZerG4H"
   },
   "source": [
    "## Basic Univariate Distributions\n"
   ]
  },
  {
   "cell_type": "markdown",
   "metadata": {
    "colab_type": "text",
    "id": "Gos16Z82LSQQ"
   },
   "source": [
    "Let's dive right in and create a normal distribution:"
   ]
  },
  {
   "cell_type": "code",
   "execution_count": 4,
   "metadata": {
    "colab": {
     "base_uri": "https://localhost:8080/",
     "height": 34
    },
    "colab_type": "code",
    "id": "r3zofkWpLEvY",
    "outputId": "3e8505be-04d5-4efb-d5c9-38aac70654b8"
   },
   "outputs": [
    {
     "data": {
      "text/plain": [
       "<tfp.distributions.Normal 'Normal/' batch_shape=() event_shape=() dtype=float32>"
      ]
     },
     "execution_count": 4,
     "metadata": {},
     "output_type": "execute_result"
    }
   ],
   "source": [
    "n = tfd.Normal(loc=0., scale=1.)\n",
    "n"
   ]
  },
  {
   "cell_type": "markdown",
   "metadata": {
    "colab_type": "text",
    "id": "7rlXP5HaLVsc"
   },
   "source": [
    "We can draw a sample from it:"
   ]
  },
  {
   "cell_type": "code",
   "execution_count": 5,
   "metadata": {
    "colab": {
     "base_uri": "https://localhost:8080/",
     "height": 34
    },
    "colab_type": "code",
    "id": "14RRJONELX3O",
    "outputId": "ede9fc2a-749a-4d4b-9b3c-f37e24817328"
   },
   "outputs": [
    {
     "data": {
      "text/plain": [
       "<tf.Tensor: id=23, shape=(), dtype=float32, numpy=-0.4692294>"
      ]
     },
     "execution_count": 5,
     "metadata": {},
     "output_type": "execute_result"
    }
   ],
   "source": [
    "n.sample()"
   ]
  },
  {
   "cell_type": "markdown",
   "metadata": {
    "colab_type": "text",
    "id": "NsDAltf5Le33"
   },
   "source": [
    "We can draw multiple samples:"
   ]
  },
  {
   "cell_type": "code",
   "execution_count": 6,
   "metadata": {
    "colab": {
     "base_uri": "https://localhost:8080/",
     "height": 34
    },
    "colab_type": "code",
    "id": "v5jdTzbqLhrl",
    "outputId": "1d6619a0-4855-4e4b-f884-9f3a4587b034"
   },
   "outputs": [
    {
     "data": {
      "text/plain": [
       "<tf.Tensor: id=47, shape=(3,), dtype=float32, numpy=array([ 0.55654573,  0.69937605,  1.33116734], dtype=float32)>"
      ]
     },
     "execution_count": 6,
     "metadata": {},
     "output_type": "execute_result"
    }
   ],
   "source": [
    "n.sample(3)"
   ]
  },
  {
   "cell_type": "markdown",
   "metadata": {
    "colab_type": "text",
    "id": "4wX5cjUXLmrD"
   },
   "source": [
    "We can evaluate a log prob:"
   ]
  },
  {
   "cell_type": "code",
   "execution_count": 7,
   "metadata": {
    "colab": {
     "base_uri": "https://localhost:8080/",
     "height": 34
    },
    "colab_type": "code",
    "id": "hrCTzv2cLoLw",
    "outputId": "8a4ded54-7a40-47db-fef4-a9cd72201f90"
   },
   "outputs": [
    {
     "name": "stdout",
     "output_type": "stream",
     "text": [
      "tf.Tensor(-1.41894, shape=(), dtype=float32)\n",
      "tf.Tensor(0.241971, shape=(), dtype=float32)\n",
      "-1.41893739472\n"
     ]
    },
    {
     "data": {
      "text/plain": [
       "numpy.float32"
      ]
     },
     "execution_count": 7,
     "metadata": {},
     "output_type": "execute_result"
    }
   ],
   "source": [
    "n.log_prob(0.)\n",
    "print(n.log_prob(1.))\n",
    "print(n.prob(1.))\n",
    "print(np.log(0.241971))\n",
    "type(n.prob(1.).numpy())"
   ]
  },
  {
   "cell_type": "markdown",
   "metadata": {
    "colab_type": "text",
    "id": "lHYIb0psLrzE"
   },
   "source": [
    "We can evaluate multiple log probabilities:"
   ]
  },
  {
   "cell_type": "code",
   "execution_count": 8,
   "metadata": {
    "colab": {
     "base_uri": "https://localhost:8080/",
     "height": 34
    },
    "colab_type": "code",
    "id": "4dgwzazNLw6H",
    "outputId": "32ef6ae1-89e9-4a20-877a-cadd481e17ef"
   },
   "outputs": [
    {
     "data": {
      "text/plain": [
       "<tf.Tensor: id=104, shape=(3,), dtype=float32, numpy=array([-0.91893852, -2.91893864, -8.91893864], dtype=float32)>"
      ]
     },
     "execution_count": 8,
     "metadata": {},
     "output_type": "execute_result"
    }
   ],
   "source": [
    "n.log_prob([0., 2., 4.])"
   ]
  },
  {
   "cell_type": "markdown",
   "metadata": {
    "colab_type": "text",
    "id": "mY5hHMClL-i1"
   },
   "source": [
    "We have a wide range of distributions. Let's try a Bernoulli:"
   ]
  },
  {
   "cell_type": "code",
   "execution_count": 9,
   "metadata": {
    "colab": {
     "base_uri": "https://localhost:8080/",
     "height": 34
    },
    "colab_type": "code",
    "id": "OIJErPQWMDfP",
    "outputId": "32cf6e94-3fd8-42d3-ec93-be5b6ee9ca75"
   },
   "outputs": [
    {
     "data": {
      "text/plain": [
       "<tfp.distributions.Bernoulli 'Bernoulli/' batch_shape=() event_shape=() dtype=int32>"
      ]
     },
     "execution_count": 9,
     "metadata": {},
     "output_type": "execute_result"
    }
   ],
   "source": [
    "b = tfd.Bernoulli(probs=0.7)\n",
    "b"
   ]
  },
  {
   "cell_type": "code",
   "execution_count": 10,
   "metadata": {
    "colab": {
     "base_uri": "https://localhost:8080/",
     "height": 34
    },
    "colab_type": "code",
    "id": "oqDcgYE8Mck2",
    "outputId": "93fd5c06-3cb5-4423-fa63-07b9096d145d"
   },
   "outputs": [
    {
     "data": {
      "text/plain": [
       "<tf.Tensor: id=133, shape=(), dtype=int32, numpy=0>"
      ]
     },
     "execution_count": 10,
     "metadata": {},
     "output_type": "execute_result"
    }
   ],
   "source": [
    "b.sample()"
   ]
  },
  {
   "cell_type": "code",
   "execution_count": 11,
   "metadata": {
    "colab": {
     "base_uri": "https://localhost:8080/",
     "height": 34
    },
    "colab_type": "code",
    "id": "6HbbzPNTMgXh",
    "outputId": "c08b6f20-a6c3-4ac1-c738-7f8c7745e00d"
   },
   "outputs": [
    {
     "data": {
      "text/plain": [
       "<tf.Tensor: id=158, shape=(8,), dtype=int32, numpy=array([1, 1, 1, 1, 1, 1, 1, 1], dtype=int32)>"
      ]
     },
     "execution_count": 11,
     "metadata": {},
     "output_type": "execute_result"
    }
   ],
   "source": [
    "b.sample(8)"
   ]
  },
  {
   "cell_type": "code",
   "execution_count": 12,
   "metadata": {
    "colab": {
     "base_uri": "https://localhost:8080/",
     "height": 34
    },
    "colab_type": "code",
    "id": "LNy0tIKmMuL3",
    "outputId": "fd5660c1-6869-45b5-d3d3-7bb073ec22bb"
   },
   "outputs": [
    {
     "data": {
      "text/plain": [
       "<tf.Tensor: id=174, shape=(), dtype=float32, numpy=-0.35667494>"
      ]
     },
     "execution_count": 12,
     "metadata": {},
     "output_type": "execute_result"
    }
   ],
   "source": [
    "b.log_prob(1)"
   ]
  },
  {
   "cell_type": "code",
   "execution_count": 13,
   "metadata": {
    "colab": {
     "base_uri": "https://localhost:8080/",
     "height": 34
    },
    "colab_type": "code",
    "id": "sghhA8onM0IN",
    "outputId": "06985a12-bbba-471f-94f1-4304e99306fa"
   },
   "outputs": [
    {
     "data": {
      "text/plain": [
       "<tf.Tensor: id=197, shape=(4,), dtype=float32, numpy=array([-0.35667494, -1.20397282, -0.35667494, -1.20397282], dtype=float32)>"
      ]
     },
     "execution_count": 13,
     "metadata": {},
     "output_type": "execute_result"
    }
   ],
   "source": [
    "b.log_prob([1, 0, 1, 0])"
   ]
  },
  {
   "cell_type": "markdown",
   "metadata": {
    "colab_type": "text",
    "id": "ztM2d-N9nNX2"
   },
   "source": [
    "## Multivariate Distributions"
   ]
  },
  {
   "cell_type": "markdown",
   "metadata": {
    "colab_type": "text",
    "id": "MT2ZyGCoHMla"
   },
   "source": [
    "We'll create a multivariate normal with a diagonal covariance:"
   ]
  },
  {
   "cell_type": "code",
   "execution_count": 14,
   "metadata": {
    "colab": {
     "base_uri": "https://localhost:8080/",
     "height": 34
    },
    "colab_type": "code",
    "id": "MuFrhR4enQI5",
    "outputId": "0d7d7748-3a15-4af6-fbcd-3b0dce458978"
   },
   "outputs": [
    {
     "data": {
      "text/plain": [
       "<tfp.distributions.MultivariateNormalDiag 'MultivariateNormalDiag/' batch_shape=() event_shape=(2,) dtype=float32>"
      ]
     },
     "execution_count": 14,
     "metadata": {},
     "output_type": "execute_result"
    }
   ],
   "source": [
    "nd = tfd.MultivariateNormalDiag(loc=[0., 10.], scale_diag=[1., 4.])\n",
    "nd"
   ]
  },
  {
   "cell_type": "markdown",
   "metadata": {
    "colab_type": "text",
    "id": "QUcnlm3vHFRj"
   },
   "source": [
    "Comparing this to the univariate normal we created earlier, what's different? "
   ]
  },
  {
   "cell_type": "code",
   "execution_count": 15,
   "metadata": {
    "colab": {
     "base_uri": "https://localhost:8080/",
     "height": 34
    },
    "colab_type": "code",
    "id": "ggInhJ-LHVhR",
    "outputId": "c4f41e0a-0fa4-4680-d825-86a35977b5f6"
   },
   "outputs": [
    {
     "data": {
      "text/plain": [
       "<tfp.distributions.Normal 'Normal/' batch_shape=() event_shape=() dtype=float32>"
      ]
     },
     "execution_count": 15,
     "metadata": {},
     "output_type": "execute_result"
    }
   ],
   "source": [
    "tfd.Normal(loc=0., scale=1.)"
   ]
  },
  {
   "cell_type": "markdown",
   "metadata": {
    "colab_type": "text",
    "id": "0ze8A19LnqO5"
   },
   "source": [
    "We see that the univariate normal has an `event_shape` of `()`, indicating it's a scalar distribution. The multivariate normal has an `event_shape` of `2`, indicating the basic [event space](https://en.wikipedia.org/wiki/Event_(probability_theory&#41;) of this distribution is two-dimensional."
   ]
  },
  {
   "cell_type": "markdown",
   "metadata": {
    "colab_type": "text",
    "id": "lJTTGCuuHpf5"
   },
   "source": [
    "Sampling works just as before:"
   ]
  },
  {
   "cell_type": "code",
   "execution_count": 16,
   "metadata": {
    "colab": {
     "base_uri": "https://localhost:8080/",
     "height": 34
    },
    "colab_type": "code",
    "id": "xQzfj0vHnw-5",
    "outputId": "9f3336da-61f2-44cf-831e-321d3f0777cb"
   },
   "outputs": [
    {
     "data": {
      "text/plain": [
       "<tf.Tensor: id=321, shape=(2,), dtype=float32, numpy=array([ 0.78923386,  7.33323669], dtype=float32)>"
      ]
     },
     "execution_count": 16,
     "metadata": {},
     "output_type": "execute_result"
    }
   ],
   "source": [
    "nd.sample()"
   ]
  },
  {
   "cell_type": "code",
   "execution_count": 17,
   "metadata": {
    "colab": {
     "base_uri": "https://localhost:8080/",
     "height": 119
    },
    "colab_type": "code",
    "id": "dSyxxVmNnzT1",
    "outputId": "7d87a4d0-1a63-4c56-cf25-f17ba1ecdb07"
   },
   "outputs": [
    {
     "data": {
      "text/plain": [
       "<tf.Tensor: id=375, shape=(5, 2), dtype=float32, numpy=\n",
       "array([[  6.62307680e-01,   6.16590214e+00],\n",
       "       [ -4.17181104e-01,   1.39404869e+01],\n",
       "       [ -1.41852701e+00,   5.37412357e+00],\n",
       "       [ -1.80438948e+00,   1.12777786e+01],\n",
       "       [  8.86458252e-03,   5.19398737e+00]], dtype=float32)>"
      ]
     },
     "execution_count": 17,
     "metadata": {},
     "output_type": "execute_result"
    }
   ],
   "source": [
    "nd.sample(5)"
   ]
  },
  {
   "cell_type": "code",
   "execution_count": 18,
   "metadata": {
    "colab": {
     "base_uri": "https://localhost:8080/",
     "height": 34
    },
    "colab_type": "code",
    "id": "SC0fmV3hn0Zp",
    "outputId": "032b014a-dc88-4b9a-abcb-333453e64297"
   },
   "outputs": [
    {
     "data": {
      "text/plain": [
       "<tf.Tensor: id=427, shape=(), dtype=float32, numpy=-3.2241714>"
      ]
     },
     "execution_count": 18,
     "metadata": {},
     "output_type": "execute_result"
    }
   ],
   "source": [
    "nd.log_prob([0., 10])"
   ]
  },
  {
   "cell_type": "markdown",
   "metadata": {
    "colab_type": "text",
    "id": "lmI_pjVJIT4I"
   },
   "source": [
    "Multivariate normals do not in general have diagonal covariance. TFD offers multiple ways to create multivariate normals, including a full-covariance specification, which we use here."
   ]
  },
  {
   "cell_type": "code",
   "execution_count": 21,
   "metadata": {
    "colab": {
     "base_uri": "https://localhost:8080/",
     "height": 362
    },
    "colab_type": "code",
    "id": "qPEWjisBolk2",
    "outputId": "2dbc9f74-a85f-43d5-91ee-fdc0896658c6"
   },
   "outputs": [
    {
     "data": {
      "image/png": "[encoded data removed]",
      "text/plain": [
       "<matplotlib.figure.Figure at 0x7f399c5ff208>"
      ]
     },
     "metadata": {
      "needs_background": "light"
     },
     "output_type": "display_data"
    }
   ],
   "source": [
    "nd = tfd.MultivariateNormalFullCovariance(\n",
    "    loc = [0., 5], covariance_matrix = [[1., .7], [.7, 1.]])\n",
    "data = nd.sample(200).numpy()\n",
    "plt.scatter(data[:, 0], data[:, 1], color='blue', alpha=0.4)\n",
    "plt.axis([-5, 5, 0, 10])\n",
    "plt.title(\"Data set\")\n",
    "plt.show()"
   ]
  },
  {
   "cell_type": "markdown",
   "metadata": {
    "colab_type": "text",
    "id": "57lLzC7MQV-9"
   },
   "source": [
    "## Multiple Distributions"
   ]
  },
  {
   "cell_type": "markdown",
   "metadata": {
    "colab_type": "text",
    "id": "aRYY7-KvQupB"
   },
   "source": [
    "Our first Bernoulli distribution represented a flip of a single fair coin. We can also create a batch of independent Bernoulli distributions, each with their own parameters, in a single `Distribution` object:"
   ]
  },
  {
   "cell_type": "code",
   "execution_count": 26,
   "metadata": {
    "colab": {
     "base_uri": "https://localhost:8080/",
     "height": 34
    },
    "colab_type": "code",
    "id": "as9fo-XtRAFo",
    "outputId": "bcc6df15-80f5-46ee-bdc4-7cd1650b2888"
   },
   "outputs": [
    {
     "data": {
      "text/plain": [
       "<tfp.distributions.Bernoulli 'Bernoulli/' batch_shape=(2, 3) event_shape=() dtype=int32>"
      ]
     },
     "execution_count": 26,
     "metadata": {},
     "output_type": "execute_result"
    }
   ],
   "source": [
    "b3 = tfd.Bernoulli(probs=[[.3, .5, .7],[.3, .5, .7]])\n",
    "b3"
   ]
  },
  {
   "cell_type": "markdown",
   "metadata": {
    "colab_type": "text",
    "id": "x_7t57XzRGVD"
   },
   "source": [
    "It's important to be clear on what this means. The above call defines three independent Bernoulli distributions, which happen to be contained in the same Python `Distribution` object. The three distributions cannot be manipulated individually. Note how the `batch_shape` is `(3,)`, indicating a batch of three distributions, and the `event_shape` is `()`, indicating the individual distributions have a univariate event space.\n",
    "\n",
    "\n",
    "If we call `sample`, we get a sample from all three:"
   ]
  },
  {
   "cell_type": "code",
   "execution_count": 33,
   "metadata": {
    "colab": {
     "base_uri": "https://localhost:8080/",
     "height": 34
    },
    "colab_type": "code",
    "id": "bQQJ_N7XRkuh",
    "outputId": "a8e94d92-8b25-4d43-95f2-2e9e7e7fb9d2"
   },
   "outputs": [
    {
     "data": {
      "text/plain": [
       "<tf.Tensor: id=1073, shape=(2, 3), dtype=int32, numpy=\n",
       "array([[1, 0, 1],\n",
       "       [1, 0, 1]], dtype=int32)>"
      ]
     },
     "execution_count": 33,
     "metadata": {},
     "output_type": "execute_result"
    }
   ],
   "source": [
    "b3.sample()"
   ]
  },
  {
   "cell_type": "code",
   "execution_count": 34,
   "metadata": {
    "colab": {
     "base_uri": "https://localhost:8080/",
     "height": 136
    },
    "colab_type": "code",
    "id": "aM6JOl3HSQb3",
    "outputId": "d53d6740-2a2a-488c-dc60-b38b96015f8a"
   },
   "outputs": [
    {
     "data": {
      "text/plain": [
       "<tf.Tensor: id=1098, shape=(6, 2, 3), dtype=int32, numpy=\n",
       "array([[[0, 0, 1],\n",
       "        [1, 1, 1]],\n",
       "\n",
       "       [[0, 1, 1],\n",
       "        [0, 1, 1]],\n",
       "\n",
       "       [[1, 1, 0],\n",
       "        [0, 0, 1]],\n",
       "\n",
       "       [[0, 0, 0],\n",
       "        [1, 0, 1]],\n",
       "\n",
       "       [[0, 1, 1],\n",
       "        [1, 1, 0]],\n",
       "\n",
       "       [[0, 0, 1],\n",
       "        [0, 1, 0]]], dtype=int32)>"
      ]
     },
     "execution_count": 34,
     "metadata": {},
     "output_type": "execute_result"
    }
   ],
   "source": [
    "b3.sample(6)"
   ]
  },
  {
   "cell_type": "markdown",
   "metadata": {
    "colab_type": "text",
    "id": "7NRbaUyLR2yf"
   },
   "source": [
    "If we call  `prob`, (this has the same shape semantics as `log_prob`; we use `prob` with these small Bernoulli examples for clarity, although `log_prob` is usually preferred in applications) we can pass it a vector and evaluate the probability of each coin yielding that value:"
   ]
  },
  {
   "cell_type": "code",
   "execution_count": 35,
   "metadata": {
    "colab": {
     "base_uri": "https://localhost:8080/",
     "height": 34
    },
    "colab_type": "code",
    "id": "UKRV_z47NUV9",
    "outputId": "4fea41bd-95d4-4feb-bebd-7d5a58c83d2f"
   },
   "outputs": [
    {
     "data": {
      "text/plain": [
       "<tf.Tensor: id=1123, shape=(2, 3), dtype=float32, numpy=\n",
       "array([[ 0.29999998,  0.5       ,  0.29999998],\n",
       "       [ 0.29999998,  0.5       ,  0.29999998]], dtype=float32)>"
      ]
     },
     "execution_count": 35,
     "metadata": {},
     "output_type": "execute_result"
    }
   ],
   "source": [
    "b3.prob([1, 1, 0])"
   ]
  },
  {
   "cell_type": "markdown",
   "metadata": {
    "colab_type": "text",
    "id": "Y3MexqrtREPP"
   },
   "source": [
    "Why does the API include batch shape? Semantically, one could perform the same computations by creating a list of distributions and iterating over them with a `for` loop (at least in Eager mode, in TF graph mode you'd need a `tf.while` loop). However, having a (potentially large) set of identically parameterized distributions is extremely common, and the use of vectorized computations whenever possible is a key ingredient in being able to perform fast computations using hardware accelerators."
   ]
  },
  {
   "cell_type": "markdown",
   "metadata": {
    "colab_type": "text",
    "id": "t52ptQXvUO07"
   },
   "source": [
    "## Using Independent To Aggregate Batches to Events"
   ]
  },
  {
   "cell_type": "markdown",
   "metadata": {
    "colab_type": "text",
    "id": "oN3mut1NTOXX"
   },
   "source": [
    "In the previous section, we created `b3`, a single `Distribution` object that represented three coin flips. If we called `b3.prob` on a vector $v$, the $i$'th entry was the probability that the $i$th coin takes value $v[i]$.\n",
    "\n",
    "Suppose we'd instead like to specify a \"joint\" distribution over independent random variables from the same underlying family. This is a different object mathematically, in that for this new distribution, `prob` on a vector $v$ will return a single value representing the probability that the entire set of coins matches the vector $v$.\n",
    "\n",
    "How do we accomplish this? We use a \"higher-order\" distribution called `Independent`, which takes a distribution and yields a new distribution with the batch shape moved to the event shape:"
   ]
  },
  {
   "cell_type": "code",
   "execution_count": null,
   "metadata": {
    "colab": {
     "base_uri": "https://localhost:8080/",
     "height": 34
    },
    "colab_type": "code",
    "id": "V_DcGAG2Tqxj",
    "outputId": "b939abf1-2d03-4d94-8862-fe1adb7e4244"
   },
   "outputs": [],
   "source": [
    "b3_joint = tfd.Independent(b3, reinterpreted_batch_ndims=1)\n",
    "b3_joint"
   ]
  },
  {
   "cell_type": "markdown",
   "metadata": {
    "colab_type": "text",
    "id": "Zkv5TRVFVLUo"
   },
   "source": [
    "Compare the shape to that of the original `b3`:"
   ]
  },
  {
   "cell_type": "code",
   "execution_count": null,
   "metadata": {
    "colab": {
     "base_uri": "https://localhost:8080/",
     "height": 34
    },
    "colab_type": "code",
    "id": "5bBsLX-6VT36",
    "outputId": "753e7a48-c98f-4ca6-92fe-d417e8cc1a5c"
   },
   "outputs": [],
   "source": [
    "b3"
   ]
  },
  {
   "cell_type": "markdown",
   "metadata": {
    "colab_type": "text",
    "id": "0uveNoPNVVYy"
   },
   "source": [
    "As promised, we see that that `Independent` has moved the batch shape into the event shape: `b3_joint` is a single distribution (`batch_shape = ()`) over a three-dimensional event space (`event_shape = (3,)`).\n",
    "\n",
    "Let's check the semantics:"
   ]
  },
  {
   "cell_type": "code",
   "execution_count": null,
   "metadata": {
    "colab": {
     "base_uri": "https://localhost:8080/",
     "height": 34
    },
    "colab_type": "code",
    "id": "eDsO2gLcVlY9",
    "outputId": "482445e7-304a-420b-e5b7-53a2cf73da56"
   },
   "outputs": [],
   "source": [
    "b3_joint.prob([1, 1, 0])"
   ]
  },
  {
   "cell_type": "markdown",
   "metadata": {
    "colab_type": "text",
    "id": "IktKInQ5WQJz"
   },
   "source": [
    "An alternate way to get the same result would be to compute probabilities using `b3` and do the reduction manually by multiplying (or, in the more usual case where log probabilities are used, summing):"
   ]
  },
  {
   "cell_type": "code",
   "execution_count": null,
   "metadata": {
    "colab": {
     "base_uri": "https://localhost:8080/",
     "height": 34
    },
    "colab_type": "code",
    "id": "rRIVEchSV-RZ",
    "outputId": "bd69ff28-7bf0-48c6-ef36-86f687a30b6b"
   },
   "outputs": [],
   "source": [
    "tf.reduce_prod(b3.prob([1, 1, 0]))"
   ]
  },
  {
   "cell_type": "markdown",
   "metadata": {
    "colab_type": "text",
    "id": "ikayH3d2Wcf-"
   },
   "source": [
    "`Indpendent` allows the user to more explicitly represent the desired concept. We view this as extremely useful, although it's not strictly necessary."
   ]
  },
  {
   "cell_type": "markdown",
   "metadata": {
    "colab_type": "text",
    "id": "wVivnv1qWi9f"
   },
   "source": [
    "Fun facts:\n",
    "\n",
    "\n",
    "*   `b3.sample` and `b3_joint.sample` have different conceptual implementations, but indistinguishable outputs: the difference between a batch of independent distributions and a single distribution created from the batch using `Independent` shows up when computing probabilites, not when sampling.\n",
    "*   `MultivariateNormalDiag` could be trivially implemented using the scalar `Normal` and `Independent` distributions (it isn't actually implemented this way, but it could be).\n",
    "\n"
   ]
  },
  {
   "cell_type": "markdown",
   "metadata": {
    "colab_type": "text",
    "id": "INu1viAVXz93"
   },
   "source": [
    "## Batches of Multivariate Distirbutions"
   ]
  },
  {
   "cell_type": "markdown",
   "metadata": {
    "colab_type": "text",
    "id": "G_cEhLU-Tjhm"
   },
   "source": [
    "Let's create a batch of three full-covariance two-dimensional multivariate normals: "
   ]
  },
  {
   "cell_type": "code",
   "execution_count": null,
   "metadata": {
    "colab": {
     "base_uri": "https://localhost:8080/",
     "height": 34
    },
    "colab_type": "code",
    "id": "mtxwqizfTwKi",
    "outputId": "8eb1c64d-e264-4ed6-c6f3-a3fa624e7f6d"
   },
   "outputs": [],
   "source": [
    "nd_batch = tfd.MultivariateNormalFullCovariance(\n",
    "    loc = [[0., 0.], [1., 1.], [2., 2.]],\n",
    "    covariance_matrix = [[[1., .1], [.1, 1.]], \n",
    "                         [[1., .3], [.3, 1.]],\n",
    "                         [[1., .5], [.5, 1.]]])\n",
    "nd_batch"
   ]
  },
  {
   "cell_type": "markdown",
   "metadata": {
    "colab_type": "text",
    "id": "osDjz1vXUVkr"
   },
   "source": [
    "We see `batch_shape = (3,)`, so there are three independent multivariate normals, and `event_shape =  (2,)`, so each multivariate normal is two-dimensional. In this example, the individual distributions do not have independent elements.\n",
    "\n",
    "Sampling works:"
   ]
  },
  {
   "cell_type": "code",
   "execution_count": null,
   "metadata": {
    "colab": {
     "base_uri": "https://localhost:8080/",
     "height": 289
    },
    "colab_type": "code",
    "id": "82u32RUpYKeK",
    "outputId": "566841e3-1504-4977-c213-574dcc35463e"
   },
   "outputs": [],
   "source": [
    "nd_batch.sample(4)"
   ]
  },
  {
   "cell_type": "markdown",
   "metadata": {
    "colab_type": "text",
    "id": "2I-cYckNYTmf"
   },
   "source": [
    "Since `batch_shape = (3,)` and `event_shape = (2,)`, we pass a tensor of shape `(3, 2)` to `log_prob`:"
   ]
  },
  {
   "cell_type": "code",
   "execution_count": null,
   "metadata": {
    "colab": {
     "base_uri": "https://localhost:8080/",
     "height": 34
    },
    "colab_type": "code",
    "id": "-7p02_66YRpX",
    "outputId": "2b4d3d30-194f-4794-95e1-345fa19ffa9c"
   },
   "outputs": [],
   "source": [
    "nd_batch.log_prob([[0., 0.], [1., 1.], [2., 2.]])"
   ]
  },
  {
   "cell_type": "markdown",
   "metadata": {
    "colab_type": "text",
    "id": "72uiME85SmEH"
   },
   "source": [
    "## Broadcasting, aka Why Is This So Confusing?"
   ]
  },
  {
   "cell_type": "markdown",
   "metadata": {
    "colab_type": "text",
    "id": "3aWnXjyYZYtp"
   },
   "source": [
    "Abstracting out what we've done so far, every distribution has an batch shape `B` and an event shape `E`. Let `BE` be the concatenation of the event shapes:\n",
    "\n",
    "\n",
    "* For the univariate scalar distributions `n` and `b`, `BE = ().`.\n",
    "* For the two-dimensional multivariate normals `nd`. `BE = (2).`\n",
    "* For both `b3` and `b3_joint`, `BE = (3).`\n",
    "* For the batch of multivariate normals `ndb`, `BE = (3, 2).`\n",
    "\n",
    "The \"evaluation rules\" we've been using so far are:\n",
    "\n",
    "*   Sample with no argument returns a tensor with shape `BE`; sampling with a scalar n returns an \"n by `BE`\" tensor.\n",
    "*   `prob` and `log_prob` take a tensor of shape `BE` and return a result of shape `B`.\n",
    "\n",
    "The actual \"evaluation rule\" for `prob` and `log_prob` is more complicated, in a way that offers potential power and speed but also complexity and challenges.  The actual rule is (essentially) that **the argument to `log_prob` *must*  be [broadcastable](https://docs.scipy.org/doc/numpy/user/basics.broadcasting.html) against `BE`; any \"extra\" dimensions are preserved in the output.** "
   ]
  },
  {
   "cell_type": "markdown",
   "metadata": {
    "colab_type": "text",
    "id": "iwv81UjpmlkX"
   },
   "source": [
    "Let's explore the implications. For the univariate normal `n`, `BE = ()`, so `log_prob` expects a scalar. If we pass `log_prob` a tensor with non-empty shape, those show up as batch dimensions in the output:"
   ]
  },
  {
   "cell_type": "code",
   "execution_count": null,
   "metadata": {
    "colab": {
     "base_uri": "https://localhost:8080/",
     "height": 34
    },
    "colab_type": "code",
    "id": "xRMkZd2cnqnG",
    "outputId": "7c2f214d-8310-4371-bb27-69472758e149"
   },
   "outputs": [],
   "source": [
    "n = tfd.Normal(loc=0., scale=1.)\n",
    "n"
   ]
  },
  {
   "cell_type": "code",
   "execution_count": null,
   "metadata": {
    "colab": {
     "base_uri": "https://localhost:8080/",
     "height": 34
    },
    "colab_type": "code",
    "id": "mci1cs1NnLDb",
    "outputId": "96d90874-2c43-45e6-aadc-0c48e5ff7f4b"
   },
   "outputs": [],
   "source": [
    "n.log_prob(0.)"
   ]
  },
  {
   "cell_type": "code",
   "execution_count": null,
   "metadata": {
    "colab": {
     "base_uri": "https://localhost:8080/",
     "height": 34
    },
    "colab_type": "code",
    "id": "MQW1XSB1nRlH",
    "outputId": "21cd60fa-9e6b-4d42-b084-ae869e342b06"
   },
   "outputs": [],
   "source": [
    "n.log_prob([0.])"
   ]
  },
  {
   "cell_type": "code",
   "execution_count": null,
   "metadata": {
    "colab": {
     "base_uri": "https://localhost:8080/",
     "height": 68
    },
    "colab_type": "code",
    "id": "z-6d3PtTnT1W",
    "outputId": "37a065b6-e68c-472a-86f4-52fd204c2139"
   },
   "outputs": [],
   "source": [
    "n.log_prob([[0., 1.], [-1., 2.]])"
   ]
  },
  {
   "cell_type": "markdown",
   "metadata": {
    "colab_type": "text",
    "id": "6BkE19lEh9XY"
   },
   "source": [
    "Let's turn to the two-dimensional multivariate normal `nd` (parameters changed for illustrative purposes):"
   ]
  },
  {
   "cell_type": "code",
   "execution_count": null,
   "metadata": {
    "colab": {
     "base_uri": "https://localhost:8080/",
     "height": 34
    },
    "colab_type": "code",
    "id": "Y1D3zg9kn8HJ",
    "outputId": "1260dd68-dce6-43aa-d610-2a4d90859837"
   },
   "outputs": [],
   "source": [
    "nd = tfd.MultivariateNormalDiag(loc=[0., 1.], scale_diag=[1., 1.])\n",
    "nd"
   ]
  },
  {
   "cell_type": "markdown",
   "metadata": {
    "colab_type": "text",
    "id": "SyZS-on4oCR4"
   },
   "source": [
    "`log_prob` \"expects\" an argument with shape `(2,)`, but it will accept any argument that broadcasts against this shape: "
   ]
  },
  {
   "cell_type": "code",
   "execution_count": null,
   "metadata": {
    "colab": {
     "base_uri": "https://localhost:8080/",
     "height": 34
    },
    "colab_type": "code",
    "id": "RHyn5rV7oMzq",
    "outputId": "5933ca68-6520-4364-a358-4233274144a5"
   },
   "outputs": [],
   "source": [
    "nd.log_prob([0., 0.])"
   ]
  },
  {
   "cell_type": "markdown",
   "metadata": {
    "colab_type": "text",
    "id": "DTnAETFGo17O"
   },
   "source": [
    "But we can pass in \"more\" examples, and evaluate all their `log_prob`'s at once:"
   ]
  },
  {
   "cell_type": "code",
   "execution_count": null,
   "metadata": {
    "colab": {
     "base_uri": "https://localhost:8080/",
     "height": 34
    },
    "colab_type": "code",
    "id": "-eSm6Hnlo1sn",
    "outputId": "65b21dbc-d4ff-4795-83f4-9da5dd98989a"
   },
   "outputs": [],
   "source": [
    "nd.log_prob([[0., 0.],\n",
    "             [1., 1.],\n",
    "             [2., 2.]])"
   ]
  },
  {
   "cell_type": "markdown",
   "metadata": {
    "colab_type": "text",
    "id": "dgxneFROpG7L"
   },
   "source": [
    "Perhaps less appealingly, we can broadcast over the event dimensions:"
   ]
  },
  {
   "cell_type": "code",
   "execution_count": null,
   "metadata": {
    "colab": {
     "base_uri": "https://localhost:8080/",
     "height": 34
    },
    "colab_type": "code",
    "id": "-YRxLZLcoW29",
    "outputId": "9345fd61-b0e3-4a92-f51b-7088caecf3ae"
   },
   "outputs": [],
   "source": [
    "nd.log_prob([0.])"
   ]
  },
  {
   "cell_type": "code",
   "execution_count": null,
   "metadata": {
    "colab": {
     "base_uri": "https://localhost:8080/",
     "height": 34
    },
    "colab_type": "code",
    "id": "Md6RkXrcpNiK",
    "outputId": "accdde07-550b-45d2-f4b6-0b33985af8e4"
   },
   "outputs": [],
   "source": [
    "nd.log_prob([[0.], [1.], [2.]])"
   ]
  },
  {
   "cell_type": "markdown",
   "metadata": {
    "colab_type": "text",
    "id": "266h1o2KoZZL"
   },
   "source": [
    "Broadcasting this way is a consequence of our \"enable broadcasting whenever possible\" design; this usage is somewhat controversial and could potentially be removed in a future version of TFP.\n",
    "\n",
    "Now let's look at the three coins example again:"
   ]
  },
  {
   "cell_type": "code",
   "execution_count": null,
   "metadata": {
    "colab": {},
    "colab_type": "code",
    "id": "mKHtmSP6SnvY"
   },
   "outputs": [],
   "source": [
    "b3 = tfd.Bernoulli(probs=[.3, .5, .7])"
   ]
  },
  {
   "cell_type": "markdown",
   "metadata": {
    "colab_type": "text",
    "id": "bGOJAgv_p059"
   },
   "source": [
    "Here, using broadcasting to represent the probability that *each* coin comes up heads is quite intuitive:"
   ]
  },
  {
   "cell_type": "code",
   "execution_count": null,
   "metadata": {
    "colab": {
     "base_uri": "https://localhost:8080/",
     "height": 34
    },
    "colab_type": "code",
    "id": "ZYC6J8-dp50r",
    "outputId": "57d538df-af70-43d1-b152-d482990700e8"
   },
   "outputs": [],
   "source": [
    "b3.prob([1])"
   ]
  },
  {
   "cell_type": "markdown",
   "metadata": {
    "colab_type": "text",
    "id": "5gxdAEjBiLiw"
   },
   "source": [
    "(Compare this to `b3.prob([1., 1., 1.])`, which we would have used back where `b3` was introduced.)\n",
    "\n",
    "Now suppose we want to know, for each coin, the probability the coin comes up heads *and* the probability it comes up tails. We could imagine trying:\n",
    "\n",
    "`b3.log_prob([0, 1])`\n",
    "\n",
    "Unfortunately, this produces an error with a long and not-very-readable stack trace. `b3` has `BE = (3)`, so we must pass `b3.prob` something broadcastable against `(3,)`. `[0, 1]` has shape `(2)`, so it doesn't broadcast and creates an error.  Instead, we have to say:"
   ]
  },
  {
   "cell_type": "code",
   "execution_count": null,
   "metadata": {
    "colab": {
     "base_uri": "https://localhost:8080/",
     "height": 68
    },
    "colab_type": "code",
    "id": "_ry9LMiIieUx",
    "outputId": "f42d35db-b5b9-4eff-8762-f5d345ed03b7"
   },
   "outputs": [],
   "source": [
    "b3.prob([[0], [1]])"
   ]
  },
  {
   "cell_type": "markdown",
   "metadata": {
    "colab_type": "text",
    "id": "mxZ1WeK1qRcc"
   },
   "source": [
    "Why? `[[0], [1]]` has shape `(2, 1)`,  so it broadcasts against shape `(3)` to make a broadcast shape of `(2, 3)`."
   ]
  },
  {
   "cell_type": "markdown",
   "metadata": {
    "colab_type": "text",
    "id": "WJBxD-zOrLDQ"
   },
   "source": [
    "Broadcasting is quite powerful: there are cases where it allows order-of-magnitude reduction in the amount of memory used, and it often makes user code shorter. However, it can be challenging to program with. If you call `log_prob` and get an error, a failure to broadcast is nearly always the problem."
   ]
  },
  {
   "cell_type": "markdown",
   "metadata": {
    "colab_type": "text",
    "id": "JpjjIGThrj8Q"
   },
   "source": [
    "## Going Farther\n",
    "\n",
    "In this tutorial, we've (hopefully) provided a simple introduction. A few pointers for going further:\n",
    "\n",
    "*   `event_shape`, `batch_shape` and `sample_shape` can be arbitrary rank (in this tutorial they are always either scalar or rank 1). This increases the power but again can lead to programming challenges, especially when broadcasting is involved. For an additional deep dive into shape manipulation, see the [Understanding TensorFlow Distributions Shapes](https://github.com/tensorflow/probability/blob/master/tensorflow_probability/examples/jupyter_notebooks/Understanding_TensorFlow_Distributions_Shapes.ipynb). \n",
    "*   TFP includes a powerful abstraction known as `Bijectors`, which in conjunction with `TransformedDistribution`, yields a flexible, compositional way to easily create new distributions that are invertible transformations of existing distributions. We'll try to write a tutorial on this soon, but in the meantime, check out [the documentation](https://www.tensorflow.org/probability/api_docs/python/tfp/distributions/TransformedDistribution)\n",
    "\n"
   ]
  }
 ],
 "metadata": {
  "colab": {
   "collapsed_sections": [],
   "name": "TensorFlow_Distributions_Tutorial.ipynb",
   "provenance": [],
   "toc_visible": true,
   "version": "0.3.2"
  },
  "kernelspec": {
   "display_name": "Python 3",
   "language": "python",
   "name": "python3"
  },
  "language_info": {
   "codemirror_mode": {
    "name": "ipython",
    "version": 3
   },
   "file_extension": ".py",
   "mimetype": "text/x-python",
   "name": "python",
   "nbconvert_exporter": "python",
   "pygments_lexer": "ipython3",
   "version": "3.6.0"
  }
 },
 "nbformat": 4,
 "nbformat_minor": 1
}
