{
 "cells": [
  {
   "cell_type": "markdown",
   "metadata": {
    "colab_type": "text",
    "id": "pbWmRwcuatWz"
   },
   "source": [
    "##### Copyright 2018 The TensorFlow Authors.\n",
    "\n",
    "Licensed under the Apache License, Version 2.0 (the \"License\");"
   ]
  },
  {
   "cell_type": "code",
   "execution_count": 1,
   "metadata": {
    "colab": {},
    "colab_type": "code",
    "id": "I4NyePmVaxhL"
   },
   "outputs": [],
   "source": [
    "#@title Licensed under the Apache License, Version 2.0 (the \"License\"); { display-mode: \"form\" }\n",
    "# you may not use this file except in compliance with the License.\n",
    "# You may obtain a copy of the License at\n",
    "#\n",
    "# https://www.apache.org/licenses/LICENSE-2.0\n",
    "#\n",
    "# Unless required by applicable law or agreed to in writing, software\n",
    "# distributed under the License is distributed on an \"AS IS\" BASIS,\n",
    "# WITHOUT WARRANTIES OR CONDITIONS OF ANY KIND, either express or implied.\n",
    "# See the License for the specific language governing permissions and\n",
    "# limitations under the License."
   ]
  },
  {
   "cell_type": "markdown",
   "metadata": {
    "colab_type": "text",
    "id": "CaMcWFBtVHG9"
   },
   "source": [
    "# TensorFlow Probability Case Study: Covariance Estimation\n",
    "\n",
    "<table class=\"tfo-notebook-buttons\" align=\"left\">\n",
    "  <td>\n",
    "    <a target=\"_blank\" href=\"https://colab.research.google.com/github/tensorflow/probability/blob/master/tensorflow_probability/examples/jupyter_notebooks/TensorFlow_Probability_Case_Study_Covariance_Estimation.ipynb\"><img src=\"https://www.tensorflow.org/images/colab_logo_32px.png\" />Run in Google Colab</a>\n",
    "  </td>\n",
    "  <td>\n",
    "    <a target=\"_blank\" href=\"https://github.com/tensorflow/probability/blob/master/tensorflow_probability/examples/jupyter_notebooks/TensorFlow_Probability_Case_Study_Covariance_Estimation.ipynb\"><img src=\"https://www.tensorflow.org/images/GitHub-Mark-32px.png\" />View source on GitHub</a>\n",
    "  </td>\n",
    "</table>"
   ]
  },
  {
   "cell_type": "markdown",
   "metadata": {
    "colab_type": "text",
    "id": "Rueq5va_3TYc"
   },
   "source": [
    "I wrote this notebook as a case study to learn TensorFlow Probability.  The problem I chose to solve is estimating a covariance matrix for samples of a 2-D mean 0 Gaussian random variable.  The problem has a couple of nice features:\n",
    "\n",
    "* If we use an inverse Wishart prior for the covariance (a common approach), the problem has an analytic solution, so we can check our results.\n",
    "* The problem involves sampling a constrained parameter, which adds some interesting complexity.\n",
    "* The most straightforward solution is not the fastest one, so there is some optimization work to do.\n",
    "\n",
    "I decided to write my experiences up as I went along. It took me awhile to wrap my head around the finer points of TFP, so this notebook starts fairly simply and then gradually works up to more complicated TFP features.  I ran into lots of problems along the way, and I've tried to capture both the processes that helped me identify them and the workarounds I eventually found.  I've tried to include *lots* of detail (including lots of tests to make sure individual steps are correct)."
   ]
  },
  {
   "cell_type": "markdown",
   "metadata": {
    "colab_type": "text",
    "id": "0-qYKi2r0VFr"
   },
   "source": [
    "## Why learn TensorFlow Probability?\n",
    "\n",
    "I found TensorFlow Probability appealing for my project for a few reasons:\n",
    "\n",
    "* TensorFlow probability lets you prototype develop complex models interactively in a notebook.  You can break your code up into small pieces that you can test interactively and with unit tests.\n",
    "* Once you're ready to scale up, you can take advantage of all of the infrastructure we have in place for making TensorFlow run on multiple, optimized processors on multiple machines.\n",
    "* Finally, while I really like Stan, I find it quite difficult to debug.  You have to write all your modeling code in a standalone language that has very few tools for letting you poke at your code, inspect intermediate states, and so on.\n",
    "\n",
    "The downside is that TensorFlow Probability is much newer than Stan and PyMC3, so the documentation is a work in progress, and there's lots of functionality that's yet to be built.  Happily, I found TFP's foundation to be solid, and it's designed in a modular way that allows one to extend its functionality fairly straightforwardly.  In this notebook, in addition to solving the case study, I'll show some ways to go about extending TFP."
   ]
  },
  {
   "cell_type": "markdown",
   "metadata": {
    "colab_type": "text",
    "id": "DZ_vkMN0Ti4Z"
   },
   "source": [
    "## Who this is for\n",
    "\n",
    "I'm assuming that readers are coming to this notebook with some important prerequisites.  You should:\n",
    "\n",
    "* Know the basics of Bayesian inference.  (If you don't, a really nice first book is *[Statistical Rethinking](http://xcelab.net/rm/statistical-rethinking/)*)\n",
    "* Have some familiarity with an MCMC sampling library, e.g. [Stan](http://mc-stan.org/) / [PyMC3](http://docs.pymc.io/) / [BUGS](https://www.mrc-bsu.cam.ac.uk/software/bugs/)\n",
    "* Have a solid grasp of [NumPy](http://www.numpy.org/)  (One good intro is *[Python for Data Analysis](http://shop.oreilly.com/product/0636920023784.do)*)\n",
    "* Have at least passing familiarity with [TensorFlow](https://www.tensorflow.org/), but not necessarily expertise.  (*[Learning TensorFlow](http://shop.oreilly.com/product/0636920063698.do)* is good, but TensorFlow's rapid evolution means that most books will be a bit dated.  Stanford's [CS20](https://web.stanford.edu/class/cs20si/) course is also good.)"
   ]
  },
  {
   "cell_type": "markdown",
   "metadata": {
    "colab_type": "text",
    "id": "YButn5pt_71w"
   },
   "source": [
    "# First attempt\n",
    "\n",
    "Here's my first attempt at the problem.  Spoiler: my solution doesn't work, and it's going to take several attempts to get things right!  Although the process takes awhile, each attempt below has been useful for learning a new part of TFP.\n",
    "\n",
    "One note: TFP doesn't currently implement the inverse Wishart distribution (we'll see at the end how to roll our own inverse Wishart), so instead I'll change the problem to that of estimating a precision matrix using a Wishart prior."
   ]
  },
  {
   "cell_type": "code",
   "execution_count": 2,
   "metadata": {
    "colab": {},
    "colab_type": "code",
    "id": "93Jufm9K3E8R"
   },
   "outputs": [],
   "source": [
    "#!pip install -q tensorflow-probability"
   ]
  },
  {
   "cell_type": "code",
   "execution_count": 12,
   "metadata": {
    "colab": {},
    "colab_type": "code",
    "id": "tQ_h8ns5Inq-"
   },
   "outputs": [],
   "source": [
    "import collections\n",
    "import math\n",
    "import os\n",
    "import time\n",
    "\n",
    "import numpy as np\n",
    "import pandas as pd\n",
    "import scipy\n",
    "import matplotlib.pyplot as plt\n",
    "\n",
    "import tensorflow as tf\n",
    "import tensorflow_probability as tfp\n",
    "tfd = tfp.distributions\n",
    "tfb = tfp.bijectors"
   ]
  },
  {
   "cell_type": "markdown",
   "metadata": {
    "colab_type": "text",
    "id": "vnnN2pFUcLlF"
   },
   "source": [
    "## Step 1: get the observations together\n",
    "\n",
    "My data here are all synthetic, so this is going to seem a bit tidier than a real-world example.  However, there's no reason you can't generate some synthetic data of your own.\n",
    "\n",
    "**Tip**: Once you've decided on the form of your model, you can pick some parameter values and use your chosen model to generate some synthetic data.  As a sanity check of your implementation, you can then verify that your estimates include the true values of the parameters you chose.  To make your debugging / testing cycle faster, you might consider a simplified version of your model (e.g. use fewer dimensions or fewer samples).\n",
    "\n"
   ]
  },
  {
   "cell_type": "markdown",
   "metadata": {
    "colab_type": "text",
    "id": "1ykrVMrWPN_3"
   },
   "source": [
    "**Tip:** It's easiest to work with your observations as NumPy arrays.  One important thing to note is that NumPy by default uses float64's, while TensorFlow by default uses float32's. \n",
    "\n",
    "In general, TensorFlow operations want all arguments to have the same type, and you have to do explicit data casting to change types.  If you use float64 observations, you'll need to add in a lot of cast operations.  NumPy, in contrast, will take care of casting automatically.  Hence, **it is *much* easier to convert your Numpy data into float32 than it is to force TensorFlow to use float64.** "
   ]
  },
  {
   "cell_type": "markdown",
   "metadata": {
    "colab_type": "text",
    "id": "JG4jAba4TPxm"
   },
   "source": [
    "### Choose some parameter values"
   ]
  },
  {
   "cell_type": "code",
   "execution_count": 4,
   "metadata": {
    "colab": {},
    "colab_type": "code",
    "id": "z4lSqTGHKAyf"
   },
   "outputs": [],
   "source": [
    "# We're assuming 2-D data with a known true mean of (0, 0)\n",
    "true_mean = np.zeros([2], dtype=np.float32)\n",
    "# We'll make the 2 coordinates correlated\n",
    "true_cor = np.array([[1.0, 0.9], [0.9, 1.0]], dtype=np.float32)\n",
    "# And we'll give the 2 coordinates different variances\n",
    "true_var = np.array([4.0, 1.0], dtype=np.float32)\n",
    "# Combine the variances and correlations into a covariance matrix\n",
    "true_cov = np.expand_dims(np.sqrt(true_var), axis=1).dot(\n",
    "    np.expand_dims(np.sqrt(true_var), axis=1).T) * true_cor\n",
    "# We'll be working with precision matrices, so we'll go ahead and compute the\n",
    "# true precision matrix here\n",
    "true_precision = np.linalg.inv(true_cov)"
   ]
  },
  {
   "cell_type": "code",
   "execution_count": 5,
   "metadata": {
    "colab": {
     "base_uri": "https://localhost:8080/",
     "height": 68
    },
    "colab_type": "code",
    "id": "ayainGqrY193",
    "outputId": "37d7b2e1-04f6-41a8-e105-f14e678bba08",
    "scrolled": true
   },
   "outputs": [
    {
     "name": "stdout",
     "output_type": "stream",
     "text": [
      "[[4.  1.8]\n",
      " [1.8 1. ]]\n",
      "eigenvalues:  [4.843075   0.15692513]\n"
     ]
    }
   ],
   "source": [
    "# Here's our resulting covariance matrix\n",
    "print (true_cov)\n",
    "# Verify that it's positive definite, since np.random.multivariate_normal\n",
    "# complains about it not being positive definite for some reason.\n",
    "# (Note that I'll be including a lot of sanity checking code in this notebook -\n",
    "# it's a *huge* help for debugging)\n",
    "print ('eigenvalues: ', np.linalg.eigvals(true_cov))"
   ]
  },
  {
   "cell_type": "markdown",
   "metadata": {
    "colab_type": "text",
    "id": "ef--FDjZTTlu"
   },
   "source": [
    "### Generate some synthetic observations\n",
    "\n",
    "Note that **TensorFlow Probability uses the convention that the initial dimension(s) of your data represent sample indices, and the final dimension(s) of your data represent the dimensionality of your samples.**\n",
    "\n",
    "Here we want 100 samples, each of which is a vector of length 2.  We'll generate an array `my_data` with shape (100, 2).  `my_data[i, :]` is the $i$th sample, and it is a vector of length 2.\n",
    "\n",
    "(Remember to make `my_data` have type float32!)"
   ]
  },
  {
   "cell_type": "code",
   "execution_count": 6,
   "metadata": {
    "colab": {},
    "colab_type": "code",
    "id": "XjHoAXOlXbYi"
   },
   "outputs": [],
   "source": [
    "# Set the seed so the results are reproducible.\n",
    "np.random.seed(123)\n",
    "\n",
    "# Now generate some observations of our random variable.\n",
    "# (Note that I'm suppressing a bunch of spurious about the covariance matrix\n",
    "# not being positive semidefinite via check_valid='ignore' because it really is\n",
    "# positive definite!)\n",
    "my_data = np.random.multivariate_normal(\n",
    "    mean=true_mean, cov=true_cov, size=100,\n",
    "    check_valid='ignore').astype(np.float32)"
   ]
  },
  {
   "cell_type": "code",
   "execution_count": 7,
   "metadata": {
    "colab": {
     "base_uri": "https://localhost:8080/",
     "height": 34
    },
    "colab_type": "code",
    "id": "AfkzrIrfMRVv",
    "outputId": "20ca4eb4-e683-4c20-da53-2a0146bf46cf"
   },
   "outputs": [
    {
     "data": {
      "text/plain": [
       "(100, 2)"
      ]
     },
     "execution_count": 7,
     "metadata": {},
     "output_type": "execute_result"
    }
   ],
   "source": [
    "my_data.shape"
   ]
  },
  {
   "cell_type": "markdown",
   "metadata": {
    "colab_type": "text",
    "id": "Ffvyw94VTVoP"
   },
   "source": [
    "### Sanity check the observations\n",
    "\n",
    "One potential source of bugs is messing up your synthetic data!  Let's do some simple checks."
   ]
  },
  {
   "cell_type": "code",
   "execution_count": 8,
   "metadata": {
    "colab": {
     "base_uri": "https://localhost:8080/",
     "height": 347
    },
    "colab_type": "code",
    "id": "uDh3-gy_n7De",
    "outputId": "3d34157a-3913-43c2-b989-16eb7dab8dcd"
   },
   "outputs": [
    {
     "data": {
      "image/png": "[encoded data removed]",
      "text/plain": [
       "<Figure size 432x288 with 1 Axes>"
      ]
     },
     "metadata": {
      "needs_background": "light"
     },
     "output_type": "display_data"
    }
   ],
   "source": [
    "# Do a scatter plot of the observations to make sure they look like what we\n",
    "# expect (higher variance on the x-axis, y values strongly correlated with x)\n",
    "plt.scatter(my_data[:, 0], my_data[:, 1], alpha=0.75)\n",
    "plt.show()"
   ]
  },
  {
   "cell_type": "code",
   "execution_count": 9,
   "metadata": {
    "colab": {
     "base_uri": "https://localhost:8080/",
     "height": 51
    },
    "colab_type": "code",
    "id": "sz_9MTzgTfDZ",
    "outputId": "afd81a87-6866-4039-b90f-f5c2c185da4e"
   },
   "outputs": [
    {
     "name": "stdout",
     "output_type": "stream",
     "text": [
      "mean of observations: [-0.2400961  -0.16638893]\n",
      "true mean: [0. 0.]\n"
     ]
    }
   ],
   "source": [
    "print ('mean of observations:', np.mean(my_data, axis=0))\n",
    "print ('true mean:', true_mean)"
   ]
  },
  {
   "cell_type": "code",
   "execution_count": 10,
   "metadata": {
    "colab": {
     "base_uri": "https://localhost:8080/",
     "height": 119
    },
    "colab_type": "code",
    "id": "YHVcvZC-UErO",
    "outputId": "539ac047-9b51-4ddf-e3f6-0df01774d9dd"
   },
   "outputs": [
    {
     "name": "stdout",
     "output_type": "stream",
     "text": [
      "covariance of observations:\n",
      " [[3.95307666 1.68718484]\n",
      " [1.68718484 0.94910282]]\n",
      "true covariance:\n",
      " [[4.  1.8]\n",
      " [1.8 1. ]]\n"
     ]
    }
   ],
   "source": [
    "print ('covariance of observations:\\n', np.cov(my_data, rowvar=False))\n",
    "print ('true covariance:\\n', true_cov)"
   ]
  },
  {
   "cell_type": "markdown",
   "metadata": {
    "colab_type": "text",
    "id": "ROazOrWF6E3v"
   },
   "source": [
    "Ok, our samples look reasonble.  Next step."
   ]
  },
  {
   "cell_type": "markdown",
   "metadata": {
    "colab_type": "text",
    "id": "cy2HhmCU4NZW"
   },
   "source": [
    "## Step 2: Implement the likelihood function in NumPy\n",
    "\n",
    "The main thing we'll need to write to perform our MCMC sampling in TF Probability is a log likelihood function.  In general it's a bit trickier to write TF than NumPy, so I find it helpful to do an initial implementation in NumPy.  I'm going to split the likelihood function into 2 pieces, a data likelihood function that corresponds to $P(data | parameters)$ and a prior likelihood function that corresponds to $P(parameters)$.\n",
    "\n",
    "Note that these NumPy functions don't have to be super optimized / vectorized since the goal is just to generate some values for testing.  Correctness is the key consideration!"
   ]
  },
  {
   "cell_type": "markdown",
   "metadata": {
    "colab_type": "text",
    "id": "Dn2KwT6y_20l"
   },
   "source": [
    "First we'll implement the data log likelihood piece.  That's pretty straightforward.  The one thing to remember is that we're going to be working with precision matrices, so we'll parameterize accordingly."
   ]
  },
  {
   "cell_type": "code",
   "execution_count": 14,
   "metadata": {
    "colab": {
     "base_uri": "https://localhost:8080/",
     "height": 34
    },
    "colab_type": "code",
    "id": "L1AvLoipOFhA",
    "outputId": "a21751c0-8b06-48f1-ccbf-c909453f7383"
   },
   "outputs": [
    {
     "data": {
      "text/plain": [
       "-280.8182256375922"
      ]
     },
     "execution_count": 14,
     "metadata": {},
     "output_type": "execute_result"
    }
   ],
   "source": [
    "import scipy.stats\n",
    "def log_lik_data_numpy(precision, data):\n",
    "  # np.linalg.inv is a really inefficient way to get the covariance matrix, but\n",
    "  # remember we don't care about speed here\n",
    "  cov = np.linalg.inv(precision)\n",
    "  rv = scipy.stats.multivariate_normal(true_mean, cov)\n",
    "  return np.sum(rv.logpdf(data))\n",
    "\n",
    "# test case: compute the log likelihood of the data given the true parameters\n",
    "log_lik_data_numpy(true_precision, my_data)"
   ]
  },
  {
   "cell_type": "markdown",
   "metadata": {
    "colab_type": "text",
    "id": "KT3aTEydWseU"
   },
   "source": [
    "We're going to use a Wishart prior for the precision matrix since there's an analytical solution for the posterior (see [Wikipedia's handy table of conjugate priors](https://en.wikipedia.org/wiki/Conjugate_prior#Continuous_distributions)).\n",
    "\n",
    "The [Wishart distribution](https://en.wikipedia.org/wiki/Wishart_distribution) has 2 parameters: \n",
    "\n",
    "* the number of *degrees of freedom* (labeled $\\nu$ in Wikipedia)\n",
    "* a *scale matrix* (labeled $V$ in Wikipedia)\n",
    "\n",
    "The mean for a Wishart distribution with parameters $\\nu, V$ is $E[W] = \\nu V$, and the variance is $\\text{Var}(W_{ij}) = \\nu(v_{ij}^2+v_{ii}v_{jj})$ where size of $W$ is $p \\times p$.\n",
    "\n",
    "Some useful intuition: You can generate a Wishart sample by generating $\\nu$ independent draws $x_1 \\ldots x_{\\nu}$ from a multivariate normal random variable with mean 0 and covariance $V$ and then forming the sum $W = \\sum_{i=1}^{\\nu} x_i x_i^T$.\n",
    "\n",
    "If you rescale Wishart samples by dividing them by $\\nu$, you get the sample covariance matrix of the $x_i$.  This sample covariance matrix should tend toward $V$ as $\\nu$ increases.  When $\\nu$ is small, there is lots of variation in the sample covariance matrix, so small values of $\\nu$ correspond to weaker priors and large values of $\\nu$ correspond to stronger priors.  Note that $\\nu$ must be at least as large as the dimension of the space you're sampling or you'll generate singular matrices.\n",
    "\n",
    "We'll use $\\nu = 3$ so we have a weak prior, and we'll take $V = \\frac{1}{\\nu} I$ which will pull our covariance estimate toward the identity (recall that the mean is $\\nu V$)."
   ]
  },
  {
   "cell_type": "markdown",
   "metadata": {},
   "source": [
    "Note: $X=[\\mathbf x_0, \\dots, \\mathbf x_n]$ is of dimensions $p \\times \\nu$, where $p$ is the dimensionality of the modelled covariance matrix and $\\nu$ is the sample size of the multivariate normal RV."
   ]
  },
  {
   "cell_type": "code",
   "execution_count": 15,
   "metadata": {
    "colab": {
     "base_uri": "https://localhost:8080/",
     "height": 34
    },
    "colab_type": "code",
    "id": "z6PB7bdt4vSL",
    "outputId": "4b70197f-dbd9-4f33-85ac-cd0f3961ca33"
   },
   "outputs": [
    {
     "data": {
      "text/plain": [
       "-9.103606346649766"
      ]
     },
     "execution_count": 15,
     "metadata": {},
     "output_type": "execute_result"
    }
   ],
   "source": [
    "PRIOR_DF = 3\n",
    "PRIOR_SCALE = np.eye(2, dtype=np.float32) / PRIOR_DF\n",
    "\n",
    "def log_lik_prior_numpy(precision):\n",
    "  rv = scipy.stats.wishart(df=PRIOR_DF, scale=PRIOR_SCALE)\n",
    "  return rv.logpdf(precision)\n",
    "\n",
    "# test case: compute the prior for the true parameters\n",
    "log_lik_prior_numpy(true_precision)"
   ]
  },
  {
   "cell_type": "markdown",
   "metadata": {
    "colab_type": "text",
    "id": "Dj6vEWta6Nvn"
   },
   "source": [
    "The Wishart distribution is the conjugate prior for estimating the precision matrix of a multivariate normal with known mean $\\mu$.\n",
    "\n",
    "Suppose the prior Wishart parameters are $\\nu, V$ and that we have $n$ observations of our multivariate normal, $x_1, \\ldots, x_n$.  The posterior parameters are $n + \\nu, \\left(V^{-1} + \\sum_{i=1}^n (x_i-\\mu)(x_i-\\mu)^T \\right)^{-1}$.\n",
    "\n",
    "\n"
   ]
  },
  {
   "cell_type": "code",
   "execution_count": 16,
   "metadata": {
    "colab": {},
    "colab_type": "code",
    "id": "ibgUDLfImeZy"
   },
   "outputs": [],
   "source": [
    "n = my_data.shape[0]\n",
    "nu_prior = PRIOR_DF\n",
    "v_prior = PRIOR_SCALE\n",
    "nu_posterior = nu_prior + n\n",
    "v_posterior = np.linalg.inv(np.linalg.inv(v_prior) + my_data.T.dot(my_data))\n",
    "posterior_mean = nu_posterior * v_posterior\n",
    "v_post_diag = np.expand_dims(np.diag(v_posterior), axis=1)\n",
    "posterior_sd = np.sqrt(nu_posterior *\n",
    "                       (v_posterior ** 2.0 + v_post_diag.dot(v_post_diag.T)))"
   ]
  },
  {
   "cell_type": "markdown",
   "metadata": {
    "colab_type": "text",
    "id": "PKY0FtnjsGY-"
   },
   "source": [
    "A quick plot of the posteriors and the true values.  Note that the posteriors are close to the sample posteriors but are shrunk a bit toward the identity.  Note also that the true values are pretty far from the mode of the posterior - presumably this is because prior isn't a very good match for our data.  In a real problem we'd likely do better with something like a scaled inverse Wishart prior for the covariance (see, for example, Andrew Gelman's [commentary](http://andrewgelman.com/2012/08/22/the-scaled-inverse-wishart-prior-distribution-for-a-covariance-matrix-in-a-hierarchical-model/) on the subject), but then we wouldn't have a nice analytic posterior."
   ]
  },
  {
   "cell_type": "code",
   "execution_count": 17,
   "metadata": {
    "colab": {
     "base_uri": "https://localhost:8080/",
     "height": 606
    },
    "colab_type": "code",
    "id": "cviEd4bbeUQi",
    "outputId": "0c59a020-5f4c-4ac7-f04f-128cbab0bd94"
   },
   "outputs": [
    {
     "data": {
      "image/png": "[encoded data removed]",
      "text/plain": [
       "<Figure size 720x720 with 4 Axes>"
      ]
     },
     "metadata": {
      "needs_background": "light"
     },
     "output_type": "display_data"
    }
   ],
   "source": [
    "sample_precision = np.linalg.inv(np.cov(my_data, rowvar=False, bias=False))\n",
    "fig, axes = plt.subplots(2, 2)\n",
    "fig.set_size_inches(10, 10)\n",
    "for i in range(2):\n",
    "  for j in range(2):\n",
    "    ax = axes[i, j]\n",
    "    loc = posterior_mean[i, j]\n",
    "    scale = posterior_sd[i, j]\n",
    "    xmin = loc - 3.0 * scale\n",
    "    xmax = loc + 3.0 * scale\n",
    "    x = np.linspace(xmin, xmax, 1000)\n",
    "    y = scipy.stats.norm.pdf(x, loc=loc, scale=scale)\n",
    "    ax.plot(x, y)\n",
    "    ax.axvline(true_precision[i, j], color='red', label='True precision')\n",
    "    ax.axvline(sample_precision[i, j], color='red', linestyle=':', label='Sample precision')\n",
    "    ax.set_title('precision[%d, %d]' % (i, j))\n",
    "plt.legend()\n",
    "plt.show()"
   ]
  },
  {
   "cell_type": "markdown",
   "metadata": {
    "colab_type": "text",
    "id": "DxOs98_0Cvqz"
   },
   "source": [
    "## Step 3: Implement the likelihood function in TensorFlow\n",
    "\n",
    "Spoiler: Our first attempt isn't going to work; we'll talk about why below."
   ]
  },
  {
   "cell_type": "markdown",
   "metadata": {
    "colab_type": "text",
    "id": "NTYyufXBLOyV"
   },
   "source": [
    "**Tip**: use TensorFlow eager mode when developing your likelihood functions.  Eager mode makes TF behave more like NumPy - everything executes immediately, so you can debug interactively instead of having to use `Session.run()`.  See the notes [here](https://www.tensorflow.org/programmers_guide/eager)."
   ]
  },
  {
   "cell_type": "markdown",
   "metadata": {
    "colab_type": "text",
    "id": "iknSYSm5y73U"
   },
   "source": [
    "### Preliminary: Distribution classes\n",
    "\n",
    "TFP has a collection of distribution classes that we'll use to generate our log probabilities.  One thing to note is that these classes work with tensors of samples rather than just single samples - this allows for vectorization and related speedups.\n",
    "\n",
    "A distribution can work with a tensor of samples in 2 different ways.  It's simplest to illustrate these 2 ways with a concrete example involving a distribution with a single scalar paramter.  I'll use the [Poisson](https://www.tensorflow.org/probability/api_docs/python/tfp/distributions/Poisson) distribution, which has a `rate` parameter. \n",
    "* If we create a Poisson with a single value for the `rate` parameter, a call to its `sample()` method return a single value.  This value is called an **`event`**, and in this case the events are all scalars.\n",
    "* If we create a Poisson with a tensor of values for the `rate` parameter, a call to its `sample()`method now returns multiple values, one for each value in the rate tensor.  The object acts as a *collection* of independent Poissons, each with its own rate, and each of the values returned by a call to `sample()` corresponds to one of these Poissons.  This collection of independent *but not identically distributed* events is called a **`batch`**.\n",
    "* The `sample()` method takes a `sample_shape` parameter which defaults to an empty tuple.  Passing a non-empty value for `sample_shape` results in sample returning multiple batches.  This collection of batches is called a **`sample`**.\n",
    "\n",
    "A distribution's `log_prob()` method consumes data in a manner that parallels how `sample()` generates it.  `log_prob()` returns probabilities for samples, i.e. for multiple, independent batches of events.\n",
    "  * If we have our Poisson object that was created with a scalar `rate`, each batch is a scalar, and if we pass in a tensor of samples, we'll get out a tensor of the same size of log probabilities.\n",
    "  * If we have our Poisson object that was created with a tensor of shape `T` of `rate` values, each batch is a tensor of shape `T`.  If we pass in a tensor of samples of shape D, T, we'll get out a tensor of log probabilities of shape D, T.\n",
    "\n",
    "Below are some examples that illustrate these cases.  See [this notebook](https://github.com/tensorflow/probability/blob/master/tensorflow_probability/examples/jupyter_notebooks/Understanding_TensorFlow_Distributions_Shapes.ipynb) for a more detailed tutorial on events, batches, and shapes.\n",
    "\n",
    "\n"
   ]
  },
  {
   "cell_type": "markdown",
   "metadata": {
    "colab_type": "text",
    "id": "E79nKqufBPu2"
   },
   "source": [
    "A few conventions I'll be using in this notebook:\n",
    "1. In general I'll create **new graphs for individual cells**.  That way cells are self-contained, and operations I create in one cell won't have side effects in other cells.\n",
    "2. I'll **separate graph construction from execution**.  Cells will have the form:\n",
    "  ```\n",
    "  \n",
    "  with tf.Graph().as_default() as g:\n",
    "     # construct my local graph\n",
    "     ...\n",
    "    g.finalize()  # make sure the graph doesn't change after construction\n",
    "\n",
    "  with tf.Session(graph=g) as sess:\n",
    "    # run my graph\n",
    "   ```\n",
    "3. I'll use **underscores at the end of variable names to indicate they contain the output of the TensorFlow operation without the underscore**.  For example:\n",
    "  ```\n",
    "  x = tf.add(y, z)  # x is a TensorFlow operation\n",
    "  x_ = sess.run(x)  # x_ is the output of the operation x\n",
    "  ```\n",
    " "
   ]
  },
  {
   "cell_type": "code",
   "execution_count": 18,
   "metadata": {
    "colab": {
     "base_uri": "https://localhost:8080/",
     "height": 51
    },
    "colab_type": "code",
    "id": "2zAnT8GL534f",
    "outputId": "59903103-6dca-4460-ac81-7f040d1c9a54"
   },
   "outputs": [
    {
     "name": "stdout",
     "output_type": "stream",
     "text": [
      "iid draws from a single normal: [-1.4189385 -1.0439385 -0.9189385]\n",
      "draws from a batch of normals: [-1.4189385 -2.0439386 -8.918939 ]\n"
     ]
    }
   ],
   "source": [
    "with tf.Graph().as_default() as g:\n",
    "  # case 1: get log probabilities for a vector of iid draws from a single\n",
    "  # normal distribution\n",
    "  norm1 = tfd.Normal(loc=0., scale=1.)\n",
    "  probs1 = norm1.log_prob(tf.constant([1., 0.5, 0.]))\n",
    "\n",
    "  # case 2: get log probabilities for a vector of independent draws from\n",
    "  # multiple normal distributions with different parameters.  Note the vector\n",
    "  # values for loc and scale in the Normal constructor.\n",
    "  norm2 = tfd.Normal(loc=[0., 2., 4.], scale=[1., 1., 1.])\n",
    "  probs2 = norm2.log_prob(tf.constant([1., 0.5, 0.]))\n",
    "\n",
    "  g.finalize()\n",
    "  \n",
    "with tf.Session(graph=g) as sess:\n",
    "  print ('iid draws from a single normal:', sess.run(probs1))\n",
    "\n",
    "  print ('draws from a batch of normals:', sess.run(probs2))"
   ]
  },
  {
   "cell_type": "markdown",
   "metadata": {
    "colab_type": "text",
    "id": "yjGMitya49UN"
   },
   "source": [
    "### Data log likelihood\n",
    "\n",
    "First we'll implement the data log likelihood function."
   ]
  },
  {
   "cell_type": "markdown",
   "metadata": {
    "colab_type": "text",
    "id": "Nz1G3OviHpwg"
   },
   "source": [
    "Note: distributions can validate their input, but they don't do so by default.  We'll definitely want to turn on validation while we're debugging!  Once everything is working, we can turn validation off if speed is really critical."
   ]
  },
  {
   "cell_type": "code",
   "execution_count": 19,
   "metadata": {
    "colab": {},
    "colab_type": "code",
    "id": "9ITlkvOvHkX5"
   },
   "outputs": [],
   "source": [
    "VALIDATE_ARGS = True\n",
    "ALLOW_NAN_STATS = False"
   ]
  },
  {
   "cell_type": "markdown",
   "metadata": {
    "colab_type": "text",
    "id": "2GzEpvNgatAU"
   },
   "source": [
    "One key difference from the NumPy case is that our TensorFlow likelihood function will need to handle vectors of precision matrices rather than just single matrices.  Vectors of parameters will be used when we sample from multiple chains.\n",
    "\n",
    "We'll create a distribution object that works with a batch of precision matrices (i.e. one matrix per chain).\n",
    "\n",
    "When computing log probabilities of our data, we'll need our data to be replicated in the same manner as our parameters so that there is one copy per batch variable.  The shape of our replicated data will need to be as follows:\n",
    "\n",
    "`[sample shape, batch shape, event shape]`\n",
    "\n",
    "In our case, the event shape is 2 (since we are working with 2-D Gaussians).  The sample shape is 100, since we have 100 samples.  The batch shape will just be the number of precision matrices we're working with.  It's wasteful to replicate the data each time we call the likelihood function, so we'll replicate the data in advance and pass in the replicated version.\n",
    "\n",
    "Note that this is an inefficient implementation: `MultivariateNormalFullCovariance` is expensive relative to some alternatives that we'll talk about in the optimization section at the end."
   ]
  },
  {
   "cell_type": "code",
   "execution_count": 20,
   "metadata": {
    "colab": {},
    "colab_type": "code",
    "id": "GJB5wJ1IEsBu"
   },
   "outputs": [],
   "source": [
    "def log_lik_data(precisions, replicated_data):\n",
    "  n = tf.shape(precisions)[0]  # number of precision matrices\n",
    "  # We're estimating a precision matrix; we have to invert to get log\n",
    "  # probabilities.  Cholesky inversion should be relatively efficient,\n",
    "  # but as we'll see later, it's even better if we can avoid doing the Cholesky\n",
    "  # decomposition altogether.\n",
    "  precisions_cholesky = tf.cholesky(precisions)\n",
    "  covariances = tf.cholesky_solve(precisions_cholesky,\n",
    "                                  tf.eye(2, batch_shape=[n]))\n",
    "  rv_data = tfd.MultivariateNormalFullCovariance(\n",
    "      loc=tf.zeros([n, 2]),\n",
    "      covariance_matrix=covariances,\n",
    "      validate_args=VALIDATE_ARGS,\n",
    "      allow_nan_stats=ALLOW_NAN_STATS)\n",
    "\n",
    "  return tf.reduce_sum(rv_data.log_prob(replicated_data), axis=0)"
   ]
  },
  {
   "cell_type": "code",
   "execution_count": 21,
   "metadata": {
    "colab": {
     "base_uri": "https://localhost:8080/",
     "height": 34
    },
    "colab_type": "code",
    "id": "cIUPgDtEeM8L",
    "outputId": "429200e7-e7d5-480e-bb74-8a5351602675"
   },
   "outputs": [
    {
     "name": "stdout",
     "output_type": "stream",
     "text": [
      "(100, 2)\n",
      "(100, 2, 2)\n",
      "Original data\n",
      "[[ 1.9960071  1.371155 ]\n",
      " [-0.3108625 -0.8045084]\n",
      " [ 0.8756285  1.132521 ]\n",
      " [ 4.908268   2.111288 ]\n",
      " [-2.3772883 -1.4926063]]\n",
      "Replication 0\n",
      "[[ 1.9960071  1.371155 ]\n",
      " [-0.3108625 -0.8045084]\n",
      " [ 0.8756285  1.132521 ]\n",
      " [ 4.908268   2.111288 ]\n",
      " [-2.3772883 -1.4926063]]\n",
      "Replication 1\n",
      "[[ 1.9960071  1.371155 ]\n",
      " [-0.3108625 -0.8045084]\n",
      " [ 0.8756285  1.132521 ]\n",
      " [ 4.908268   2.111288 ]\n",
      " [-2.3772883 -1.4926063]]\n"
     ]
    }
   ],
   "source": [
    "# For our test, we'll use a tensor of 2 precision matrices.\n",
    "# We'll need to replicate our data for the likelihood function.\n",
    "# Remember, TFP wants the data to be structured so that the sample dimensions\n",
    "# are first (100 here), then the batch dimensions (2 here because we have 2\n",
    "# precision matrices), then the event dimensions (2 because we have 2-D\n",
    "# Gaussian data).  We'll need to add a middle dimension for the batch using\n",
    "# expand_dims, and then we'll need to create 2 replicates in this new dimension\n",
    "# using tile.\n",
    "n = 2\n",
    "print(np.shape(my_data))\n",
    "replicated_data = np.tile(np.expand_dims(my_data, axis=1), reps=[1, 2, 1])\n",
    "print (replicated_data.shape)\n",
    "\n",
    "# Sanity check\n",
    "print('Original data')\n",
    "print(my_data[0:5,:])\n",
    "print('Replication 0')\n",
    "print(replicated_data[0:5,0,:])\n",
    "print('Replication 1')\n",
    "print(replicated_data[0:5,1,:])"
   ]
  },
  {
   "cell_type": "markdown",
   "metadata": {
    "colab_type": "text",
    "id": "eFZ-bNCrgcDf"
   },
   "source": [
    "**Tip:**  One thing I've found to be extremely helpful is writing little sanity checks of my TensorFlow functions.  It's really easy to mess up the vectorization in TF, so having the simpler NumPy functions around is a great way to verify the TF output.  Think of these as little unit tests."
   ]
  },
  {
   "cell_type": "code",
   "execution_count": 22,
   "metadata": {
    "colab": {
     "base_uri": "https://localhost:8080/",
     "height": 119
    },
    "colab_type": "code",
    "id": "msBv3Kn7J8Oy",
    "outputId": "e6366c0b-c293-4742-e274-6717d3f1e24e"
   },
   "outputs": [
    {
     "name": "stdout",
     "output_type": "stream",
     "text": [
      "0\n",
      "numpy: -430.7121611327147\n",
      "tensorflow: -430.71204\n",
      "1\n",
      "numpy: -280.8182256375922\n",
      "tensorflow: -280.8182\n"
     ]
    }
   ],
   "source": [
    "# check against the numpy implementation\n",
    "with tf.Graph().as_default() as g:\n",
    "  precisions = np.stack([np.eye(2, dtype=np.float32), true_precision])\n",
    "  n = precisions.shape[0]\n",
    "  lik_tf = log_lik_data(precisions, replicated_data=replicated_data)\n",
    "  g.finalize()\n",
    "\n",
    "with tf.Session(graph=g) as sess:\n",
    "  lik_tf_ = sess.run(lik_tf)\n",
    "  for i in range(n):\n",
    "    print (i)\n",
    "    print ('numpy:', log_lik_data_numpy(precisions[i], my_data))\n",
    "    print ('tensorflow:', lik_tf_[i])"
   ]
  },
  {
   "cell_type": "markdown",
   "metadata": {
    "colab_type": "text",
    "id": "y41-jXuMc0K-"
   },
   "source": [
    "### Prior log likelihood\n",
    "\n",
    "The prior is easier since we don't have to worry about data replication."
   ]
  },
  {
   "cell_type": "code",
   "execution_count": 23,
   "metadata": {
    "colab": {},
    "colab_type": "code",
    "id": "dIzU4zNxEQPQ"
   },
   "outputs": [],
   "source": [
    "def log_lik_prior(precisions):\n",
    "  rv_precision = tfd.Wishart(\n",
    "      df=PRIOR_DF,\n",
    "      scale=PRIOR_SCALE,\n",
    "      validate_args=VALIDATE_ARGS,\n",
    "      allow_nan_stats=ALLOW_NAN_STATS)\n",
    "  return rv_precision.log_prob(precisions)"
   ]
  },
  {
   "cell_type": "code",
   "execution_count": 24,
   "metadata": {
    "colab": {
     "base_uri": "https://localhost:8080/",
     "height": 119
    },
    "colab_type": "code",
    "id": "e_RP9kLBdByx",
    "outputId": "4306b1da-15bb-4c72-c106-5c166f324435"
   },
   "outputs": [
    {
     "name": "stdout",
     "output_type": "stream",
     "text": [
      "0\n",
      "numpy: -2.2351873809649625\n",
      "tensorflow: -2.2351875\n",
      "1\n",
      "numpy: -9.103606346649766\n",
      "tensorflow: -9.103608\n"
     ]
    }
   ],
   "source": [
    "# check against the numpy implementation\n",
    "with tf.Graph().as_default() as g:\n",
    "  precisions = np.stack([np.eye(2, dtype=np.float32), true_precision])\n",
    "  n = precisions.shape[0]\n",
    "  lik_tf = log_lik_prior(precisions)\n",
    "  g.finalize()\n",
    "\n",
    "with tf.Session(graph=g) as sess:\n",
    "  lik_tf_ = sess.run(lik_tf)\n",
    "  for i in range(n):\n",
    "    print (i)\n",
    "    print ('numpy:', log_lik_prior_numpy(precisions[i]))\n",
    "    print ('tensorflow:', lik_tf_[i])"
   ]
  },
  {
   "cell_type": "markdown",
   "metadata": {
    "colab_type": "text",
    "id": "bwIARwvykZDZ"
   },
   "source": [
    "### Build the joint log likelihood function\n",
    "\n",
    "The data log likelihood function above depends on our observations, but the sampler won't have those.  We can get rid of the dependency without using a global variable by using a [closure](https://en.wikipedia.org/wiki/Closure_(computer_programming).  Closures involve an outer function that build an environment containing variables needed by an inner function."
   ]
  },
  {
   "cell_type": "code",
   "execution_count": 25,
   "metadata": {
    "colab": {},
    "colab_type": "code",
    "id": "Ps6teXnZluC5"
   },
   "outputs": [],
   "source": [
    "def get_log_lik(data, n_chains=1):\n",
    "  # The data argument that is passed in will be available to the inner function\n",
    "  # below so it doesn't have to be passed in as a parameter.\n",
    "  replicated_data = np.tile(np.expand_dims(data, axis=1), reps=[1, n_chains, 1])\n",
    "\n",
    "  def _log_lik(precision):\n",
    "    return log_lik_data(precision, replicated_data) + log_lik_prior(precision)\n",
    "\n",
    "  return _log_lik"
   ]
  },
  {
   "cell_type": "code",
   "execution_count": 29,
   "metadata": {
    "colab": {
     "base_uri": "https://localhost:8080/",
     "height": 190
    },
    "colab_type": "code",
    "id": "1ThOyNvXkW6m",
    "outputId": "f44e668d-294a-42cf-9f34-259a08b1b38d"
   },
   "outputs": [
    {
     "name": "stdout",
     "output_type": "stream",
     "text": [
      "Cholesky decomposition was not successful. The input might not be valid.\n",
      "\t [[node mcmc_sample_chain/scan/while/smart_for_loop/while/mh_one_step/hmc_kernel_one_step/while/hmc_leapfrog_integrator_one_step/maybe_call_fn_and_grads/value_and_gradients/Wishart/log_prob/Cholesky (defined at /home/akshaya/anaconda3/envs/skg-tensorflow/lib/python3.6/site-packages/tensorflow_probability/python/distributions/wishart.py:275)  = Cholesky[T=DT_FLOAT, _device=\"/job:localhost/replica:0/task:0/device:CPU:0\"](mcmc_sample_chain/scan/while/smart_for_loop/while/mh_one_step/hmc_kernel_one_step/while/hmc_leapfrog_integrator_one_step/add_1)]]\n",
      "\n",
      "Caused by op 'mcmc_sample_chain/scan/while/smart_for_loop/while/mh_one_step/hmc_kernel_one_step/while/hmc_leapfrog_integrator_one_step/maybe_call_fn_and_grads/value_and_gradients/Wishart/log_prob/Cholesky', defined at:\n",
      "  File \"/home/akshaya/anaconda3/envs/skg-tensorflow/lib/python3.6/runpy.py\", line 193, in _run_module_as_main\n",
      "...\n",
      "InvalidArgumentError (see above for traceback): Cholesky decomposition was not successful. The input might not be valid.\n",
      "\t [[node mcmc_sample_chain/scan/while/smart_for_loop/while/mh_one_step/hmc_kernel_one_step/while/hmc_leapfrog_integrator_one_step/maybe_call_fn_and_grads/value_and_gradients/Wishart/log_prob/Cholesky (defined at /home/akshaya/anaconda3/envs/skg-tensorflow/lib/python3.6/site-packages/tensorflow_probability/python/distributions/wishart.py:275)  = Cholesky[T=DT_FLOAT, _device=\"/job:localhost/replica:0/task:0/device:CPU:0\"](mcmc_sample_chain/scan/while/smart_for_loop/while/mh_one_step/hmc_kernel_one_step/while/hmc_leapfrog_integrator_one_step/add_1)]]\n",
      "\n"
     ]
    }
   ],
   "source": [
    "with tf.Graph().as_default() as g:\n",
    "  # Use expand_dims because we want to pass in a tensor of starting values\n",
    "  init_precision = tf.expand_dims(tf.eye(2), axis=0)\n",
    "  log_lik_fn = get_log_lik(my_data, n_chains=1)\n",
    "\n",
    "  # we'll just do a few steps here\n",
    "  num_results = 10\n",
    "  num_burnin_steps = 10\n",
    "\n",
    "  states, kernel_results = tfp.mcmc.sample_chain(\n",
    "      num_results=num_results,\n",
    "      num_burnin_steps=num_burnin_steps,\n",
    "      current_state=[\n",
    "          init_precision,\n",
    "      ],\n",
    "      kernel=tfp.mcmc.HamiltonianMonteCarlo(\n",
    "          target_log_prob_fn=log_lik_fn,\n",
    "          step_size=0.1,\n",
    "          num_leapfrog_steps=3,\n",
    "          seed=123),\n",
    "      parallel_iterations=1)\n",
    "  \n",
    "  g.finalize()\n",
    "\n",
    "with tf.Session(graph=g) as sess:\n",
    "  tf.set_random_seed(123)\n",
    "\n",
    "  try:\n",
    "    states_, kernel_results_ = sess.run([states, kernel_results])\n",
    "  except Exception as e:\n",
    "    # shorten the giant stack trace\n",
    "    lines = str(e).split('\\n')\n",
    "    print('\\n'.join(lines[:5]+['...']+lines[-3:]))"
   ]
  },
  {
   "cell_type": "markdown",
   "metadata": {
    "colab_type": "text",
    "id": "je9NrE27snQG"
   },
   "source": [
    "### Identifying the problem\n",
    "\n",
    "`InvalidArgumentError (see above for traceback): Cholesky decomposition was not successful. The input might not be valid.`  That's not super helpful.  Let's see if we can find out more about what happened.\n",
    "\n",
    "* We'll print out the parameters for each step so we can see the value for which things fail\n",
    "* We'll add some assertions to guard against specific problems.\n",
    "\n",
    "Assertions are tricky because they're TensorFlow operations, and we have to take care that they get executed and don't get optimized out of the graph.  It's worth reading [this overview](https://wookayin.github.io/tensorflow-talk-debugging/#1) of TensorFlow debugging if you aren't familiar with TF assertions.  You can explicitly force assertions to execute using `tf.control_dependencies` (see the comments in the code below).\n",
    "\n",
    "TensorFlow's native `Print` function has the same behavior as assertions - it's an operation, and you need to take some care to ensure that it executes.  `Print` causes additional headaches when we're working in a notebook: its output is sent to `stderr`, and `stderr` isn't displayed in the cell.  We'll use a trick here: instead of using `tf.Print`, we'll create our own TensorFlow print operation via `tf.pyfunc`.  As with assertions, we have to make sure our method executes.\n"
   ]
  },
  {
   "cell_type": "code",
   "execution_count": 33,
   "metadata": {
    "colab": {},
    "colab_type": "code",
    "id": "ZWg3y5KU_mg9"
   },
   "outputs": [],
   "source": [
    "def get_log_lik_verbose(data, n_chains=1):\n",
    "  # The data argument that is passed in will be available to the inner function\n",
    "  # below so it doesn't have to be passed in as a parameter.\n",
    "  replicated_data = np.tile(np.expand_dims(data, axis=1), reps=[1, n_chains, 1])\n",
    "\n",
    "  def _log_lik(precisions):\n",
    "    # An internal method we'll make into a TensorFlow operation via tf.py_func\n",
    "    def _print_precisions(precisions):\n",
    "      print ('precisions:\\n', precisions)\n",
    "      return False  # operations must return something!\n",
    "    # Turn our method into a TensorFlow operation\n",
    "    print_op = tf.py_func(_print_precisions, [precisions], tf.bool)\n",
    "\n",
    "    # Assertions are also operations, and some care needs to be taken to ensure\n",
    "    # that they're executed\n",
    "    assert_op = tf.assert_equal(\n",
    "        precisions, tf.transpose(precisions, perm=[0, 2, 1]), data=[precisions],\n",
    "        message='not symmetrical', summarize=4, name='symmetry_check')\n",
    "\n",
    "    # The control_dependencies statement forces its arguments to be executed\n",
    "    # before subsequent operations\n",
    "    with tf.control_dependencies([print_op, assert_op]):\n",
    "      return (log_lik_data(precisions, replicated_data) +\n",
    "              log_lik_prior(precisions))\n",
    "\n",
    "  return _log_lik"
   ]
  },
  {
   "cell_type": "code",
   "execution_count": 36,
   "metadata": {
    "colab": {
     "base_uri": "https://localhost:8080/",
     "height": 292
    },
    "colab_type": "code",
    "id": "znG_AtTR7qob",
    "outputId": "ccae3fb5-c5c6-4f0b-bff2-556bbcabdade"
   },
   "outputs": [
    {
     "name": "stdout",
     "output_type": "stream",
     "text": [
      "precisions:\n",
      " [[[1. 0.]\n",
      "  [0. 1.]]]\n",
      "precisions:\n",
      " [[[ 0.17633396 -0.43482423]\n",
      "  [-0.48801905  1.0519004 ]]]\n",
      "assertion failed: [[[0.176333964 -0.434824228][-0.488019049 1.05190039]]]\n",
      "\t [[node mcmc_sample_chain/scan/while/smart_for_loop/while/mh_one_step/hmc_kernel_one_step/while/hmc_leapfrog_integrator_one_step/maybe_call_fn_and_grads/value_and_gradients/symmetry_check/Assert/AssertGuard/Assert (defined at <ipython-input-33-cd58a2918834>:18)  = Assert[T=[DT_FLOAT], summarize=4, _device=\"/job:localhost/replica:0/task:0/device:CPU:0\"](mcmc_sample_chain/scan/while/smart_for_loop/while/mh_one_step/hmc_kernel_one_step/while/hmc_leapfrog_integrator_one_step/maybe_call_fn_and_grads/value_and_gradients/symmetry_check/Assert/AssertGuard/Assert/Switch, mcmc_sample_chain/scan/while/smart_for_loop/while/mh_one_step/hmc_kernel_one_step/while/hmc_leapfrog_integrator_one_step/maybe_call_fn_and_grads/value_and_gradients/symmetry_check/Assert/AssertGuard/Assert/Switch_1)]]\n",
      "\n",
      "Caused by op 'mcmc_sample_chain/scan/while/smart_for_loop/while/mh_one_step/hmc_kernel_one_step/while/hmc_leapfrog_integrator_one_step/maybe_call_fn_and_grads/value_and_gradients/symmetry_check/Assert/AssertGuard/Assert', defined at:\n",
      "  File \"/home/akshaya/anaconda3/envs/skg-tensorflow/lib/python3.6/runpy.py\", line 193, in _run_module_as_main\n",
      "...\n",
      "InvalidArgumentError (see above for traceback): assertion failed: [[[0.176333964 -0.434824228][-0.488019049 1.05190039]]]\n",
      "\t [[node mcmc_sample_chain/scan/while/smart_for_loop/while/mh_one_step/hmc_kernel_one_step/while/hmc_leapfrog_integrator_one_step/maybe_call_fn_and_grads/value_and_gradients/symmetry_check/Assert/AssertGuard/Assert (defined at <ipython-input-33-cd58a2918834>:18)  = Assert[T=[DT_FLOAT], summarize=4, _device=\"/job:localhost/replica:0/task:0/device:CPU:0\"](mcmc_sample_chain/scan/while/smart_for_loop/while/mh_one_step/hmc_kernel_one_step/while/hmc_leapfrog_integrator_one_step/maybe_call_fn_and_grads/value_and_gradients/symmetry_check/Assert/AssertGuard/Assert/Switch, mcmc_sample_chain/scan/while/smart_for_loop/while/mh_one_step/hmc_kernel_one_step/while/hmc_leapfrog_integrator_one_step/maybe_call_fn_and_grads/value_and_gradients/symmetry_check/Assert/AssertGuard/Assert/Switch_1)]]\n",
      "\n"
     ]
    }
   ],
   "source": [
    "with tf.Graph().as_default() as g:\n",
    "  tf.set_random_seed(123)\n",
    "  init_precision = tf.expand_dims(tf.eye(2), axis=0)\n",
    "  log_lik_fn = get_log_lik_verbose(my_data)\n",
    "\n",
    "  # we'll just do a few steps here\n",
    "  num_results = 10\n",
    "  num_burnin_steps = 10\n",
    "\n",
    "  states, kernel_results = tfp.mcmc.sample_chain(\n",
    "      num_results=num_results,\n",
    "      num_burnin_steps=num_burnin_steps,\n",
    "      current_state=[\n",
    "          init_precision,\n",
    "      ],\n",
    "      kernel=tfp.mcmc.HamiltonianMonteCarlo(\n",
    "          target_log_prob_fn=log_lik_fn,\n",
    "          step_size=0.1,\n",
    "          num_leapfrog_steps=3,\n",
    "          seed=123),\n",
    "      parallel_iterations=1)\n",
    "  \n",
    "  g.finalize()\n",
    "\n",
    "with tf.Session(graph=g) as sess:\n",
    "  try:\n",
    "    states_, kernel_results_ = sess.run([states, kernel_results])\n",
    "  except Exception as e:\n",
    "    # shorten the giant stack trace\n",
    "    lines = str(e).split('\\n')\n",
    "    print ('\\n'.join(lines[:5]+['...']+lines[-3:]))"
   ]
  },
  {
   "cell_type": "markdown",
   "metadata": {
    "colab_type": "text",
    "id": "UPBlB7expwuw"
   },
   "source": [
    "### Why this fails\n",
    "\n",
    "The very first new parameter value the sampler tries is an asymmetrical matrix.  That causes the Cholesky decomposition to fail, since it's only defined for symmetrical (and positive definite) matrices.\n",
    "\n",
    "The problem here is that our parameter of interest is a precision matrix, and precision matrices must be real, symmetric, and positive definite.  The sampler doesn't know anything about this constraint (except possibly through gradients), so it is entirely possible that the sampler will propose an invalid value, leading to an exception, particularly if the step size is large.\n",
    "\n",
    "With the Hamiltonian Monte Carlo sampler, we may be able to work around the problem by using a very small step size, since the gradient should keep the parameters away from invalid regions, but small step sizes mean slow convergence.  With a Metropolis-Hastings sampler, which doesn't know anything about gradients, we're doomed."
   ]
  },
  {
   "cell_type": "markdown",
   "metadata": {
    "colab_type": "text",
    "id": "9RmouuKCsaYv"
   },
   "source": [
    "# Version 2: reparametrizing to unconstrained parameters\n",
    "\n",
    "There is a straightforward solution to the problem above: we can reparametrize our model such that the new parameters no longer have these constraints.  TFP provides a useful set of tools - bijectors - for doing just that.\n"
   ]
  },
  {
   "cell_type": "markdown",
   "metadata": {
    "colab_type": "text",
    "id": "RGbGGMRs01Sk"
   },
   "source": [
    "### Reparameterization with bijectors\n",
    "\n",
    "Our precision matrix must be real and symmetric; we want an alternative parameterization that doesn't have these constraints.  A starting point is a Cholesky factorization of the precision matrix.  The Cholesky factors are still constrained - they are lower triangular, and their diagonal elements must be positive.  However, if we take the log of the diagonals of the Cholesky factor, the logs are no longer are constrained to be positive, and then if we flatten the lower triangular portion into a 1-D vector, we no longer have the lower triangular constraint.  The result in our case will be a length 3 vector with no constraints.\n",
    "\n",
    "(The [Stan manual](http://mc-stan.org/users/documentation/) has a great chapter on using transformations to remove various types of constraints on parameters.)\n",
    "\n",
    "This reparameterization has little effect on our data log likelihood function - we just have to invert our transformation so we get back the precision matrix - but the effect on the prior is more complicated.  We've specified that the probability of a given precision matrix is given by the Wishart distribution; what is the probability of our transformed matrix?\n",
    "\n",
    "Recall that if we apply a monotonic function $g$ to a 1-D random variable $X$, $Y = g(X)$, the density for $Y$ is given by \n",
    "\n",
    "$$\n",
    "f_Y(y) = | \\frac{d}{dy}(g^{-1}(y)) | f_X(g^{-1}(y))\n",
    "$$\n",
    "\n",
    "The derivative of $g^{-1}$ term accounts for the way that $g$ changes local volumes.  For higher dimensional random variables, the corrective factor is the absolute value of the determinant of the Jacobian of $g^{-1}$ (see [here](https://en.wikipedia.org/wiki/Probability_density_function#Dependent_variables_and_change_of_variables)).\n",
    "\n",
    "We'll have to add a Jacobian of the inverse transform into our log prior likelihood function.  Happily, TFP's `Bijector` class can take care of this for us.\n"
   ]
  },
  {
   "cell_type": "markdown",
   "metadata": {
    "colab_type": "text",
    "id": "M8deaPaGI6MZ"
   },
   "source": [
    "The [`Bijector`](https://www.tensorflow.org/api_docs/python/tf/distributions/bijectors/Bijector) class is used to represent invertible, smooth functions used for changing variables in probability density functions.  Bijectors all have a `forward()` method that performs a transform, an `inverse()` method that inverts it, and `forward_log_det_jacobian()` and `inverse_log_det_jacobian()` methods that provide the Jacobian corrections we need when we reparaterize a pdf.\n",
    "\n",
    "TFP provides a collection of useful bijectors that we can combine through composition via the [`Chain`](https://www.tensorflow.org/probability/api_docs/python/tfp/bijectors/Chain) operator to form quite complicated transforms.  In our case, we'll compose the following 3 bijectors (the operations in the chain are performed from right to left):\n",
    "\n",
    "1. The first step of our transform is to perform a Cholesky factorization on the precision matrix.  There isn't a Bijector class for that; however, the [`CholeskyOuterProduct`](https://www.tensorflow.org/probability/api_docs/python/tfp/bijectors/CholeskyOuterProduct) bijector takes the product of 2 Cholesky factors.  We can use the inverse of that operation using the [`Invert`](https://www.tensorflow.org/probability/api_docs/python/tfp/bijectors/Invert) operator.\n",
    "2. The next step is to take the log of the diagonal elements of the Cholesky factor.  We accomplish this via the `TransformDiagonal` bijector and the inverse of the [`Exp`](https://www.tensorflow.org/probability/api_docs/python/tfp/bijectors/Exp) bijector.\n",
    "3. Finally we flatten the lower triangular portion of the matrix to a vector using the inverse of the `FillTriangular` bijector."
   ]
  },
  {
   "cell_type": "code",
   "execution_count": null,
   "metadata": {
    "colab": {},
    "colab_type": "code",
    "id": "OM4s01mGsjfZ"
   },
   "outputs": [],
   "source": [
    "# Our transform has 3 stages that we chain together via composition:\n",
    "precision_to_unconstrained = tfb.Chain([\n",
    "    # step 3: flatten the lower triangular portion of the matrix\n",
    "    tfb.Invert(tfb.FillTriangular(validate_args=VALIDATE_ARGS)),\n",
    "    # step 2: take the log of the diagonals    \n",
    "    tfb.TransformDiagonal(tfb.Invert(tfb.Exp(validate_args=VALIDATE_ARGS))),\n",
    "    # step 1: decompose the precision matrix into its Cholesky factors\n",
    "    tfb.Invert(tfb.CholeskyOuterProduct(validate_args=VALIDATE_ARGS)),\n",
    "])"
   ]
  },
  {
   "cell_type": "code",
   "execution_count": null,
   "metadata": {
    "colab": {
     "base_uri": "https://localhost:8080/",
     "height": 459
    },
    "colab_type": "code",
    "id": "z7qIfflyn6Bv",
    "outputId": "44c1b468-1f06-4d49-878b-dbb090fa18af"
   },
   "outputs": [],
   "source": [
    "# sanity checks\n",
    "with tf.Graph().as_default() as g:\n",
    "  m = tf.constant([[1., 2.], [2., 8.]])\n",
    "  m_fwd = precision_to_unconstrained.forward(m)\n",
    "  m_inv = precision_to_unconstrained.inverse(m_fwd)\n",
    "\n",
    "  # bijectors handle tensors of values, too!\n",
    "  m2 = tf.stack([m, tf.eye(2)])\n",
    "  m2_fwd = precision_to_unconstrained.forward(m2)\n",
    "  m2_inv = precision_to_unconstrained.inverse(m2_fwd)\n",
    "  \n",
    "  g.finalize()\n",
    "\n",
    "with tf.Session(graph=g) as sess:\n",
    "  m_, m_fwd_, m_inv_ = sess.run([m, m_fwd, m_inv])\n",
    "  print 'single input:'\n",
    "  print 'm:\\n', m_\n",
    "  print 'precision_to_unconstrained(m):\\n', m_fwd_\n",
    "  print 'inverse(precision_to_unconstrained(m)):\\n', m_inv_\n",
    "  print\n",
    "\n",
    "  m2_, m2_fwd_, m2_inv_ = sess.run([m2, m2_fwd, m2_inv])\n",
    "  print 'tensor of inputs:'\n",
    "  print 'm2:\\n', m2_\n",
    "  print 'precision_to_unconstrained(m2):\\n', m2_fwd_\n",
    "  print 'inverse(precision_to_unconstrained(m2)):\\n', m2_inv_"
   ]
  },
  {
   "cell_type": "markdown",
   "metadata": {
    "colab_type": "text",
    "id": "9wVq7AwOKYhd"
   },
   "source": [
    "The [`TransformedDistribution`](https://www.tensorflow.org/probability/api_docs/python/tfp/distributions/TransformedDistribution) class automates the process of applying a bijector to a distribution and making the necessary Jacobian correction to `log_prob()`.  Our new prior becomes:"
   ]
  },
  {
   "cell_type": "code",
   "execution_count": null,
   "metadata": {
    "colab": {},
    "colab_type": "code",
    "id": "k0pQ7HqrN8aq"
   },
   "outputs": [],
   "source": [
    "def log_lik_prior_transformed(transformed_precisions):\n",
    "  rv_precision = tfd.TransformedDistribution(\n",
    "      tfd.Wishart(\n",
    "          df=PRIOR_DF,\n",
    "          scale=PRIOR_SCALE,\n",
    "          validate_args=VALIDATE_ARGS,\n",
    "          allow_nan_stats=ALLOW_NAN_STATS),\n",
    "      bijector=precision_to_unconstrained,\n",
    "      validate_args=VALIDATE_ARGS)\n",
    "  return rv_precision.log_prob(transformed_precisions)"
   ]
  },
  {
   "cell_type": "code",
   "execution_count": null,
   "metadata": {
    "colab": {
     "base_uri": "https://localhost:8080/",
     "height": 119
    },
    "colab_type": "code",
    "id": "-ddk6nKoO2tv",
    "outputId": "318f4700-a652-462e-f1fa-8b7f6a24ff8b"
   },
   "outputs": [],
   "source": [
    "# Check against the numpy implementation.  Note that when comparing, we need\n",
    "# to add in the Jacobian correction.\n",
    "with tf.Graph().as_default() as g:\n",
    "  precisions = np.stack([np.eye(2, dtype=np.float32), true_precision])\n",
    "  transformed_precisions = precision_to_unconstrained.forward(precisions)\n",
    "  lik_tf = log_lik_prior_transformed(transformed_precisions)\n",
    "  corrections = precision_to_unconstrained.inverse_log_det_jacobian(\n",
    "      transformed_precisions, event_ndims=1)\n",
    "  n = precisions.shape[0]\n",
    "  g.finalize()\n",
    "\n",
    "with tf.Session(graph=g) as sess:\n",
    "  lik_tf_, corrections_ = sess.run([lik_tf, corrections])\n",
    "  for i in range(n):\n",
    "    print i\n",
    "    print 'numpy:', log_lik_prior_numpy(precisions[i]) + corrections_[i]\n",
    "    print 'tensorflow:', lik_tf_[i]"
   ]
  },
  {
   "cell_type": "markdown",
   "metadata": {
    "colab_type": "text",
    "id": "XaSA9l_UQq9Y"
   },
   "source": [
    "We just need to invert the transform for our data log likelihood:\n",
    "\n",
    "`precision = precision_to_unconstrained.inverse(transformed_precision)\n",
    "`\n",
    "\n",
    "Since we actually want the Cholesky factorization of the precision matrix, it would be more efficient to do just a partial inverse here.  However, we'll leave optimization for later and will leave the partial inverse as an exercise for the reader."
   ]
  },
  {
   "cell_type": "code",
   "execution_count": null,
   "metadata": {
    "colab": {},
    "colab_type": "code",
    "id": "vM-nF4t2QqSr"
   },
   "outputs": [],
   "source": [
    "def log_lik_data_transformed(transformed_precisions, replicated_data):\n",
    "  # We recover the precision matrix by inverting our bijector.  This is\n",
    "  # inefficient since we really want the Cholesky decomposition of the\n",
    "  # precision matrix, and the bijector has that in hand during the inversion,\n",
    "  # but we'll worry about efficiency later.\n",
    "  n = tf.shape(transformed_precisions)[0]\n",
    "  precisions = precision_to_unconstrained.inverse(transformed_precisions)\n",
    "  precisions_cholesky = tf.cholesky(precisions)\n",
    "  covariances = tf.cholesky_solve(precisions_cholesky,\n",
    "                                  tf.eye(2, batch_shape=[n]))\n",
    "  rv_data = tfd.MultivariateNormalFullCovariance(\n",
    "      loc=tf.zeros([n, 2]),\n",
    "      covariance_matrix=covariances,\n",
    "      validate_args=VALIDATE_ARGS,\n",
    "      allow_nan_stats=ALLOW_NAN_STATS)\n",
    "\n",
    "  return tf.reduce_sum(rv_data.log_prob(replicated_data), axis=0)"
   ]
  },
  {
   "cell_type": "code",
   "execution_count": null,
   "metadata": {
    "colab": {
     "base_uri": "https://localhost:8080/",
     "height": 119
    },
    "colab_type": "code",
    "id": "WyoYF8AM3d1q",
    "outputId": "3ced3835-dd51-4e9a-f70a-47dc606845c5"
   },
   "outputs": [],
   "source": [
    "# sanity check\n",
    "with tf.Graph().as_default() as g:\n",
    "  precisions = np.stack([np.eye(2, dtype=np.float32), true_precision])\n",
    "  transformed_precisions = precision_to_unconstrained.forward(precisions)\n",
    "  lik_tf = log_lik_data_transformed(transformed_precisions, replicated_data)\n",
    "  g.finalize()\n",
    "\n",
    "with tf.Session(graph=g) as sess:\n",
    "  lik_tf_ = sess.run(lik_tf)\n",
    "  for i in range(precisions.shape[0]):\n",
    "    print i\n",
    "    print 'numpy:', log_lik_data_numpy(precisions[i], my_data)\n",
    "    print 'tensorflow:', lik_tf_[i]"
   ]
  },
  {
   "cell_type": "markdown",
   "metadata": {
    "colab_type": "text",
    "id": "3w3sMPgITLRM"
   },
   "source": [
    "Again we wrap our new functions in a closure."
   ]
  },
  {
   "cell_type": "code",
   "execution_count": null,
   "metadata": {
    "colab": {},
    "colab_type": "code",
    "id": "JKWHJFisTIzo"
   },
   "outputs": [],
   "source": [
    "def get_log_lik_transformed(data, n_chains=1):\n",
    "  # The data argument that is passed in will be available to the inner function\n",
    "  # below so it doesn't have to be passed in as a parameter.\n",
    "  replicated_data = np.tile(np.expand_dims(data, axis=1), reps=[1, n_chains, 1])\n",
    "\n",
    "  def _log_lik_transformed(transformed_precisions):\n",
    "    return (log_lik_data_transformed(transformed_precisions, replicated_data) +\n",
    "            log_lik_prior_transformed(transformed_precisions))\n",
    "\n",
    "  return _log_lik_transformed"
   ]
  },
  {
   "cell_type": "code",
   "execution_count": null,
   "metadata": {
    "colab": {
     "base_uri": "https://localhost:8080/",
     "height": 34
    },
    "colab_type": "code",
    "id": "Uu1eJSOqiZ3S",
    "outputId": "d755cd8d-9d4b-4355-ba60-341e4c0bd7f2"
   },
   "outputs": [],
   "source": [
    "# make sure everything runs\n",
    "with tf.Graph().as_default() as g:\n",
    "  log_lik_fn = get_log_lik_transformed(my_data)\n",
    "  m = tf.expand_dims(tf.eye(2), axis=0)\n",
    "  lik = log_lik_fn(precision_to_unconstrained.forward(m))\n",
    "  g.finalize()\n",
    "\n",
    "with tf.Session(graph=g) as sess:\n",
    "  print sess.run(lik)"
   ]
  },
  {
   "cell_type": "markdown",
   "metadata": {
    "colab_type": "text",
    "id": "t-XRDaXcTmX8"
   },
   "source": [
    "## Sampling\n",
    "\n",
    "Now that we don't have to worry about our sampler blowing up because of invalid parameter values, let's generate some real samples.\n",
    "\n",
    "The sampler works with the unconstrained version of our parameters, so we need to transform our initial value to its unconstrained version.  The samples that we generate will also all be in their unconstrained form, so we need to transform them back.  Bijectors are vectorized, so it's easy to do so."
   ]
  },
  {
   "cell_type": "code",
   "execution_count": null,
   "metadata": {
    "colab": {},
    "colab_type": "code",
    "id": "PFvyLlP_Tbi4"
   },
   "outputs": [],
   "source": [
    "# We'll choose a proper random initial value this time\n",
    "np.random.seed(123)\n",
    "initial_value_cholesky = np.array(\n",
    "    [[0.5 + np.random.uniform(), 0.0],\n",
    "     [-0.5 + np.random.uniform(), 0.5 + np.random.uniform()]],\n",
    "    dtype=np.float32)\n",
    "initial_value = np.expand_dims(\n",
    "    initial_value_cholesky.dot(initial_value_cholesky.T), axis=0)\n",
    "\n",
    "# The sampler works with unconstrained values, so we'll transform our initial\n",
    "# value\n",
    "with tf.Graph().as_default() as g:\n",
    "  initial_value_transformed = precision_to_unconstrained.forward(initial_value)\n",
    "  g.finalize()\n",
    "\n",
    "with tf.Session(graph=g) as sess:\n",
    "  initial_value_transformed_ = sess.run(initial_value_transformed)"
   ]
  },
  {
   "cell_type": "code",
   "execution_count": null,
   "metadata": {
    "colab": {},
    "colab_type": "code",
    "id": "pUobCu7xTnoa"
   },
   "outputs": [],
   "source": [
    "# Sample!\n",
    "with tf.Graph().as_default() as g:\n",
    "  tf.set_random_seed(123)\n",
    "  log_lik_fn = get_log_lik_transformed(my_data, n_chains=1)\n",
    "\n",
    "  num_results = 1000\n",
    "  num_burnin_steps = 1000\n",
    "\n",
    "  states, kernel_results = tfp.mcmc.sample_chain(\n",
    "      num_results=num_results,\n",
    "      num_burnin_steps=num_burnin_steps,\n",
    "      current_state=[\n",
    "          initial_value_transformed_,\n",
    "      ],\n",
    "      kernel=tfp.mcmc.HamiltonianMonteCarlo(\n",
    "          target_log_prob_fn=log_lik_fn,\n",
    "          step_size=0.1,\n",
    "          num_leapfrog_steps=3,\n",
    "          seed=123),\n",
    "      parallel_iterations=1)\n",
    "  # transform samples back to their constrained form\n",
    "  precision_samples = precision_to_unconstrained.inverse(states)\n",
    "  \n",
    "  g.finalize()\n",
    "\n",
    "with tf.Session(graph=g) as sess:\n",
    "  states_, precision_samples_, kernel_results_ = sess.run(\n",
    "      [states, precision_samples, kernel_results])"
   ]
  },
  {
   "cell_type": "markdown",
   "metadata": {
    "colab_type": "text",
    "id": "I-klSjK2m5mM"
   },
   "source": [
    "Let's compare the mean of our sampler's output to the analytic posterior mean!"
   ]
  },
  {
   "cell_type": "code",
   "execution_count": null,
   "metadata": {
    "colab": {
     "base_uri": "https://localhost:8080/",
     "height": 119
    },
    "colab_type": "code",
    "id": "Xw7VHCMvkPKg",
    "outputId": "595e8f47-77e9-457d-9aab-e96e1625cc9b"
   },
   "outputs": [],
   "source": [
    "print 'True posterior mean:\\n', posterior_mean\n",
    "print 'Sample mean:\\n', np.mean(np.reshape(precision_samples_, [-1, 2, 2]), axis=0)"
   ]
  },
  {
   "cell_type": "markdown",
   "metadata": {
    "colab_type": "text",
    "id": "IXvQbe7JndV-"
   },
   "source": [
    "We're way off!  Let's figure out why.  First let's look at our samples."
   ]
  },
  {
   "cell_type": "code",
   "execution_count": null,
   "metadata": {
    "colab": {
     "base_uri": "https://localhost:8080/",
     "height": 340
    },
    "colab_type": "code",
    "id": "ajQSpMwfnmHr",
    "outputId": "c3ff41b6-417c-4a9a-a13b-0c407f8d03e8"
   },
   "outputs": [],
   "source": [
    "np.reshape(precision_samples_, [-1, 2, 2])"
   ]
  },
  {
   "cell_type": "markdown",
   "metadata": {
    "colab_type": "text",
    "id": "ayxqUbCZnu-l"
   },
   "source": [
    "Uh oh - it looks like they all have the same value.  Let's figure out why.\n",
    "\n",
    "The `kernel_results_` variable is a named tuple that gives information about the sampler at each state.  The `is_accepted` field is the key here."
   ]
  },
  {
   "cell_type": "code",
   "execution_count": null,
   "metadata": {
    "colab": {
     "base_uri": "https://localhost:8080/",
     "height": 187
    },
    "colab_type": "code",
    "id": "grRrCz0kn4D1",
    "outputId": "e41ebfb4-fe0d-48a9-da05-793694e18b11"
   },
   "outputs": [],
   "source": [
    "# Look at the acceptance for the last 100 samples\n",
    "print np.squeeze(kernel_results_.is_accepted)[-100:]\n",
    "print 'Fraction of samples accepted:', np.mean(np.squeeze(kernel_results_.is_accepted))"
   ]
  },
  {
   "cell_type": "markdown",
   "metadata": {
    "colab_type": "text",
    "id": "_cCibOo-rOG-"
   },
   "source": [
    "All our samples were rejected!  Presumably our step size was too big.  I chose `stepsize=0.1` purely arbitrarily.\n"
   ]
  },
  {
   "cell_type": "markdown",
   "metadata": {
    "colab_type": "text",
    "id": "doCMVXNReOBZ"
   },
   "source": [
    "# Version 3: sampling with an adaptive step size\n",
    "\n",
    "Since sampling with my arbitrary choice of step size failed, we have a few agenda items:\n",
    "1. implement an adaptive step size, and\n",
    "2. perform some convergence checks.\n",
    "\n",
    "There is some nice sample code in `tensorflow_probability/python/mcmc/hmc.py` for implementing adaptive step sizes.  I've adapted it below.\n",
    "\n",
    "Note that there's a separate `sess.run()` statement for each step.  This is really helpful for debugging, since it allows us to easily add some per-step diagnostics if need be.  For example, we can show incremental progress, time each step, etc.\n",
    "\n",
    "**Tip:** One apparently common way to mess up your sampling is to have your graph grow in the loop.  (The reason for finalizing the graph before the session is run is to prevent just such problems.)  If you haven't been using finalize(), though, a useful debugging check if your code slows to a crawl is to print out the graph size at each step via `len(mygraph.get_operations())` - if the length increases, you're probably doing something bad.\n",
    "\n",
    "We're going to run 3 independent chains here.  Doing some comparisons between the chains will help us check for convergence."
   ]
  },
  {
   "cell_type": "code",
   "execution_count": null,
   "metadata": {
    "colab": {},
    "colab_type": "code",
    "id": "xgLX6o9PZRwQ"
   },
   "outputs": [],
   "source": [
    "# The number of chains is determined by the shape of the initial values.\n",
    "# Here we'll generate 3 chains, so we'll need a tensor of 3 initial values.\n",
    "N_CHAINS = 3\n",
    "\n",
    "np.random.seed(123)\n",
    "\n",
    "initial_values = []\n",
    "for i in range(N_CHAINS):\n",
    "  initial_value_cholesky = np.array(\n",
    "      [[0.5 + np.random.uniform(), 0.0],\n",
    "       [-0.5 + np.random.uniform(), 0.5 + np.random.uniform()]],\n",
    "      dtype=np.float32)\n",
    "  initial_values.append(initial_value_cholesky.dot(initial_value_cholesky.T))\n",
    "initial_values = np.stack(initial_values)\n",
    "\n",
    "# Transform our initial values to their unconstrained form\n",
    "# (Transforming the value in its own session is a workaround for b/72831017)\n",
    "with tf.Graph().as_default() as g:\n",
    "  initial_values_transformed = precision_to_unconstrained.forward(\n",
    "      initial_values)\n",
    "  g.finalize()\n",
    "\n",
    "with tf.Session(graph=g) as sess:\n",
    "  initial_values_transformed_ = sess.run(initial_values_transformed)"
   ]
  },
  {
   "cell_type": "code",
   "execution_count": null,
   "metadata": {
    "colab": {
     "base_uri": "https://localhost:8080/",
     "height": 272
    },
    "colab_type": "code",
    "id": "M7A-JG6hwCVu",
    "outputId": "924cb395-2242-43d6-c7f8-d43c3db1df73"
   },
   "outputs": [],
   "source": [
    "# Code adapted from tensorflow_probability/python/mcmc/hmc.py\n",
    "with tf.Graph().as_default() as g:\n",
    "  tf.set_random_seed(123)\n",
    "  log_lik_fn = get_log_lik_transformed(my_data)\n",
    "\n",
    "  # Tuning acceptance rates:\n",
    "  dtype = np.float32\n",
    "  num_warmup_iter = 2500\n",
    "  num_chain_iter = 2500\n",
    "\n",
    "  # Set the target average acceptance ratio for the HMC as suggested by\n",
    "  # Beskos et al. (2013):\n",
    "  # https://projecteuclid.org/download/pdfview_1/euclid.bj/1383661192\n",
    "  target_accept_rate = 0.651\n",
    "\n",
    "  x = tf.get_variable(name='x', initializer=initial_values_transformed_)\n",
    "  step_size = tf.get_variable(name='step_size',\n",
    "                              initializer=tf.constant(0.01, dtype=dtype))\n",
    "\n",
    "  # Initialize the HMC sampler.\n",
    "  hmc = tfp.mcmc.HamiltonianMonteCarlo(\n",
    "      target_log_prob_fn=log_lik_fn,\n",
    "      step_size=step_size,\n",
    "      num_leapfrog_steps=3)\n",
    "\n",
    "  # One iteration of the HMC\n",
    "  next_x, other_results = hmc.one_step(\n",
    "      current_state=x,\n",
    "      previous_kernel_results=hmc.bootstrap_results(x))\n",
    "\n",
    "  x_update = x.assign(next_x)\n",
    "  precision = precision_to_unconstrained.inverse(x_update)\n",
    "\n",
    "  # Adapt the step size using standard adaptive MCMC procedure. See Section 4.2\n",
    "  # of Andrieu and Thoms (2008):\n",
    "  # http://www4.ncsu.edu/~rsmith/MA797V_S12/Andrieu08_AdaptiveMCMC_Tutorial.pdf\n",
    "\n",
    "  # NOTE: One important change we need to make from the hmc.py version is to\n",
    "  # combine the log_accept_ratio values from the different chains when\n",
    "  # deciding how to update the step size.  Here we use the mean\n",
    "  # log_accept_ratio to decide.\n",
    "  step_size_update = step_size.assign_add(\n",
    "      step_size * tf.where(\n",
    "          tf.exp(tf.minimum(tf.reduce_mean(\n",
    "              other_results.log_accept_ratio), 0.)) >\n",
    "              target_accept_rate,\n",
    "          x=0.1, y=-0.1))\n",
    "\n",
    "  # Note, the adaptations are performed during warmup only.\n",
    "  warmup = tf.group([x_update, step_size_update])\n",
    "\n",
    "  init = tf.global_variables_initializer()\n",
    "\n",
    "  g.finalize()\n",
    "\n",
    "with tf.Session(graph=g) as sess:\n",
    "  # Initialize variables\n",
    "  sess.run(init)\n",
    "\n",
    "  # Warm up the sampler and adapt the step size\n",
    "  print 'Warmup'\n",
    "  start_time = time.time()\n",
    "  for i in range(num_warmup_iter):\n",
    "    sess.run(warmup)\n",
    "    if i % 500 == 0:\n",
    "      print 'Step %d' % i\n",
    "  end_time = time.time()\n",
    "  print 'Time per step:', (end_time - start_time) / num_warmup_iter\n",
    "  print 'Step size: %g' % sess.run(step_size)\n",
    "\n",
    "  # Collect samples without adapting step size\n",
    "  print 'Sampling'\n",
    "  start_time = time.time()\n",
    "  packed_samples = np.zeros([num_chain_iter, N_CHAINS, 3])\n",
    "  precision_samples = np.zeros([num_chain_iter, N_CHAINS, 2, 2])\n",
    "  results = []\n",
    "  for i in range(num_chain_iter):\n",
    "    _, x_, precision_, other_results_ = sess.run(\n",
    "        [x_update, x, precision, other_results])\n",
    "    packed_samples[i, :] = x_\n",
    "    precision_samples[i, :] = precision_\n",
    "    results.append(other_results_)\n",
    "    if i % 500 == 0:\n",
    "      print 'Step %d' % i\n",
    "  end_time = time.time()\n",
    "  print 'Time per step:', (end_time - start_time) / num_chain_iter"
   ]
  },
  {
   "cell_type": "markdown",
   "metadata": {
    "colab_type": "text",
    "id": "AITl0hs2KmHZ"
   },
   "source": [
    "A quick check: our acceptance rate during our sampling is close to our target of 0.651."
   ]
  },
  {
   "cell_type": "code",
   "execution_count": null,
   "metadata": {
    "colab": {
     "base_uri": "https://localhost:8080/",
     "height": 34
    },
    "colab_type": "code",
    "id": "cFE1S3FX0alA",
    "outputId": "4a5c539b-ef79-497a-c381-977703ce7b03"
   },
   "outputs": [],
   "source": [
    "is_accepted = np.array([r.is_accepted for r in results])\n",
    "print np.mean(is_accepted)"
   ]
  },
  {
   "cell_type": "code",
   "execution_count": null,
   "metadata": {
    "colab": {},
    "colab_type": "code",
    "id": "Lk4qcX4pz3pA"
   },
   "outputs": [],
   "source": [
    "precision_samples_reshaped = np.reshape(precision_samples, [-1, 2, 2])"
   ]
  },
  {
   "cell_type": "markdown",
   "metadata": {
    "colab_type": "text",
    "id": "yPWKLqVOKuRC"
   },
   "source": [
    "Even better, our sample mean and standard deviation are close to what we expect from the analytic solution."
   ]
  },
  {
   "cell_type": "code",
   "execution_count": null,
   "metadata": {
    "colab": {
     "base_uri": "https://localhost:8080/",
     "height": 119
    },
    "colab_type": "code",
    "id": "ktZJl5c01dmL",
    "outputId": "72d45460-91c6-4942-9274-5c8547955bd4"
   },
   "outputs": [],
   "source": [
    "print 'True posterior mean:\\n', posterior_mean\n",
    "print 'Mean of samples:\\n', np.mean(precision_samples_reshaped, axis=0)"
   ]
  },
  {
   "cell_type": "code",
   "execution_count": null,
   "metadata": {
    "colab": {
     "base_uri": "https://localhost:8080/",
     "height": 119
    },
    "colab_type": "code",
    "id": "cmPzXSn83yYa",
    "outputId": "f82a9d3c-2e76-4570-8986-047977359174"
   },
   "outputs": [],
   "source": [
    "print 'True posterior standard deviation:\\n', posterior_sd\n",
    "print 'Standard deviation of samples:\\n', np.std(precision_samples_reshaped, axis=0)"
   ]
  },
  {
   "cell_type": "markdown",
   "metadata": {
    "colab_type": "text",
    "id": "YYrX5WylYdIx"
   },
   "source": [
    "## Checking for convergence\n",
    "\n",
    "In general we won't have an analytic solution to check against, so we'll need to make sure the sampler has converged.  One standard check is the Gelman-Rubin $\\hat{R}$ statistic, which requires multiple sampling chains.  $\\hat{R}$ measures the degree to which variance (of the means) between chains exceeds what one would expect if the chains were identically distributed.  Values of $\\hat{R}$ close to 1 are used to indicate approximate convergence.  See [the source](https://github.com/tensorflow/probability/blob/master/tensorflow_probability/python/mcmc/diagnostic.py#L205) for details."
   ]
  },
  {
   "cell_type": "code",
   "execution_count": null,
   "metadata": {
    "colab": {
     "base_uri": "https://localhost:8080/",
     "height": 51
    },
    "colab_type": "code",
    "id": "rfQXeVn-77yD",
    "outputId": "cb54f4f5-f73b-4f98-9a11-f1aab927c7f1"
   },
   "outputs": [],
   "source": [
    "with tf.Graph().as_default() as g:\n",
    "  r_hat = tfp.mcmc.potential_scale_reduction(precision_samples)\n",
    "  g.finalize()\n",
    "\n",
    "with tf.Session(graph=g) as sess:\n",
    "  print sess.run(r_hat)"
   ]
  },
  {
   "cell_type": "markdown",
   "metadata": {
    "colab_type": "text",
    "id": "sKCsWnBkpaTM"
   },
   "source": [
    "## Model criticism\n",
    "\n",
    "If we didn't have an analytic solution, this would be the time to do some real model criticism.\n",
    "\n",
    "Here are a few quick histograms of the sample components relative to our ground truth (in red).  Note that the samples have been shrunk from the sample precision matrix values toward the identity matrix prior."
   ]
  },
  {
   "cell_type": "code",
   "execution_count": null,
   "metadata": {
    "colab": {
     "base_uri": "https://localhost:8080/",
     "height": 581
    },
    "colab_type": "code",
    "id": "oOTvOJBmpqhS",
    "outputId": "a75cf981-d137-407b-c41c-d57a9551120a"
   },
   "outputs": [],
   "source": [
    "fig, axes = plt.subplots(2, 2, sharey=True)\n",
    "fig.set_size_inches(8, 8)\n",
    "for i in range(2):\n",
    "  for j in range(2):\n",
    "    ax = axes[i, j]\n",
    "    ax.hist(precision_samples_reshaped[:, i, j])\n",
    "    ax.axvline(true_precision[i, j], color='red',\n",
    "               label='True precision')\n",
    "    ax.axvline(sample_precision[i, j], color='red', linestyle=':',\n",
    "               label='Sample precision')\n",
    "    ax.set_title('precision[%d, %d]' % (i, j))\n",
    "plt.tight_layout()\n",
    "plt.legend()\n",
    "plt.show()"
   ]
  },
  {
   "cell_type": "markdown",
   "metadata": {
    "colab_type": "text",
    "id": "5Oi6M2ZmvKVL"
   },
   "source": [
    "Some scatterplots of pairs of precision components show that because of the correlation structure of the posterior, the true posterior values are not as unlikely as they appear from the marginals above."
   ]
  },
  {
   "cell_type": "code",
   "execution_count": null,
   "metadata": {
    "colab": {
     "base_uri": "https://localhost:8080/",
     "height": 869
    },
    "colab_type": "code",
    "id": "5vT6MyKVslqV",
    "outputId": "cb79b048-ba53-4cd5-9812-a562596c8e61"
   },
   "outputs": [],
   "source": [
    "fig, axes = plt.subplots(4, 4)\n",
    "fig.set_size_inches(12, 12)\n",
    "for i1 in range(2):\n",
    "  for j1 in range(2):\n",
    "    index1 = 2 * i1 + j1\n",
    "    for i2 in range(2):\n",
    "      for j2 in range(2):\n",
    "        index2 = 2 * i2 + j2\n",
    "        ax = axes[index1, index2]\n",
    "        ax.scatter(precision_samples_reshaped[:, i1, j1],\n",
    "                   precision_samples_reshaped[:, i2, j2], alpha=0.1)\n",
    "        ax.axvline(true_precision[i1, j1], color='red')\n",
    "        ax.axhline(true_precision[i2, j2], color='red')\n",
    "        ax.axvline(sample_precision[i1, j1], color='red', linestyle=':')\n",
    "        ax.axhline(sample_precision[i2, j2], color='red', linestyle=':')\n",
    "        ax.set_title('(%d, %d) vs (%d, %d)' % (i1, j1, i2, j2))\n",
    "plt.tight_layout()\n",
    "plt.show()"
   ]
  },
  {
   "cell_type": "markdown",
   "metadata": {
    "colab_type": "text",
    "id": "DcmvbpxoMYtl"
   },
   "source": [
    "# Version 4: simpler sampling of constrained parameters\n",
    "\n",
    "Bijectors made sampling the precision matrix straightforward, but there was a fair amount of manual converting to and from the unconstrained representation.  There is an easier way!"
   ]
  },
  {
   "cell_type": "markdown",
   "metadata": {
    "colab_type": "text",
    "id": "Mv2bgnmVvfxk"
   },
   "source": [
    "### The TransformedTransitionKernel\n",
    "\n",
    "The `TransformedTransitionKernel` simplifies this process.  It wraps your sampler and handles all the conversions.  It takes as an argument a list of bijectors that map unconstrained parameter values to constrained ones.  So here we need the inverse of the `precision_to_unconstrained` bijector we used above.  We could just use `tfb.Invert(precision_to_unconstrained)`, but that would involve taking of inverses of inverses (TensorFlow isn't smart enough to simplify `tf.Invert(tf.Invert())` to `tf.Identity())`, so instead we'll just write a new bijector."
   ]
  },
  {
   "cell_type": "markdown",
   "metadata": {
    "colab_type": "text",
    "id": "paGZdKlRvj7E"
   },
   "source": [
    "### Constraining bijector"
   ]
  },
  {
   "cell_type": "code",
   "execution_count": null,
   "metadata": {
    "colab": {},
    "colab_type": "code",
    "id": "Vv4JqbHUP9n7"
   },
   "outputs": [],
   "source": [
    "# The bijector we need for the TransformedTransitionKernel is the inverse of\n",
    "# the one we used above\n",
    "unconstrained_to_precision = tfb.Chain([\n",
    "    # step 3: take the product of Cholesky factors\n",
    "    tfb.CholeskyOuterProduct(validate_args=VALIDATE_ARGS),\n",
    "    # step 2: exponentiate the diagonals    \n",
    "    tfb.TransformDiagonal(tfb.Exp(validate_args=VALIDATE_ARGS)),\n",
    "    # step 3: map a vector to a lower triangular matrix\n",
    "    tfb.FillTriangular(validate_args=VALIDATE_ARGS),\n",
    "])"
   ]
  },
  {
   "cell_type": "code",
   "execution_count": null,
   "metadata": {
    "colab": {
     "base_uri": "https://localhost:8080/",
     "height": 153
    },
    "colab_type": "code",
    "id": "VWgW2Qk0eM8L",
    "outputId": "00f709b9-2814-4870-aaab-d3ac2c7291f1"
   },
   "outputs": [],
   "source": [
    "# quick sanity check\n",
    "with tf.Graph().as_default() as g:\n",
    "  m = tf.constant([[1., 2.], [2., 8.]])\n",
    "  m_inv = unconstrained_to_precision.inverse(m)\n",
    "  m_fwd = unconstrained_to_precision.forward(m_inv)\n",
    "  g.finalize()\n",
    "\n",
    "with tf.Session(graph=g) as sess:\n",
    "  m_, m_inv_, m_fwd_ = sess.run([m, m_inv, m_fwd])\n",
    "  print 'm:\\n', m_\n",
    "  print 'unconstrained_to_precision.inverse(m):\\n', m_inv_\n",
    "  print 'forward(unconstrained_to_precision.inverse(m)):\\n', m_fwd_"
   ]
  },
  {
   "cell_type": "markdown",
   "metadata": {
    "colab_type": "text",
    "id": "wnVsQFysvoM2"
   },
   "source": [
    "## Sampling with the TransformedTransitionKernel\n",
    "\n",
    "With the `TransformedTransitionKernel`, we no longer have to do manual transformations of our parameters.  Our initial values and our samples are all precision matrices; we just have to pass in our unconstraining bijector(s) to the kernel and it takes care of all the transformations."
   ]
  },
  {
   "cell_type": "code",
   "execution_count": null,
   "metadata": {
    "colab": {
     "base_uri": "https://localhost:8080/",
     "height": 272
    },
    "colab_type": "code",
    "id": "a2VVVg4KhSnb",
    "outputId": "a498d3b1-208c-4170-e5e9-2007e959e290"
   },
   "outputs": [],
   "source": [
    "# Code adapted from tensorflow_probability/python/mcmc/hmc.py\n",
    "with tf.Graph().as_default() as g:\n",
    "  tf.set_random_seed(123)\n",
    "  log_lik_fn = get_log_lik(my_data)\n",
    "\n",
    "  # Tuning acceptance rates:\n",
    "  dtype = np.float32\n",
    "  num_warmup_iter = 2500\n",
    "  num_chain_iter = 2500\n",
    "\n",
    "  # Set the target average acceptance ratio for the HMC as suggested by\n",
    "  # Beskos et al. (2013):\n",
    "  # https://projecteuclid.org/download/pdfview_1/euclid.bj/1383661192\n",
    "  target_accept_rate = 0.651\n",
    "\n",
    "  x = tf.get_variable(name='x', initializer=initial_values)\n",
    "  step_size = tf.get_variable(name='step_size', initializer=tf.constant(0.01, dtype=dtype))\n",
    "\n",
    "  # Initialize the HMC sampler, now wrapped in the TransformedTransitionKernel\n",
    "  ttk = tfp.mcmc.TransformedTransitionKernel(\n",
    "      inner_kernel=tfp.mcmc.HamiltonianMonteCarlo(\n",
    "      target_log_prob_fn=log_lik_fn,\n",
    "      step_size=step_size,\n",
    "      num_leapfrog_steps=3),\n",
    "      bijector=[unconstrained_to_precision])\n",
    "\n",
    "  # One iteration\n",
    "  next_x, other_results = ttk.one_step(\n",
    "      current_state=x,\n",
    "      previous_kernel_results=ttk.bootstrap_results(x))\n",
    "\n",
    "  x_update = x.assign(next_x)\n",
    "\n",
    "  # Adapt the step size using standard adaptive MCMC procedure. See Section 4.2\n",
    "  # of Andrieu and Thoms (2008):\n",
    "  # http://www4.ncsu.edu/~rsmith/MA797V_S12/Andrieu08_AdaptiveMCMC_Tutorial.pdf\n",
    "\n",
    "  # NOTE: one change from above is that we have to look at \n",
    "  # other_results.inner_results.log_accept_ratio, since the new kernel\n",
    "  # wraps the results from the HMC kernel.\n",
    "  step_size_update = step_size.assign_add(\n",
    "      step_size * tf.where(\n",
    "          tf.exp(tf.minimum(tf.reduce_mean(\n",
    "              other_results.inner_results.log_accept_ratio), 0.)) >\n",
    "              target_accept_rate,\n",
    "          x=0.1, y=-0.1))\n",
    "\n",
    "  # Note, the adaptations are performed during warmup only.\n",
    "  warmup = tf.group([x_update, step_size_update])\n",
    "\n",
    "  init = tf.global_variables_initializer()\n",
    "  \n",
    "  g.finalize()\n",
    "\n",
    "with tf.Session(graph=g) as sess:\n",
    "  # Initialize\n",
    "  sess.run(init)\n",
    "\n",
    "  # Warm up the sampler and adapt the step size\n",
    "  print 'Warmup'\n",
    "  start_time = time.time()\n",
    "  for i in range(num_warmup_iter):\n",
    "    sess.run(warmup)\n",
    "    if i % 500 == 0:\n",
    "      print 'Step %d' % i\n",
    "  end_time = time.time()\n",
    "  print 'Time per step:', (end_time - start_time) / num_warmup_iter\n",
    "  print 'Step size: %g' % sess.run(step_size)\n",
    "\n",
    "  # Collect samples without adapting step size\n",
    "  print 'Sampling'\n",
    "  start_time = time.time()\n",
    "  precision_samples = np.zeros([num_chain_iter, N_CHAINS, 2, 2])\n",
    "  results = []\n",
    "  for i in range(num_chain_iter):\n",
    "    _, x_, other_results_ = sess.run([x_update, x, other_results])\n",
    "    precision_samples[i, :] = x_\n",
    "    results.append(other_results_)\n",
    "    if i % 500 == 0:\n",
    "      print 'Step %d' % i\n",
    "  end_time = time.time()\n",
    "  print 'Time per step:', (end_time - start_time) / num_chain_iter"
   ]
  },
  {
   "cell_type": "markdown",
   "metadata": {
    "colab_type": "text",
    "id": "sufld3q7kPV1"
   },
   "source": [
    "### Checking convergence\n",
    "\n",
    "The $\\hat{R}$ convergence check looks good!"
   ]
  },
  {
   "cell_type": "code",
   "execution_count": null,
   "metadata": {
    "colab": {
     "base_uri": "https://localhost:8080/",
     "height": 51
    },
    "colab_type": "code",
    "id": "a3Ou0K51jRfz",
    "outputId": "c21d4924-a545-4f04-e6d6-a79c71e16783"
   },
   "outputs": [],
   "source": [
    "with tf.Graph().as_default() as g:\n",
    "  r_hat = tfp.mcmc.potential_scale_reduction(precision_samples)\n",
    "  g.finalize()\n",
    "\n",
    "with tf.Session(graph=g) as sess:\n",
    "  print sess.run(r_hat)"
   ]
  },
  {
   "cell_type": "markdown",
   "metadata": {
    "colab_type": "text",
    "id": "z7Vy6BuelDPZ"
   },
   "source": [
    "### Comparison against the analytic posterior\n",
    "\n",
    "Again let's check against the analytic posterior."
   ]
  },
  {
   "cell_type": "code",
   "execution_count": null,
   "metadata": {
    "colab": {},
    "colab_type": "code",
    "id": "jXxuO15HkeTD"
   },
   "outputs": [],
   "source": [
    "# The output samples have shape [n_steps, n_chains, 2, 2]\n",
    "# Flatten them to [n_steps * n_chains, 2, 2] via reshape:\n",
    "precision_samples_reshaped = np.reshape(precision_samples, [-1, 2, 2])"
   ]
  },
  {
   "cell_type": "code",
   "execution_count": null,
   "metadata": {
    "colab": {
     "base_uri": "https://localhost:8080/",
     "height": 119
    },
    "colab_type": "code",
    "id": "twDknslqk1uG",
    "outputId": "51a01dc2-9e22-4d82-c0e5-84a976ee3a57"
   },
   "outputs": [],
   "source": [
    "print 'True posterior mean:\\n', posterior_mean\n",
    "print 'Mean of samples:\\n', np.mean(precision_samples_reshaped, axis=0)"
   ]
  },
  {
   "cell_type": "code",
   "execution_count": null,
   "metadata": {
    "colab": {
     "base_uri": "https://localhost:8080/",
     "height": 119
    },
    "colab_type": "code",
    "id": "22448rkUk_Wa",
    "outputId": "741cfb0c-2f61-4c10-b82f-01ced9cfb56b"
   },
   "outputs": [],
   "source": [
    "print 'True posterior standard deviation:\\n', posterior_sd\n",
    "print 'Standard deviation of samples:\\n', np.std(precision_samples_reshaped, axis=0)"
   ]
  },
  {
   "cell_type": "markdown",
   "metadata": {
    "colab_type": "text",
    "id": "-TwR4z4glG0J"
   },
   "source": [
    "# Optimizations\n",
    "\n",
    "Now that we've got things running end-to-end, let's do a more optimized version.  Speed doesn't matter too much for this example, but once matrices get larger, a few optimizations will make a big difference."
   ]
  },
  {
   "cell_type": "markdown",
   "metadata": {
    "colab_type": "text",
    "id": "zbZv_23gT3oG"
   },
   "source": [
    "One big speed improvement we can make is to reparameterize in terms of the Cholesky decomposition.  The reason is our data likelihood function requires both the covariance and the precision matrices.  Matrix inversion is expensive ($O(n^3)$ for an $n \\times n$ matrix), and if we parameterize in terms of either the covariance or the precision matrix, we need to do an inversion to get the other.\n",
    "\n",
    "As a reminder, a real, positive-definite, symmetric matrix $M$ can be decomposed into a product of the form $M = L L^T$ where the matrix $L$ is lower triangular and has positive diagonals.  Given the Cholesky decomposition of $M$, we can more efficiently obtain both $M$ (the product of a lower and an upper triangular matrix) and $M^{-1}$ (via back-substitution).  The Cholesky factorization itself is not cheap to compute, but if we parameterize in terms of Cholesky factors, we only need to compute the Choleksy factorization of the initial parameter values.\n"
   ]
  },
  {
   "cell_type": "markdown",
   "metadata": {
    "colab_type": "text",
    "id": "mgYTtadL7sMf"
   },
   "source": [
    "## Using the Cholesky decomposition of the covariance matrix\n",
    "\n",
    "TFP has a version of the multivariate normal distribution, [MultivariateNormalTriL](https://www.tensorflow.org/probability/api_docs/python/tfp/distributions/MultivariateNormalTriL), that is parameterized in terms of the Cholesky factor of the covariance matrix.  So if we were to parameterize in terms of the Cholesky factor of the covariance matrix, we could compute the data log likelihood efficiently.  The challenge is in computing the prior log likelihood with similar efficiency.\n",
    "\n",
    "If we had a version of the inverse Wishart distribution that worked with Cholesky factors of samples, we'd be all set.  Alas, we don't.  (The team would welcome code submissions, though!)  As an alternative, we can use a version of the Wishart distribution that works with Cholesky factors of samples together with a chain of bijectors.\n",
    "\n",
    "At the moment, we're missing a few stock bijectors to make things really efficient, but I want to show the process as an exercise and a useful illustration of the power of TFP's bijectors."
   ]
  },
  {
   "cell_type": "markdown",
   "metadata": {
    "colab_type": "text",
    "id": "G0OWSj5HCEA6"
   },
   "source": [
    "### A Wishart distribution that operates on Cholesky factors\n",
    "\n",
    "The `Wishart` distribution has a useful flag, `input_output_cholesky`, that specifies that the input and output matrices should be Cholesky factors.  It's more efficient and numerically advantageous to work with the Cholesky factors than full matrices, which is why this is desirable.  An important point about the semantics of the flag: it's only an indication that the representation of the input and output to the distribution should change - it does *not* indicate a full reparameterization of the distribution, which would involve a Jacobian correction to the `log_prob()` function.  We actually want to do this full reparameterization, so we'll build our own distribution."
   ]
  },
  {
   "cell_type": "code",
   "execution_count": null,
   "metadata": {
    "colab": {},
    "colab_type": "code",
    "id": "QgUyMB4OEyFZ"
   },
   "outputs": [],
   "source": [
    "# An optimized Wishart distribution that has been transformed to operate on\n",
    "# Cholesky factors instead of full matrices.  Note that we gain a modest\n",
    "# additional speedup by specifying the Cholesky factor of the scale matrix\n",
    "# (i.e. by passing in the scale_tril parameter instead of scale).\n",
    "\n",
    "class CholeskyWishart(tfd.TransformedDistribution):\n",
    "  \"\"\"Wishart distribution reparameterized to use Cholesky factors.\"\"\"\n",
    "  def __init__(self,\n",
    "      df,\n",
    "      scale_tril,\n",
    "      validate_args=False,\n",
    "      allow_nan_stats=True,\n",
    "      name='CholeskyWishart'):\n",
    "    # Wishart has a bunch of methods that we want to support but not\n",
    "    # implement.  We'll subclass TransformedDistribution here to take care of\n",
    "    # those.  We'll override the few for which speed is critical and implement\n",
    "    # them with a separate Wishart for which input_output_cholesky=True\n",
    "    super(CholeskyWishart, self).__init__(\n",
    "        distribution=tfd.Wishart(\n",
    "            df=df,\n",
    "            scale_tril=scale_tril,\n",
    "            input_output_cholesky=False,\n",
    "            validate_args=validate_args,\n",
    "            allow_nan_stats=allow_nan_stats),\n",
    "        bijector=tfb.Invert(tfb.CholeskyOuterProduct()),\n",
    "        validate_args=validate_args,\n",
    "        name=name\n",
    "    )\n",
    "    # Here's the Cholesky distribution we'll use for log_prob() and sample()\n",
    "    self.cholesky = tfd.Wishart(\n",
    "        df=df,\n",
    "        scale_tril=scale_tril,\n",
    "        input_output_cholesky=True,\n",
    "        validate_args=validate_args,\n",
    "        allow_nan_stats=allow_nan_stats)\n",
    "    \n",
    "  def _log_prob(self, x):\n",
    "    return (self.cholesky.log_prob(x) +\n",
    "            self.bijector.inverse_log_det_jacobian(x, event_ndims=2))\n",
    "\n",
    "  def _sample_n(self, n, seed=None):\n",
    "    return self.cholesky._sample_n(n, seed)"
   ]
  },
  {
   "cell_type": "code",
   "execution_count": null,
   "metadata": {
    "colab": {
     "base_uri": "https://localhost:8080/",
     "height": 85
    },
    "colab_type": "code",
    "id": "yVBT4gXwNZbS",
    "outputId": "99ff16a8-cd1f-420d-ad98-1db50c52e135"
   },
   "outputs": [],
   "source": [
    "# some checks\n",
    "PRIOR_SCALE_CHOLESKY = np.linalg.cholesky(PRIOR_SCALE)\n",
    "\n",
    "with tf.Graph().as_default() as g:\n",
    "  w_transformed = tfd.TransformedDistribution(\n",
    "      tfd.Wishart(df=PRIOR_DF, scale_tril=PRIOR_SCALE_CHOLESKY),\n",
    "      bijector=tfb.Invert(tfb.CholeskyOuterProduct()))\n",
    "  w_optimized = CholeskyWishart(\n",
    "      df=PRIOR_DF, scale_tril=PRIOR_SCALE_CHOLESKY)\n",
    "\n",
    "  m = tf.placeholder(dtype=tf.float32)\n",
    "  log_prob_transformed = w_transformed.log_prob(m)\n",
    "  log_prob_optimized = w_optimized.log_prob(m)\n",
    "  \n",
    "  g.finalize()\n",
    "\n",
    "with tf.Session(graph=g) as sess:\n",
    "  for matrix in [np.eye(2, dtype=np.float32),\n",
    "                 np.array([[1., 0.], [2., 8.]], dtype=np.float32)]:\n",
    "    log_prob_transformed_, log_prob_optimized_ = sess.run(\n",
    "        [log_prob_transformed, log_prob_optimized],\n",
    "        feed_dict={m: matrix})\n",
    "    print 'Transformed Wishart:', log_prob_transformed_\n",
    "    print 'Optimized Wishart', log_prob_optimized_\n"
   ]
  },
  {
   "cell_type": "markdown",
   "metadata": {
    "colab_type": "text",
    "id": "tpKd8zkW75sm"
   },
   "source": [
    "### Building an inverse Wishart distribution\n",
    "\n",
    "We have our covariance matrix $C$ decomposed into $C = L L^T$ where $L$ is lower triangular and has a positive diagonal.  We want to know the probability of $L$ given that $C \\sim W^{-1}(\\nu, V)$ where $W^{-1}$ is the inverse Wishart distribution.\n",
    "\n",
    "The inverse Wishart distribution has the property that if $C \\sim W^{-1}(\\nu, V)$, then the precision matrix $C^{-1} \\sim W(\\nu, V^{-1})$.  So we can get the probability of $L$ via a `TransformedDistribution` that takes as parameters the Wishart distribution and a bijector that maps the Cholesky factor of precision matrix to a Cholesky factor of its inverse.\n",
    "\n",
    "A straightforward (but not super efficient) way to get from the Cholesky factor of $C^{-1}$ to $L$ is to invert the Cholesky factor by back-solving, then forming the covariance matrix from these inverted factors, and then doing a Cholesky factorization.\n",
    "\n",
    "Let the Cholesky decomposition of $C^{-1} = M M^T$.  $M$ is lower triangular, so we can invert it using the `MatrixInverseTriL` bijector.\n",
    "\n",
    "Forming $C$ from $M^{-1}$ is a little tricky: $C = (M M^T)^{-1} = M^{-T}M^{-1} = M^{-T} (M^{-T})^T$.  $M$ is lower triangular, so $M^{-1}$ will also be lower triangular, and $M^{-T}$ will be upper triangular.  The `CholeskyOuterProduct()` bijector only works with lower triangular matrices, so we can't use it to form $C$ from $M^{-T}$.  Our workaround is a chain of bijectors that permute the rows and columns of a matrix.\n",
    "\n"
   ]
  },
  {
   "cell_type": "code",
   "execution_count": null,
   "metadata": {
    "colab": {},
    "colab_type": "code",
    "id": "CgUuL8kwVFDK"
   },
   "outputs": [],
   "source": [
    "# Here's our permuting bijector:\n",
    "def get_permuter():\n",
    "  permutation = [1, 0]\n",
    "  return tfb.Chain([\n",
    "      tfb.Transpose(rightmost_transposed_ndims=2),\n",
    "      tfb.Permute(permutation=permutation),\n",
    "      tfb.Transpose(rightmost_transposed_ndims=2),\n",
    "      tfb.Permute(permutation=permutation),   \n",
    "  ])"
   ]
  },
  {
   "cell_type": "code",
   "execution_count": null,
   "metadata": {
    "colab": {
     "base_uri": "https://localhost:8080/",
     "height": 170
    },
    "colab_type": "code",
    "id": "1yjo-oudqAAf",
    "outputId": "1b53d24a-8e4c-4f36-c167-20460798ad80"
   },
   "outputs": [],
   "source": [
    "# Some sanity checks\n",
    "with tf.Graph().as_default() as g:\n",
    "  m = np.array([[1., 0.], [2., 8.]], dtype=np.float32)\n",
    "  permuter = get_permuter()\n",
    "  p_fwd = permuter.forward(m)\n",
    "  p_fwd_fwd = permuter.forward(p_fwd)\n",
    "  g.finalize()\n",
    "\n",
    "with tf.Session(graph=g) as sess:\n",
    "  print 'm =\\n', m\n",
    "  print 'permuted = \\n', sess.run(p_fwd)\n",
    "  print 'permuted^2 = \\n', sess.run(p_fwd_fwd)"
   ]
  },
  {
   "cell_type": "markdown",
   "metadata": {
    "colab_type": "text",
    "id": "furWzJRYvFYC"
   },
   "source": [
    "### Combining all the pieces"
   ]
  },
  {
   "cell_type": "markdown",
   "metadata": {
    "colab_type": "text",
    "id": "r6-vpGOBTqhr"
   },
   "source": [
    "Our final bijector is now a big chain:"
   ]
  },
  {
   "cell_type": "code",
   "execution_count": null,
   "metadata": {
    "colab": {},
    "colab_type": "code",
    "id": "fPPO17cgq7SK"
   },
   "outputs": [],
   "source": [
    "def get_wishart_cholesky_to_iw_cholesky():\n",
    "  return tfb.Chain([\n",
    "      # step 6: get the Cholesky factor for the covariance matrix\n",
    "      tfb.Invert(tfb.CholeskyOuterProduct()),\n",
    "      # step 5: undo our permutation (note that permuter.inverse = permuter.forward)\n",
    "      get_permuter(),\n",
    "      # step 4: form the covariance matrix from the inverted Cholesky factors\n",
    "      tfb.CholeskyOuterProduct(),\n",
    "      # step 3: make things lower triangular\n",
    "      get_permuter(),\n",
    "      # step 2: transpose the inverse\n",
    "      tfb.Transpose(rightmost_transposed_ndims=2),\n",
    "      # step 1: invert the Cholesky factor (see code below)\n",
    "      tfb.MatrixInverseTriL()\n",
    "  ])"
   ]
  },
  {
   "cell_type": "code",
   "execution_count": null,
   "metadata": {
    "colab": {
     "base_uri": "https://localhost:8080/",
     "height": 119
    },
    "colab_type": "code",
    "id": "QDCeOcQOrIUI",
    "outputId": "2758975a-d3ea-46dc-dd48-c6bccaa415c2"
   },
   "outputs": [],
   "source": [
    "# verify that the bijector works\n",
    "with tf.Graph().as_default() as g:\n",
    "  m = np.array([[1., 0.], [2., 8.]], dtype=np.float32)\n",
    "  c_inv = m.dot(m.T)\n",
    "  c = np.linalg.inv(c_inv)\n",
    "  c_chol = np.linalg.cholesky(c)\n",
    "  wishart_cholesky_to_iw_cholesky = get_wishart_cholesky_to_iw_cholesky()\n",
    "  w_fwd = wishart_cholesky_to_iw_cholesky.forward(m)\n",
    "  g.finalize()\n",
    "\n",
    "with tf.Session(graph=g) as sess:\n",
    "  print 'numpy =\\n', c_chol\n",
    "  print 'bijector =\\n', sess.run(w_fwd)"
   ]
  },
  {
   "cell_type": "markdown",
   "metadata": {
    "colab_type": "text",
    "id": "CF7IFULOvHy3"
   },
   "source": [
    "### Our final distribution\n",
    "\n",
    "Our inverse Wishart operating on Cholesky factors is as follows:\n"
   ]
  },
  {
   "cell_type": "code",
   "execution_count": null,
   "metadata": {
    "colab": {},
    "colab_type": "code",
    "id": "BJXoPZ1e-8yh"
   },
   "outputs": [],
   "source": [
    "inverse_wishart_cholesky = tfd.TransformedDistribution(\n",
    "    distribution=CholeskyWishart(\n",
    "        df=PRIOR_DF,\n",
    "        scale_tril=np.linalg.cholesky(np.linalg.inv(PRIOR_SCALE))),\n",
    "    bijector=get_wishart_cholesky_to_iw_cholesky())"
   ]
  },
  {
   "cell_type": "markdown",
   "metadata": {
    "colab_type": "text",
    "id": "DUC-6bPEapDg"
   },
   "source": [
    "We've got our inverse Wishart, but it's kind of slow because we have to do a Cholesky decomposition in the bijector.  Let's return to the precision matrix parameterization and see what we can do there for optimization."
   ]
  },
  {
   "cell_type": "markdown",
   "metadata": {
    "colab_type": "text",
    "id": "PIyb_aYyCzZa"
   },
   "source": [
    "# Final(!) Version: using the Cholesky decomposition of the precision matrix\n",
    "\n",
    "An alternative approach is to work with Cholesky factors of the precision matrix.  Here the prior likelihood function is easy to compute, but the data log likelihood function takes more work since TFP doesn't have a version of the multivariate normal that is parameterized by precision."
   ]
  },
  {
   "cell_type": "markdown",
   "metadata": {
    "colab_type": "text",
    "id": "dSOOuAgZtSu5"
   },
   "source": [
    "### Optimized prior log likelihood\n",
    "\n",
    "We use the `CholeskyWishart` distribution we built above to construct the prior.\n"
   ]
  },
  {
   "cell_type": "code",
   "execution_count": null,
   "metadata": {
    "colab": {},
    "colab_type": "code",
    "id": "f8V5hA9SUqHy"
   },
   "outputs": [],
   "source": [
    "# Our new prior.\n",
    "PRIOR_SCALE_CHOLESKY = np.linalg.cholesky(PRIOR_SCALE)\n",
    "\n",
    "def log_lik_prior_cholesky(precisions_cholesky):\n",
    "  rv_precision = CholeskyWishart(\n",
    "      df=PRIOR_DF,\n",
    "      scale_tril=PRIOR_SCALE_CHOLESKY,\n",
    "      validate_args=VALIDATE_ARGS,\n",
    "      allow_nan_stats=ALLOW_NAN_STATS)\n",
    "  return rv_precision.log_prob(precisions_cholesky)"
   ]
  },
  {
   "cell_type": "code",
   "execution_count": null,
   "metadata": {
    "colab": {
     "base_uri": "https://localhost:8080/",
     "height": 153
    },
    "colab_type": "code",
    "id": "jn2ey0JdjzhW",
    "outputId": "fa1db665-8996-42a0-fb59-1fdb2f07248d"
   },
   "outputs": [],
   "source": [
    "# Check against the slower TF implementation and the NumPy implementation.\n",
    "# Note that when comparing to NumPy, we need to add in the Jacobian correction.\n",
    "with tf.Graph().as_default() as g:\n",
    "  precisions = [np.eye(2, dtype=np.float32),\n",
    "                true_precision]\n",
    "  precisions_cholesky = np.stack([np.linalg.cholesky(m) for m in precisions])\n",
    "  precisions = np.stack(precisions)\n",
    "  lik_tf = log_lik_prior_cholesky(precisions_cholesky)\n",
    "  lik_tf_slow = tfd.TransformedDistribution(\n",
    "      distribution=tfd.Wishart(df=PRIOR_DF, scale=PRIOR_SCALE),\n",
    "      bijector=tfb.Invert(tfb.CholeskyOuterProduct())).log_prob(\n",
    "      precisions_cholesky)\n",
    "  corrections = tfb.Invert(tfb.CholeskyOuterProduct()).inverse_log_det_jacobian(\n",
    "      precisions_cholesky, event_ndims=2)\n",
    "  n = precisions.shape[0]\n",
    "  g.finalize()\n",
    "\n",
    "with tf.Session(graph=g) as sess:\n",
    "  lik_tf_, lik_tf_slow_, corrections_ = sess.run(\n",
    "      [lik_tf, lik_tf_slow, corrections])\n",
    "  for i in range(n):\n",
    "    print i\n",
    "    print 'numpy:', log_lik_prior_numpy(precisions[i]) + corrections_[i]\n",
    "    print 'tensorflow slow:', lik_tf_slow_[i]      \n",
    "    print 'tensorflow fast:', lik_tf_[i]"
   ]
  },
  {
   "cell_type": "markdown",
   "metadata": {
    "colab_type": "text",
    "id": "cjjqZccAPaVG"
   },
   "source": [
    "### Optimized data log likelihood\n",
    "\n",
    "We can use TFP's bijectors to build our own version of the multivariate normal.  Here is the key idea:\n",
    "\n",
    "Suppose I have a column vector $X$ whose elements are iid samples of $N(0, 1)$.  We have $\\text{mean}(X) = 0$ and $\\text{cov}(X) = I$\n",
    "\n",
    "Now let $Y = A X + b$.  We have $\\text{mean}(Y) = b$ and $\\text{cov}(Y) = A A^T$\n",
    "\n",
    "Hence we can make vectors with mean $b$ and covariance $C$ using the affine transform $Ax+b$ to vectors of iid standard Normal samples provided $A A^T = C$.  The Cholesky decomposition of $C$ has the desired property.  However, there are other solutions.\n",
    "\n",
    "Let $P = C^{-1}$ and let the Cholesky decomposition of $P$ be $B$, i.e. $B B^T = P$.  Now\n",
    "\n",
    "$P^{-1} = (B B^T)^{-1} = B^{-T} B^{-1} = B^{-T} (B^{-T})^T$\n",
    "\n",
    "So another way to get our desired mean and covariance is to use the affine transform $Y=B^{-T}X + b$.\n",
    "\n",
    "Our approach (courtesy of [this notebook](https://github.com/tensorflow/probability/blob/master/tensorflow_probability/examples/jupyter_notebooks/Bayesian_Gaussian_Mixture_Model.ipynb)):\n",
    "1. Use `tfd.Independent()` to combine a batch of 1-D `Normal` random variables into a single multi-dimensional random variable. The `reinterpreted_batch_ndims` parameter for `Independent()` specifies the number of batch dimensions that should be reinterpreted as event dimensions.  In our case we create a 1-D batch of length 2 that we transform into a 1-D event of length 2, so `reinterpreted_batch_ndims=1`.\n",
    "2. Apply a bijector to add the desired covariance: `tfb.Invert(tfb.Affine(scale_tril=precision_cholesky, adjoint=True))`.  Note that above we're multiplying our iid normal random variables by the transpose of the inverse of the Cholesky factor of the precision matrix $(B^{-T}X)$.  The `tfb.Invert` takes care of inverting $B$, and the `adjoint=True` flag performs the transpose.\n",
    "3. Apply a bijector to add the desired offset: `tfb.Affine(shift=shift)`  Note that we have to do the shift as a separate step from the initial inverted affine transform because otherwise the inverted scale is applied to the shift (since the inverse of $y=Ax+b$ is $x=A^{-1}y - A^{-1}b$).\n"
   ]
  },
  {
   "cell_type": "code",
   "execution_count": null,
   "metadata": {
    "colab": {},
    "colab_type": "code",
    "id": "GLUqa6lvPCIM"
   },
   "outputs": [],
   "source": [
    "class MVNPrecisionCholesky(tfd.TransformedDistribution):\n",
    "  \"\"\"Multivariate normal parametrized by loc and Cholesky precision matrix.\"\"\"\n",
    "\n",
    "  def __init__(self, loc, precision_cholesky, name=None):\n",
    "    super(MVNPrecisionCholesky, self).__init__(\n",
    "        distribution=tfd.Independent(\n",
    "            tfd.Normal(loc=tf.zeros_like(loc),\n",
    "                       scale=tf.ones_like(loc)),\n",
    "            reinterpreted_batch_ndims=1),\n",
    "        bijector=tfb.Chain([\n",
    "            tfb.Affine(shift=loc),\n",
    "            tfb.Invert(tfb.Affine(scale_tril=precision_cholesky,\n",
    "                                  adjoint=True)),\n",
    "        ]),\n",
    "        name=name)"
   ]
  },
  {
   "cell_type": "code",
   "execution_count": null,
   "metadata": {
    "colab": {},
    "colab_type": "code",
    "id": "5rp-71gFUdUz"
   },
   "outputs": [],
   "source": [
    "def log_lik_data_cholesky(precisions_cholesky, replicated_data):\n",
    "  n = tf.shape(precisions_cholesky)[0]  # number of precision matrices\n",
    "  rv_data = MVNPrecisionCholesky(\n",
    "      loc=tf.zeros([n, 2]),\n",
    "      precision_cholesky=precisions_cholesky)\n",
    "  return tf.reduce_sum(rv_data.log_prob(replicated_data), axis=0)"
   ]
  },
  {
   "cell_type": "code",
   "execution_count": null,
   "metadata": {
    "colab": {
     "base_uri": "https://localhost:8080/",
     "height": 119
    },
    "colab_type": "code",
    "id": "wp9qyJebgHXu",
    "outputId": "bea24a3c-6aaf-451c-8650-8b7ef01e874e"
   },
   "outputs": [],
   "source": [
    "# check against the numpy implementation\n",
    "with tf.Graph().as_default() as g:\n",
    "  true_precision_cholesky = np.linalg.cholesky(true_precision)\n",
    "  precisions = [np.eye(2, dtype=np.float32), true_precision]\n",
    "  precisions_cholesky = np.stack([np.linalg.cholesky(m) for m in precisions])\n",
    "  precisions = np.stack(precisions)\n",
    "  n = precisions_cholesky.shape[0]\n",
    "  replicated_data = np.tile(np.expand_dims(my_data, axis=1), reps=[1, 2, 1])\n",
    "  lik_tf = log_lik_data_cholesky(precisions_cholesky, replicated_data)\n",
    "  g.finalize()\n",
    "\n",
    "with tf.Session(graph=g) as sess:\n",
    "  lik_tf_ = sess.run(lik_tf)\n",
    "  for i in range(n):\n",
    "    print i\n",
    "    print 'numpy:', log_lik_data_numpy(precisions[i], my_data)\n",
    "    print 'tensorflow:', lik_tf_[i]"
   ]
  },
  {
   "cell_type": "markdown",
   "metadata": {
    "colab_type": "text",
    "id": "rHZY4zxOt5BH"
   },
   "source": [
    "### Combined log likelihood function\n",
    "\n",
    "Now we combine our prior and data log likelihood functions in a closure."
   ]
  },
  {
   "cell_type": "code",
   "execution_count": null,
   "metadata": {
    "colab": {},
    "colab_type": "code",
    "id": "tqx8TS2wYTYh"
   },
   "outputs": [],
   "source": [
    "def get_log_lik_cholesky(data, n_chains=1):\n",
    "  # The data argument that is passed in will be available to the inner function\n",
    "  # below so it doesn't have to be passed in as a parameter.\n",
    "  replicated_data = np.tile(np.expand_dims(data, axis=1), reps=[1, n_chains, 1])\n",
    "\n",
    "  def _log_lik_cholesky(precisions_cholesky):\n",
    "    return (log_lik_data_cholesky(precisions_cholesky, replicated_data) +\n",
    "            log_lik_prior_cholesky(precisions_cholesky))\n",
    "\n",
    "  return _log_lik_cholesky"
   ]
  },
  {
   "cell_type": "markdown",
   "metadata": {
    "colab_type": "text",
    "id": "Cig7gNSUt7ls"
   },
   "source": [
    "### Constraining bijector\n",
    "\n",
    "Our samples are constrained to be valid Cholesky factors, which means they must be lower triangular matrices with positive diagonals.  The `TransformedTransitionKernel` needs a bijector that maps unconstrained tensors to/from tensors with our desired constraints.  We've removed the Cholesky decomposition from the bijector's inverse, which speeds things up."
   ]
  },
  {
   "cell_type": "code",
   "execution_count": null,
   "metadata": {
    "colab": {},
    "colab_type": "code",
    "id": "8Nva4oOGTjN_"
   },
   "outputs": [],
   "source": [
    "unconstrained_to_precision_cholesky = tfb.Chain([\n",
    "    # step 2: exponentiate the diagonals    \n",
    "    tfb.TransformDiagonal(tfb.Exp(validate_args=VALIDATE_ARGS)),\n",
    "    # step 1: expand the vector to a lower triangular matrix\n",
    "    tfb.FillTriangular(validate_args=VALIDATE_ARGS),\n",
    "])"
   ]
  },
  {
   "cell_type": "code",
   "execution_count": null,
   "metadata": {
    "colab": {
     "base_uri": "https://localhost:8080/",
     "height": 306
    },
    "colab_type": "code",
    "id": "oXcs29Znlzvx",
    "outputId": "b7244ad0-c661-4c01-e753-86027ea6717e"
   },
   "outputs": [],
   "source": [
    "# some checks\n",
    "with tf.Graph().as_default() as g:\n",
    "  inv = unconstrained_to_precision_cholesky.inverse(precisions_cholesky)\n",
    "  fwd = unconstrained_to_precision_cholesky.forward(inv)\n",
    "  g.finalize()\n",
    "\n",
    "with tf.Session(graph=g) as sess:\n",
    "  inv_, fwd_ = sess.run([inv, fwd])\n",
    "  print 'precisions_cholesky:\\n', precisions_cholesky\n",
    "  print '\\ninv:\\n', inv_\n",
    "  print '\\nfwd(inv):\\n', fwd_"
   ]
  },
  {
   "cell_type": "markdown",
   "metadata": {
    "colab_type": "text",
    "id": "HU6SK7DMuR6B"
   },
   "source": [
    "### Initial values\n",
    "\n",
    "We generate a tensor of initial values.  We're working with Cholesky factors, so we generate some Cholesky factor initial values."
   ]
  },
  {
   "cell_type": "code",
   "execution_count": null,
   "metadata": {
    "colab": {},
    "colab_type": "code",
    "id": "oIOjT1HxZg0C"
   },
   "outputs": [],
   "source": [
    "# The number of chains is determined by the shape of the initial values.\n",
    "# Here we'll generate 3 chains, so we'll need a tensor of 3 initial values.\n",
    "N_CHAINS = 3\n",
    "\n",
    "np.random.seed(123)\n",
    "\n",
    "initial_values_cholesky = []\n",
    "for i in range(N_CHAINS):\n",
    "  initial_values_cholesky.append(np.array(\n",
    "      [[0.5 + np.random.uniform(), 0.0],\n",
    "       [-0.5 + np.random.uniform(), 0.5 + np.random.uniform()]],\n",
    "      dtype=np.float32))\n",
    "initial_values_cholesky = np.stack(initial_values_cholesky)"
   ]
  },
  {
   "cell_type": "markdown",
   "metadata": {
    "colab_type": "text",
    "id": "VakfU-Tyuic4"
   },
   "source": [
    "### Sampling\n",
    "\n",
    "We sample N_CHAINS chains using the `TransformedTransitionKernel`."
   ]
  },
  {
   "cell_type": "code",
   "execution_count": null,
   "metadata": {
    "colab": {
     "base_uri": "https://localhost:8080/",
     "height": 272
    },
    "colab_type": "code",
    "id": "aFzFjNIoYre3",
    "outputId": "40807f56-267b-4aca-bebe-b434561a47b6"
   },
   "outputs": [],
   "source": [
    "# Code adapted from tensorflow_probability/python/mcmc/hmc.py\n",
    "with tf.Graph().as_default() as g:\n",
    "  tf.set_random_seed(123)\n",
    "  log_lik_fn = get_log_lik_cholesky(my_data)\n",
    "\n",
    "  # Tuning acceptance rates:\n",
    "  dtype = np.float32\n",
    "  num_warmup_iter = 2500\n",
    "  num_chain_iter = 2500\n",
    "\n",
    "  # Set the target average acceptance ratio for the HMC as suggested by\n",
    "  # Beskos et al. (2013):\n",
    "  # https://projecteuclid.org/download/pdfview_1/euclid.bj/1383661192\n",
    "  target_accept_rate = 0.651\n",
    "\n",
    "  x = tf.get_variable(name='x', initializer=initial_values_cholesky)\n",
    "  step_size = tf.get_variable(name='step_size',\n",
    "                              initializer=tf.constant(0.01, dtype=dtype))\n",
    "\n",
    "  # Initialize the HMC sampler, now wrapped in the TransformedTransitionKernel\n",
    "  ttk = tfp.mcmc.TransformedTransitionKernel(\n",
    "      inner_kernel=tfp.mcmc.HamiltonianMonteCarlo(\n",
    "      target_log_prob_fn=log_lik_fn,\n",
    "      step_size=step_size,\n",
    "      num_leapfrog_steps=3),\n",
    "      bijector=[unconstrained_to_precision_cholesky])\n",
    "\n",
    "  # One iteration\n",
    "  next_x, other_results = ttk.one_step(\n",
    "      current_state=x,\n",
    "      previous_kernel_results=ttk.bootstrap_results(x))\n",
    "\n",
    "  x_update = x.assign(next_x)\n",
    "  precision = tf.matmul(x, x, transpose_b=True)\n",
    "\n",
    "  # Adapt the step size using standard adaptive MCMC procedure. See Section 4.2\n",
    "  # of Andrieu and Thoms (2008):\n",
    "  # http://www4.ncsu.edu/~rsmith/MA797V_S12/Andrieu08_AdaptiveMCMC_Tutorial.pdf\n",
    "\n",
    "  # NOTE: one change from above is that we have to look at \n",
    "  # other_results.inner_results.log_accept_ratio, since the new kernel\n",
    "  # wraps the results from the HMC kernel.\n",
    "  step_size_update = step_size.assign_add(\n",
    "      step_size * tf.where(\n",
    "          tf.exp(tf.minimum(tf.reduce_mean(\n",
    "              other_results.inner_results.log_accept_ratio), 0.)) >\n",
    "              target_accept_rate,\n",
    "          x=0.1, y=-0.1))\n",
    "\n",
    "  # Note, the adaptations are performed during warmup only.\n",
    "  warmup = tf.group([x_update, step_size_update])\n",
    "\n",
    "  init = tf.global_variables_initializer()\n",
    "  \n",
    "  g.finalize()\n",
    "\n",
    "with tf.Session(graph=g) as sess:\n",
    "  # Initialize\n",
    "  sess.run(init)\n",
    "\n",
    "  # Warm up the sampler and adapt the step size\n",
    "  print 'Warmup'\n",
    "  start_time = time.time()\n",
    "  for i in range(num_warmup_iter):\n",
    "    sess.run(warmup)\n",
    "    if i % 500 == 0:\n",
    "      print 'Step %d' % i\n",
    "  end_time = time.time()\n",
    "  print 'Time per step:', (end_time - start_time) / num_warmup_iter\n",
    "  print 'Step size: %g' % sess.run(step_size)\n",
    "\n",
    "  # Collect samples without adapting step size\n",
    "  print 'Sampling'\n",
    "  start_time = time.time()\n",
    "  precision_samples = np.zeros([num_chain_iter, N_CHAINS, 2, 2])\n",
    "  results = []\n",
    "  for i in range(num_chain_iter):\n",
    "    _, precision_, other_results_ = sess.run(\n",
    "        [x_update, precision, other_results])\n",
    "    precision_samples[i, :] = precision_\n",
    "    results.append(other_results_)\n",
    "    if i % 500 == 0:\n",
    "      print 'Step %d' % i\n",
    "  end_time = time.time()\n",
    "  print 'Time per step:', (end_time - start_time) / num_chain_iter"
   ]
  },
  {
   "cell_type": "markdown",
   "metadata": {
    "colab_type": "text",
    "id": "9V5D9rCgurdK"
   },
   "source": [
    "### Convergence check"
   ]
  },
  {
   "cell_type": "markdown",
   "metadata": {
    "colab_type": "text",
    "id": "GKcXls81qwig"
   },
   "source": [
    "A quick convergence check looks good:"
   ]
  },
  {
   "cell_type": "code",
   "execution_count": null,
   "metadata": {
    "colab": {
     "base_uri": "https://localhost:8080/",
     "height": 68
    },
    "colab_type": "code",
    "id": "8S70eeurquGj",
    "outputId": "b6ff20bd-1941-470e-e84e-31e8b38b4e75"
   },
   "outputs": [],
   "source": [
    "with tf.Graph().as_default() as g:\n",
    "  r_hat = tfp.mcmc.potential_scale_reduction(precision_samples)\n",
    "  g.finalize()\n",
    "\n",
    "with tf.Session(graph=g) as sess:\n",
    "  print 'r_hat:\\n', sess.run(r_hat)"
   ]
  },
  {
   "cell_type": "markdown",
   "metadata": {
    "colab_type": "text",
    "id": "1jX-PqDluuaZ"
   },
   "source": [
    "### Comparing results to the analytic posterior"
   ]
  },
  {
   "cell_type": "code",
   "execution_count": null,
   "metadata": {
    "colab": {},
    "colab_type": "code",
    "id": "merfcOkkrKMS"
   },
   "outputs": [],
   "source": [
    "# The output samples have shape [n_steps, n_chains, 2, 2]\n",
    "# Flatten them to [n_steps * n_chains, 2, 2] via reshape:\n",
    "precision_samples_reshaped = np.reshape(precision_samples, newshape=[-1, 2, 2])"
   ]
  },
  {
   "cell_type": "markdown",
   "metadata": {
    "colab_type": "text",
    "id": "f15131B3skLj"
   },
   "source": [
    "And again, the sample means and standard deviations match those of the analytic posterior."
   ]
  },
  {
   "cell_type": "code",
   "execution_count": null,
   "metadata": {
    "colab": {
     "base_uri": "https://localhost:8080/",
     "height": 119
    },
    "colab_type": "code",
    "id": "ZzDUnYjLsDI3",
    "outputId": "434da413-e122-43ae-9401-d290d4dfb197"
   },
   "outputs": [],
   "source": [
    "print 'True posterior mean:\\n', posterior_mean\n",
    "print 'Mean of samples:\\n', np.mean(precision_samples_reshaped, axis=0)"
   ]
  },
  {
   "cell_type": "code",
   "execution_count": null,
   "metadata": {
    "colab": {
     "base_uri": "https://localhost:8080/",
     "height": 119
    },
    "colab_type": "code",
    "id": "C5ztGXbrsNSe",
    "outputId": "adddb44b-9d89-42e3-9d99-6485f6302741"
   },
   "outputs": [],
   "source": [
    "print 'True posterior standard deviation:\\n', posterior_sd\n",
    "print 'Standard deviation of samples:\\n', np.std(precision_samples_reshaped, axis=0)"
   ]
  },
  {
   "cell_type": "markdown",
   "metadata": {
    "colab_type": "text",
    "id": "dqFQDMOHsXED"
   },
   "source": [
    "Ok, all done!  We've got our optimized sampler working."
   ]
  }
 ],
 "metadata": {
  "colab": {
   "collapsed_sections": [],
   "name": "TensorFlow_Probability_Case_Study_Covariance_Estimation.ipynb",
   "provenance": [],
   "toc_visible": true,
   "version": "0.3.2"
  },
  "kernelspec": {
   "display_name": "Python 3",
   "language": "python",
   "name": "python3"
  },
  "language_info": {
   "codemirror_mode": {
    "name": "ipython",
    "version": 3
   },
   "file_extension": ".py",
   "mimetype": "text/x-python",
   "name": "python",
   "nbconvert_exporter": "python",
   "pygments_lexer": "ipython3",
   "version": "3.6.7"
  }
 },
 "nbformat": 4,
 "nbformat_minor": 1
}
