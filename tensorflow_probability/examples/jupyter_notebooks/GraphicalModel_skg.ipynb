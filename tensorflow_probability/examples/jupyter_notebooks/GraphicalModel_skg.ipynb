{
 "cells": [
  {
   "cell_type": "markdown",
   "metadata": {},
   "source": [
    "Basic imports needed:"
   ]
  },
  {
   "cell_type": "code",
   "execution_count": 4,
   "metadata": {},
   "outputs": [],
   "source": [
    "# from __future__ import print_function\n",
    "# import collections\n",
    "# tfe = tf.contrib.eager\n",
    "# try:\n",
    "#   tfe.enable_eager_execution()\n",
    "# except ValueError:\n",
    "#   pass\n",
    "\n",
    "import matplotlib.pyplot as plt\n",
    "import numpy as np\n",
    "\n",
    "import tensorflow as tf\n",
    "import tensorflow_probability as tfp\n",
    "tfd = tfp.distributions"
   ]
  },
  {
   "cell_type": "markdown",
   "metadata": {},
   "source": [
    "$\\theta_0$ : Make a batch of bernoulli distributions and draw samples from it $G_0$."
   ]
  },
  {
   "cell_type": "code",
   "execution_count": 51,
   "metadata": {},
   "outputs": [
    {
     "data": {
      "text/plain": [
       "<tf.Tensor 'theta_0/sample/Reshape:0' shape=(2, 2) dtype=int32>"
      ]
     },
     "execution_count": 51,
     "metadata": {},
     "output_type": "execute_result"
    }
   ],
   "source": [
    "theta_0 = tfd.Bernoulli(probs=[[0.9, 0.4],[0.3, 0.9]], name='theta_0')\n",
    "\n",
    "G_0 = theta_0.sample()\n",
    "\n",
    "G_0"
   ]
  },
  {
   "cell_type": "code",
   "execution_count": 6,
   "metadata": {},
   "outputs": [
    {
     "name": "stdout",
     "output_type": "stream",
     "text": [
      "[[1 1]\n",
      " [1 1]]\n"
     ]
    }
   ],
   "source": [
    "sess = tf.Session()\n",
    "G_0 = sess.run(G_0)\n",
    "print(G_0)\n",
    "# G_0"
   ]
  },
  {
   "cell_type": "markdown",
   "metadata": {},
   "source": [
    "Following method computes the Kronecker product two matrices. The convention is usually backwards that mat2 is scaled and block replicated on mat1 elementwise. Here lines are changed so that mat1 is scaled and block replicated on mat2. This is inline with the paper conventions."
   ]
  },
  {
   "cell_type": "code",
   "execution_count": 34,
   "metadata": {},
   "outputs": [],
   "source": [
    "def kronecker_product(mat1, mat2):\n",
    "    m1 = tf.shape(mat1)[0]\n",
    "    n1 = tf.size(mat1) // m1\n",
    "    m2 = tf.shape(mat2)[0]\n",
    "    n2 = tf.size(mat2) // m2\n",
    "#     mat1_rsh =tf.reshape(mat1, [m1, 1, n1, 1])\n",
    "    mat2_rsh =tf.reshape(mat1, [1, m1, 1, n1])\n",
    "#     mat2_rsh =tf.reshape(mat2, [1, m2, 1, n2])\n",
    "    mat1_rsh =tf.reshape(mat2, [m2, 1, n2, 1])\n",
    "    return tf.reshape(mat1_rsh*mat2_rsh, [m1 * m2, n1 * n2])\n",
    "#     return tf.reshape(tf.reshape(mat1_rsh * mat2_rsh, [m1 * m2, n1 * n2]),[-1])"
   ]
  },
  {
   "cell_type": "markdown",
   "metadata": {},
   "source": [
    "An example run:"
   ]
  },
  {
   "cell_type": "code",
   "execution_count": 41,
   "metadata": {},
   "outputs": [
    {
     "data": {
      "text/plain": [
       "array([[ 3.,  0.,  4.,  0.],\n",
       "       [ 3.,  0.,  4.,  0.],\n",
       "       [ 5.,  0.,  6.,  0.],\n",
       "       [ 5.,  0.,  6.,  0.]], dtype=float32)"
      ]
     },
     "execution_count": 41,
     "metadata": {},
     "output_type": "execute_result"
    }
   ],
   "source": [
    "a = tf.placeholder(tf.float32)\n",
    "b = tf.placeholder(tf.float32)\n",
    "c = kronecker_product(a,b)\n",
    "\n",
    "p = [[1.,0],[1.,0]]\n",
    "q = [[3,4],[5.,6.]]\n",
    "# c = sess.run(c, feed_dict={a:[[1.,0],[1.,0]], b:[[3.,4.],[5.,6.]]})\n",
    "c = sess.run(c, feed_dict={a:p, b:q})\n",
    "c"
   ]
  },
  {
   "cell_type": "markdown",
   "metadata": {},
   "source": [
    "Now make a batch of random Gaussian noise variables, given the matrix size: $\\eta$"
   ]
  },
  {
   "cell_type": "code",
   "execution_count": 53,
   "metadata": {},
   "outputs": [
    {
     "name": "stdout",
     "output_type": "stream",
     "text": [
      "[[ 2.12771988  0.95698589]\n",
      " [ 0.21071374 -1.17736316]]\n"
     ]
    }
   ],
   "source": [
    "P_k = tf.placeholder(tf.float32)\n",
    "\n",
    "mean = 0\n",
    "std = 1\n",
    "p_eta = tfd.Normal(loc=mean, scale=std)\n",
    "eta = p_eta.sample(tf.shape(P_k))\n",
    "probs = P_k + eta\n",
    "# a = tf.constant(P_k)\n",
    "# print(P_)\n",
    "\n",
    "# Eta = tfd.Normal(loc=np.repmat([0], Theta), scale=, name='EdgeNoise_small')\n",
    "\n",
    "print(sess.run(probs,feed_dict={P_k:[[1.,0],[1.,0]]}))"
   ]
  },
  {
   "cell_type": "code",
   "execution_count": null,
   "metadata": {},
   "outputs": [],
   "source": []
  }
 ],
 "metadata": {
  "kernelspec": {
   "display_name": "Python 3",
   "language": "python",
   "name": "python3"
  },
  "language_info": {
   "codemirror_mode": {
    "name": "ipython",
    "version": 3
   },
   "file_extension": ".py",
   "mimetype": "text/x-python",
   "name": "python",
   "nbconvert_exporter": "python",
   "pygments_lexer": "ipython3",
   "version": "3.6.0"
  }
 },
 "nbformat": 4,
 "nbformat_minor": 2
}
